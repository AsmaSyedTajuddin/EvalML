{
 "cells": [
  {
   "cell_type": "markdown",
   "id": "c215bc2b",
   "metadata": {
    "papermill": {
     "duration": 0.011739,
     "end_time": "2022-02-20T08:39:00.694589",
     "exception": false,
     "start_time": "2022-02-20T08:39:00.682850",
     "status": "completed"
    },
    "tags": []
   },
   "source": [
    "# Before Building Model"
   ]
  },
  {
   "cell_type": "code",
   "execution_count": 1,
   "id": "a33d7427",
   "metadata": {
    "_cell_guid": "b1076dfc-b9ad-4769-8c92-a6c4dae69d19",
    "_uuid": "8f2839f25d086af736a60e9eeb907d3b93b6e0e5",
    "execution": {
     "iopub.execute_input": "2022-02-20T08:39:00.720599Z",
     "iopub.status.busy": "2022-02-20T08:39:00.718745Z",
     "iopub.status.idle": "2022-02-20T08:39:49.430547Z",
     "shell.execute_reply": "2022-02-20T08:39:49.431187Z"
    },
    "papermill": {
     "duration": 48.727375,
     "end_time": "2022-02-20T08:39:49.431798",
     "exception": false,
     "start_time": "2022-02-20T08:39:00.704423",
     "status": "completed"
    },
    "tags": []
   },
   "outputs": [],
   "source": [
    "from IPython.display import clear_output\n",
    "!pip install evalml --user\n",
    "clear_output()\n",
    "\n",
    "import numpy as np\n",
    "import pandas as pd\n",
    "import os,random,warnings\n",
    "warnings.simplefilter('ignore')\n",
    "\n",
    "import evalml\n",
    "from evalml.automl import AutoMLSearch\n",
    "\n",
    "TRAIN_PATH = \"../input/widsdatathon2022/train.csv\"\n",
    "TEST_PATH = \"../input/widsdatathon2022/test.csv\"\n",
    "SAMPLE_SUBMISSION_PATH = \"../input/widsdatathon2022/sample_solution.csv\"\n",
    "SUBMISSION_PATH = \"submission.csv\"\n",
    "\n",
    "ID = \"id\"\n",
    "TARGET = \"site_eui\"\n",
    "\n",
    "SEED = 2022\n",
    "def seed_everything(seed=SEED):\n",
    "    random.seed(seed)\n",
    "    os.environ['PYTHONHASHSEED'] = str(seed)\n",
    "    np.random.seed(seed)\n",
    "\n",
    "seed_everything()\n",
    "\n",
    "MODEL_PROBLEM_TYPE = \"regression\"\n",
    "MODEL_MAX_BATCHES = 10\n",
    "MODEL_OBJECTIVE='Root Mean Squared Error'\n",
    "MODEL_OBJECTIVE_ADDITIONAL=['MSE', 'R2']\n",
    "MODEL_SAVE_PATH = \"house_price_evalml_model.pkl\""
   ]
  },
  {
   "cell_type": "code",
   "execution_count": 2,
   "id": "93306306",
   "metadata": {
    "execution": {
     "iopub.execute_input": "2022-02-20T08:39:49.455892Z",
     "iopub.status.busy": "2022-02-20T08:39:49.455130Z",
     "iopub.status.idle": "2022-02-20T08:39:49.463121Z",
     "shell.execute_reply": "2022-02-20T08:39:49.463840Z"
    },
    "papermill": {
     "duration": 0.022849,
     "end_time": "2022-02-20T08:39:49.464100",
     "exception": false,
     "start_time": "2022-02-20T08:39:49.441251",
     "status": "completed"
    },
    "tags": []
   },
   "outputs": [
    {
     "name": "stdout",
     "output_type": "stream",
     "text": [
      "ExpVariance\n",
      "MaxError\n",
      "MedianAE\n",
      "MSE\n",
      "MAE\n",
      "R2\n",
      "Root Mean Squared Error\n"
     ]
    }
   ],
   "source": [
    "from evalml.objectives import get_core_objectives\n",
    "from evalml.problem_types import ProblemTypes\n",
    "\n",
    "for objective in get_core_objectives(ProblemTypes.REGRESSION):\n",
    "    print(objective.name)"
   ]
  },
  {
   "cell_type": "markdown",
   "id": "2efac19f",
   "metadata": {
    "papermill": {
     "duration": 0.011121,
     "end_time": "2022-02-20T08:39:49.486304",
     "exception": false,
     "start_time": "2022-02-20T08:39:49.475183",
     "status": "completed"
    },
    "tags": []
   },
   "source": [
    "# Build Model"
   ]
  },
  {
   "cell_type": "code",
   "execution_count": 3,
   "id": "d28b87b6",
   "metadata": {
    "execution": {
     "iopub.execute_input": "2022-02-20T08:39:49.512236Z",
     "iopub.status.busy": "2022-02-20T08:39:49.511160Z",
     "iopub.status.idle": "2022-02-20T09:59:55.027379Z",
     "shell.execute_reply": "2022-02-20T09:59:55.026541Z"
    },
    "papermill": {
     "duration": 4805.530447,
     "end_time": "2022-02-20T09:59:55.027770",
     "exception": false,
     "start_time": "2022-02-20T08:39:49.497323",
     "status": "completed"
    },
    "tags": []
   },
   "outputs": [
    {
     "data": {
      "text/html": [
       "<style type='text/css'>\n",
       ".datatable table.frame { margin-bottom: 0; }\n",
       ".datatable table.frame thead { border-bottom: none; }\n",
       ".datatable table.frame tr.coltypes td {  color: #FFFFFF;  line-height: 6px;  padding: 0 0.5em;}\n",
       ".datatable .bool    { background: #DDDD99; }\n",
       ".datatable .object  { background: #565656; }\n",
       ".datatable .int     { background: #5D9E5D; }\n",
       ".datatable .float   { background: #4040CC; }\n",
       ".datatable .str     { background: #CC4040; }\n",
       ".datatable .time    { background: #40CC40; }\n",
       ".datatable .row_index {  background: var(--jp-border-color3);  border-right: 1px solid var(--jp-border-color0);  color: var(--jp-ui-font-color3);  font-size: 9px;}\n",
       ".datatable .frame tbody td { text-align: left; }\n",
       ".datatable .frame tr.coltypes .row_index {  background: var(--jp-border-color0);}\n",
       ".datatable th:nth-child(2) { padding-left: 12px; }\n",
       ".datatable .hellipsis {  color: var(--jp-cell-editor-border-color);}\n",
       ".datatable .vellipsis {  background: var(--jp-layout-color0);  color: var(--jp-cell-editor-border-color);}\n",
       ".datatable .na {  color: var(--jp-cell-editor-border-color);  font-size: 80%;}\n",
       ".datatable .sp {  opacity: 0.25;}\n",
       ".datatable .footer { font-size: 9px; }\n",
       ".datatable .frame_dimensions {  background: var(--jp-border-color3);  border-top: 1px solid var(--jp-border-color0);  color: var(--jp-ui-font-color3);  display: inline-block;  opacity: 0.6;  padding: 1px 10px 1px 5px;}\n",
       "</style>\n"
      ],
      "text/plain": [
       "<IPython.core.display.HTML object>"
      ]
     },
     "metadata": {},
     "output_type": "display_data"
    },
    {
     "data": {
      "text/html": [
       "<div>\n",
       "<style scoped>\n",
       "    .dataframe tbody tr th:only-of-type {\n",
       "        vertical-align: middle;\n",
       "    }\n",
       "\n",
       "    .dataframe tbody tr th {\n",
       "        vertical-align: top;\n",
       "    }\n",
       "\n",
       "    .dataframe thead th {\n",
       "        text-align: right;\n",
       "    }\n",
       "</style>\n",
       "<table border=\"1\" class=\"dataframe\">\n",
       "  <thead>\n",
       "    <tr style=\"text-align: right;\">\n",
       "      <th></th>\n",
       "      <th>id</th>\n",
       "      <th>pipeline_name</th>\n",
       "      <th>search_order</th>\n",
       "      <th>mean_cv_score</th>\n",
       "      <th>standard_deviation_cv_score</th>\n",
       "      <th>validation_score</th>\n",
       "      <th>percent_better_than_baseline</th>\n",
       "      <th>high_variance_cv</th>\n",
       "      <th>parameters</th>\n",
       "    </tr>\n",
       "  </thead>\n",
       "  <tbody>\n",
       "    <tr>\n",
       "      <th>0</th>\n",
       "      <td>39</td>\n",
       "      <td>CatBoost Regressor w/ Imputer</td>\n",
       "      <td>39</td>\n",
       "      <td>45.191334</td>\n",
       "      <td>2.344803</td>\n",
       "      <td>45.191334</td>\n",
       "      <td>21.757900</td>\n",
       "      <td>False</td>\n",
       "      <td>{'Imputer': {'categorical_impute_strategy': 'm...</td>\n",
       "    </tr>\n",
       "    <tr>\n",
       "      <th>2</th>\n",
       "      <td>9</td>\n",
       "      <td>XGBoost Regressor w/ Imputer + One Hot Encoder</td>\n",
       "      <td>9</td>\n",
       "      <td>45.519651</td>\n",
       "      <td>2.473636</td>\n",
       "      <td>45.519651</td>\n",
       "      <td>21.189468</td>\n",
       "      <td>False</td>\n",
       "      <td>{'Imputer': {'categorical_impute_strategy': 'm...</td>\n",
       "    </tr>\n",
       "    <tr>\n",
       "      <th>8</th>\n",
       "      <td>20</td>\n",
       "      <td>Random Forest Regressor w/ Imputer + One Hot E...</td>\n",
       "      <td>20</td>\n",
       "      <td>46.806593</td>\n",
       "      <td>2.068575</td>\n",
       "      <td>46.806593</td>\n",
       "      <td>18.961318</td>\n",
       "      <td>False</td>\n",
       "      <td>{'Imputer': {'categorical_impute_strategy': 'm...</td>\n",
       "    </tr>\n",
       "    <tr>\n",
       "      <th>14</th>\n",
       "      <td>50</td>\n",
       "      <td>LightGBM Regressor w/ Imputer + One Hot Encoder</td>\n",
       "      <td>50</td>\n",
       "      <td>47.848479</td>\n",
       "      <td>2.392774</td>\n",
       "      <td>47.848479</td>\n",
       "      <td>17.157448</td>\n",
       "      <td>False</td>\n",
       "      <td>{'Imputer': {'categorical_impute_strategy': 'm...</td>\n",
       "    </tr>\n",
       "    <tr>\n",
       "      <th>23</th>\n",
       "      <td>7</td>\n",
       "      <td>Extra Trees Regressor w/ Imputer + One Hot Enc...</td>\n",
       "      <td>7</td>\n",
       "      <td>50.130623</td>\n",
       "      <td>2.299500</td>\n",
       "      <td>50.130623</td>\n",
       "      <td>13.206253</td>\n",
       "      <td>False</td>\n",
       "      <td>{'Imputer': {'categorical_impute_strategy': 'm...</td>\n",
       "    </tr>\n",
       "    <tr>\n",
       "      <th>26</th>\n",
       "      <td>6</td>\n",
       "      <td>Decision Tree Regressor w/ Imputer + One Hot E...</td>\n",
       "      <td>6</td>\n",
       "      <td>50.724177</td>\n",
       "      <td>2.269236</td>\n",
       "      <td>50.724177</td>\n",
       "      <td>12.178601</td>\n",
       "      <td>False</td>\n",
       "      <td>{'Imputer': {'categorical_impute_strategy': 'm...</td>\n",
       "    </tr>\n",
       "    <tr>\n",
       "      <th>27</th>\n",
       "      <td>1</td>\n",
       "      <td>Elastic Net Regressor w/ Imputer + One Hot Enc...</td>\n",
       "      <td>1</td>\n",
       "      <td>50.935984</td>\n",
       "      <td>2.222189</td>\n",
       "      <td>50.935984</td>\n",
       "      <td>11.811889</td>\n",
       "      <td>False</td>\n",
       "      <td>{'Imputer': {'categorical_impute_strategy': 'm...</td>\n",
       "    </tr>\n",
       "    <tr>\n",
       "      <th>52</th>\n",
       "      <td>0</td>\n",
       "      <td>Mean Baseline Regression Pipeline</td>\n",
       "      <td>0</td>\n",
       "      <td>57.758335</td>\n",
       "      <td>2.149689</td>\n",
       "      <td>57.758335</td>\n",
       "      <td>0.000000</td>\n",
       "      <td>False</td>\n",
       "      <td>{'Baseline Regressor': {'strategy': 'mean'}}</td>\n",
       "    </tr>\n",
       "  </tbody>\n",
       "</table>\n",
       "</div>"
      ],
      "text/plain": [
       "    id                                      pipeline_name  search_order  \\\n",
       "0   39                      CatBoost Regressor w/ Imputer            39   \n",
       "2    9     XGBoost Regressor w/ Imputer + One Hot Encoder             9   \n",
       "8   20  Random Forest Regressor w/ Imputer + One Hot E...            20   \n",
       "14  50    LightGBM Regressor w/ Imputer + One Hot Encoder            50   \n",
       "23   7  Extra Trees Regressor w/ Imputer + One Hot Enc...             7   \n",
       "26   6  Decision Tree Regressor w/ Imputer + One Hot E...             6   \n",
       "27   1  Elastic Net Regressor w/ Imputer + One Hot Enc...             1   \n",
       "52   0                  Mean Baseline Regression Pipeline             0   \n",
       "\n",
       "    mean_cv_score  standard_deviation_cv_score  validation_score  \\\n",
       "0       45.191334                     2.344803         45.191334   \n",
       "2       45.519651                     2.473636         45.519651   \n",
       "8       46.806593                     2.068575         46.806593   \n",
       "14      47.848479                     2.392774         47.848479   \n",
       "23      50.130623                     2.299500         50.130623   \n",
       "26      50.724177                     2.269236         50.724177   \n",
       "27      50.935984                     2.222189         50.935984   \n",
       "52      57.758335                     2.149689         57.758335   \n",
       "\n",
       "    percent_better_than_baseline  high_variance_cv  \\\n",
       "0                      21.757900             False   \n",
       "2                      21.189468             False   \n",
       "8                      18.961318             False   \n",
       "14                     17.157448             False   \n",
       "23                     13.206253             False   \n",
       "26                     12.178601             False   \n",
       "27                     11.811889             False   \n",
       "52                      0.000000             False   \n",
       "\n",
       "                                           parameters  \n",
       "0   {'Imputer': {'categorical_impute_strategy': 'm...  \n",
       "2   {'Imputer': {'categorical_impute_strategy': 'm...  \n",
       "8   {'Imputer': {'categorical_impute_strategy': 'm...  \n",
       "14  {'Imputer': {'categorical_impute_strategy': 'm...  \n",
       "23  {'Imputer': {'categorical_impute_strategy': 'm...  \n",
       "26  {'Imputer': {'categorical_impute_strategy': 'm...  \n",
       "27  {'Imputer': {'categorical_impute_strategy': 'm...  \n",
       "52       {'Baseline Regressor': {'strategy': 'mean'}}  "
      ]
     },
     "metadata": {},
     "output_type": "display_data"
    },
    {
     "data": {
      "text/plain": [
       "pipeline = RegressionPipeline(component_graph={'Imputer': ['Imputer', 'X', 'y'], 'CatBoost Regressor': ['CatBoost Regressor', 'Imputer.x', 'y']}, parameters={'Imputer':{'categorical_impute_strategy': 'most_frequent', 'numeric_impute_strategy': 'median', 'categorical_fill_value': None, 'numeric_fill_value': None}, 'CatBoost Regressor':{'n_estimators': 74, 'eta': 0.05671392060446587, 'max_depth': 8, 'bootstrap_type': None, 'silent': False, 'allow_writing_files': False, 'n_jobs': -1}}, random_seed=0)"
      ]
     },
     "execution_count": 3,
     "metadata": {},
     "output_type": "execute_result"
    }
   ],
   "source": [
    "train = pd.read_csv(TRAIN_PATH)\n",
    "\n",
    "X = train.drop([ID,TARGET],axis=1)\n",
    "y= train[TARGET]\n",
    "\n",
    "X_train, X_val, y_train, y_val = evalml.preprocessing.split_data(X, y, problem_type=MODEL_PROBLEM_TYPE)\n",
    "\n",
    "automl = AutoMLSearch(\n",
    "    X_train=X_train, \n",
    "    y_train=y_train, \n",
    "    problem_type=MODEL_PROBLEM_TYPE,\n",
    "    objective=MODEL_OBJECTIVE,\n",
    "    additional_objectives=MODEL_OBJECTIVE_ADDITIONAL,\n",
    "    max_batches=MODEL_MAX_BATCHES,\n",
    "    optimize_thresholds=True\n",
    ")\n",
    "automl.search()\n",
    "\n",
    "display(automl.rankings)\n",
    "automl.best_pipeline.save(MODEL_SAVE_PATH)\n",
    "# check_model=automl.load('model.pkl')\n",
    "automl.best_pipeline"
   ]
  },
  {
   "cell_type": "code",
   "execution_count": 4,
   "id": "7d75ed74",
   "metadata": {
    "execution": {
     "iopub.execute_input": "2022-02-20T09:59:55.058456Z",
     "iopub.status.busy": "2022-02-20T09:59:55.057566Z",
     "iopub.status.idle": "2022-02-20T09:59:55.162899Z",
     "shell.execute_reply": "2022-02-20T09:59:55.164118Z"
    },
    "papermill": {
     "duration": 0.124602,
     "end_time": "2022-02-20T09:59:55.164397",
     "exception": false,
     "start_time": "2022-02-20T09:59:55.039795",
     "status": "completed"
    },
    "tags": []
   },
   "outputs": [
    {
     "name": "stdout",
     "output_type": "stream",
     "text": [
      "\n",
      "*********************************\n",
      "* CatBoost Regressor w/ Imputer *\n",
      "*********************************\n",
      "\n",
      "Problem Type: regression\n",
      "Model Family: CatBoost\n",
      "\n",
      "Pipeline Steps\n",
      "==============\n",
      "1. Imputer\n",
      "\t * categorical_impute_strategy : most_frequent\n",
      "\t * numeric_impute_strategy : median\n",
      "\t * categorical_fill_value : None\n",
      "\t * numeric_fill_value : None\n",
      "2. CatBoost Regressor\n",
      "\t * n_estimators : 74\n",
      "\t * eta : 0.05671392060446587\n",
      "\t * max_depth : 8\n",
      "\t * bootstrap_type : None\n",
      "\t * silent : False\n",
      "\t * allow_writing_files : False\n",
      "\t * n_jobs : -1\n",
      "\n",
      "Training\n",
      "========\n",
      "Training for regression problems.\n",
      "Total training time (including CV): 13.2 seconds\n",
      "\n",
      "Cross Validation\n",
      "----------------\n",
      "             Root Mean Squared Error      MSE    R2 # Training # Validation\n",
      "0                             47.586 2264.474 0.373     40,403       20,202\n",
      "1                             42.900 1840.441 0.411     40,403       20,202\n",
      "2                             45.087 2032.851 0.380     40,404       20,201\n",
      "mean                          45.191 2045.922 0.388          -            -\n",
      "std                            2.345  212.319 0.020          -            -\n",
      "coef of var                    0.052    0.104 0.052          -            -\n"
     ]
    }
   ],
   "source": [
    "automl.describe_pipeline(automl.rankings.iloc[0][\"id\"])"
   ]
  },
  {
   "cell_type": "code",
   "execution_count": 5,
   "id": "a285eb0d",
   "metadata": {
    "execution": {
     "iopub.execute_input": "2022-02-20T09:59:55.238092Z",
     "iopub.status.busy": "2022-02-20T09:59:55.236880Z",
     "iopub.status.idle": "2022-02-20T09:59:56.026399Z",
     "shell.execute_reply": "2022-02-20T09:59:56.024790Z"
    },
    "papermill": {
     "duration": 0.831411,
     "end_time": "2022-02-20T09:59:56.026699",
     "exception": false,
     "start_time": "2022-02-20T09:59:55.195288",
     "status": "completed"
    },
    "tags": []
   },
   "outputs": [
    {
     "data": {
      "text/plain": [
       "OrderedDict([('Root Mean Squared Error', 46.10136623937205),\n",
       "             ('MSE', 2125.3359691367127),\n",
       "             ('R2', 0.41186190851869675)])"
      ]
     },
     "execution_count": 5,
     "metadata": {},
     "output_type": "execute_result"
    }
   ],
   "source": [
    "automl.best_pipeline.score(X_val, y_val, objectives=[\"Root Mean Squared Error\",'MSE', 'R2'])"
   ]
  },
  {
   "cell_type": "markdown",
   "id": "47ff520c",
   "metadata": {
    "papermill": {
     "duration": 0.028032,
     "end_time": "2022-02-20T09:59:56.088229",
     "exception": false,
     "start_time": "2022-02-20T09:59:56.060197",
     "status": "completed"
    },
    "tags": []
   },
   "source": [
    "# After Building Model"
   ]
  },
  {
   "cell_type": "code",
   "execution_count": 6,
   "id": "37dfcf0b",
   "metadata": {
    "execution": {
     "iopub.execute_input": "2022-02-20T09:59:56.159116Z",
     "iopub.status.busy": "2022-02-20T09:59:56.158043Z",
     "iopub.status.idle": "2022-02-20T09:59:56.864964Z",
     "shell.execute_reply": "2022-02-20T09:59:56.864134Z"
    },
    "papermill": {
     "duration": 0.745541,
     "end_time": "2022-02-20T09:59:56.865145",
     "exception": false,
     "start_time": "2022-02-20T09:59:56.119604",
     "status": "completed"
    },
    "tags": []
   },
   "outputs": [
    {
     "data": {
      "text/html": [
       "<div>\n",
       "<style scoped>\n",
       "    .dataframe tbody tr th:only-of-type {\n",
       "        vertical-align: middle;\n",
       "    }\n",
       "\n",
       "    .dataframe tbody tr th {\n",
       "        vertical-align: top;\n",
       "    }\n",
       "\n",
       "    .dataframe thead th {\n",
       "        text-align: right;\n",
       "    }\n",
       "</style>\n",
       "<table border=\"1\" class=\"dataframe\">\n",
       "  <thead>\n",
       "    <tr style=\"text-align: right;\">\n",
       "      <th></th>\n",
       "      <th>id</th>\n",
       "      <th>site_eui</th>\n",
       "    </tr>\n",
       "  </thead>\n",
       "  <tbody>\n",
       "    <tr>\n",
       "      <th>0</th>\n",
       "      <td>75757</td>\n",
       "      <td>232.211534</td>\n",
       "    </tr>\n",
       "    <tr>\n",
       "      <th>1</th>\n",
       "      <td>75758</td>\n",
       "      <td>204.460317</td>\n",
       "    </tr>\n",
       "    <tr>\n",
       "      <th>2</th>\n",
       "      <td>75759</td>\n",
       "      <td>270.711677</td>\n",
       "    </tr>\n",
       "    <tr>\n",
       "      <th>3</th>\n",
       "      <td>75760</td>\n",
       "      <td>246.140194</td>\n",
       "    </tr>\n",
       "    <tr>\n",
       "      <th>4</th>\n",
       "      <td>75761</td>\n",
       "      <td>243.041124</td>\n",
       "    </tr>\n",
       "    <tr>\n",
       "      <th>5</th>\n",
       "      <td>75762</td>\n",
       "      <td>256.382284</td>\n",
       "    </tr>\n",
       "    <tr>\n",
       "      <th>6</th>\n",
       "      <td>75763</td>\n",
       "      <td>247.994780</td>\n",
       "    </tr>\n",
       "    <tr>\n",
       "      <th>7</th>\n",
       "      <td>75764</td>\n",
       "      <td>235.270684</td>\n",
       "    </tr>\n",
       "    <tr>\n",
       "      <th>8</th>\n",
       "      <td>75765</td>\n",
       "      <td>183.938070</td>\n",
       "    </tr>\n",
       "    <tr>\n",
       "      <th>9</th>\n",
       "      <td>75766</td>\n",
       "      <td>270.494812</td>\n",
       "    </tr>\n",
       "  </tbody>\n",
       "</table>\n",
       "</div>"
      ],
      "text/plain": [
       "      id    site_eui\n",
       "0  75757  232.211534\n",
       "1  75758  204.460317\n",
       "2  75759  270.711677\n",
       "3  75760  246.140194\n",
       "4  75761  243.041124\n",
       "5  75762  256.382284\n",
       "6  75763  247.994780\n",
       "7  75764  235.270684\n",
       "8  75765  183.938070\n",
       "9  75766  270.494812"
      ]
     },
     "execution_count": 6,
     "metadata": {},
     "output_type": "execute_result"
    }
   ],
   "source": [
    "test = pd.read_csv(TEST_PATH)\n",
    "X_test = test.drop([ID],axis=1)\n",
    "\n",
    "sub = pd.read_csv(SAMPLE_SUBMISSION_PATH)\n",
    "sub[TARGET] = automl.best_pipeline.predict(X_test)\n",
    "sub.to_csv(SUBMISSION_PATH,index=False)\n",
    "sub.head(10)"
   ]
  }
 ],
 "metadata": {
  "kernelspec": {
   "display_name": "Python 3",
   "language": "python",
   "name": "python3"
  },
  "language_info": {
   "codemirror_mode": {
    "name": "ipython",
    "version": 3
   },
   "file_extension": ".py",
   "mimetype": "text/x-python",
   "name": "python",
   "nbconvert_exporter": "python",
   "pygments_lexer": "ipython3",
   "version": "3.7.12"
  },
  "papermill": {
   "default_parameters": {},
   "duration": 4873.159977,
   "end_time": "2022-02-20T09:59:59.618748",
   "environment_variables": {},
   "exception": null,
   "input_path": "__notebook__.ipynb",
   "output_path": "__notebook__.ipynb",
   "parameters": {},
   "start_time": "2022-02-20T08:38:46.458771",
   "version": "2.3.3"
  }
 },
 "nbformat": 4,
 "nbformat_minor": 5
}
