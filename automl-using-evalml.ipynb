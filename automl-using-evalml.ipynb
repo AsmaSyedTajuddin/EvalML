{
 "cells": [
  {
   "cell_type": "markdown",
   "id": "verbal-flood",
   "metadata": {
    "papermill": {
     "duration": 0.014182,
     "end_time": "2021-04-29T04:05:59.450704",
     "exception": false,
     "start_time": "2021-04-29T04:05:59.436522",
     "status": "completed"
    },
    "tags": []
   },
   "source": [
    "## Notebook - Table of Contents\n",
    "\n",
    "\n",
    "1. [**Basic**](#1.-Basic)  \n",
    "    1.1 [**Importing the necessary libraries & installing EvalML**](#1.1-Importing-the-necessary-libraries-&-installing-EvalML)    \n",
    "    1.2 [**Loading the income data and basic analysis**](#1.2-Loading-the-income-data-and-basic-analysis)         \n",
    "2. [**Splitting into train-test set**](#2.-Splitting-into-train-test-set) \n",
    "3. [**Finding best ML model pipeline using EvalML**](#3.-Finding-best-ML-model-pipeline-using-EvalML)  \n",
    "4. [**Interacting with pipelines**](#4.-Interacting-with-pipelines)                         \n",
    "5. [**Evaluating the best pipeline on test data**](#5.-Evaluating-the-best-pipeline-on-test-data)  "
   ]
  },
  {
   "cell_type": "markdown",
   "id": "compound-electric",
   "metadata": {
    "papermill": {
     "duration": 0.012676,
     "end_time": "2021-04-29T04:05:59.476581",
     "exception": false,
     "start_time": "2021-04-29T04:05:59.463905",
     "status": "completed"
    },
    "tags": []
   },
   "source": [
    "### 1. Basic\n",
    "\n",
    "#### 1.1 Importing the necessary libraries & installing EvalML"
   ]
  },
  {
   "cell_type": "code",
   "execution_count": 1,
   "id": "fiscal-tribune",
   "metadata": {
    "execution": {
     "iopub.execute_input": "2021-04-29T04:05:59.508320Z",
     "iopub.status.busy": "2021-04-29T04:05:59.507758Z",
     "iopub.status.idle": "2021-04-29T04:06:00.458582Z",
     "shell.execute_reply": "2021-04-29T04:06:00.457518Z"
    },
    "papermill": {
     "duration": 0.969229,
     "end_time": "2021-04-29T04:06:00.458822",
     "exception": false,
     "start_time": "2021-04-29T04:05:59.489593",
     "status": "completed"
    },
    "tags": []
   },
   "outputs": [],
   "source": [
    "import numpy as np \n",
    "import pandas as pd\n",
    "import matplotlib.pyplot as plt\n",
    "import seaborn as sns\n",
    "%matplotlib inline"
   ]
  },
  {
   "cell_type": "code",
   "execution_count": 2,
   "id": "victorian-birthday",
   "metadata": {
    "execution": {
     "iopub.execute_input": "2021-04-29T04:06:00.496325Z",
     "iopub.status.busy": "2021-04-29T04:06:00.495341Z",
     "iopub.status.idle": "2021-04-29T04:06:49.963934Z",
     "shell.execute_reply": "2021-04-29T04:06:49.963400Z"
    },
    "papermill": {
     "duration": 49.486821,
     "end_time": "2021-04-29T04:06:49.964083",
     "exception": false,
     "start_time": "2021-04-29T04:06:00.477262",
     "status": "completed"
    },
    "tags": []
   },
   "outputs": [
    {
     "name": "stdout",
     "output_type": "stream",
     "text": [
      "Collecting EvalML\r\n",
      "  Downloading evalml-0.23.0-py3-none-any.whl (6.2 MB)\r\n",
      "\u001b[K     |████████████████████████████████| 6.2 MB 1.1 MB/s \r\n",
      "\u001b[?25hRequirement already satisfied: plotly>=4.14.0 in /opt/conda/lib/python3.7/site-packages (from EvalML) (4.14.3)\r\n",
      "Collecting woodwork==0.0.11\r\n",
      "  Downloading woodwork-0.0.11-py3-none-any.whl (91 kB)\r\n",
      "\u001b[K     |████████████████████████████████| 91 kB 3.5 MB/s \r\n",
      "\u001b[?25hRequirement already satisfied: statsmodels>=0.12.2 in /opt/conda/lib/python3.7/site-packages (from EvalML) (0.12.2)\r\n",
      "Requirement already satisfied: colorama in /opt/conda/lib/python3.7/site-packages (from EvalML) (0.4.4)\r\n",
      "Requirement already satisfied: ipywidgets>=7.5 in /opt/conda/lib/python3.7/site-packages (from EvalML) (7.6.3)\r\n",
      "Collecting pyzmq<22.0.0\r\n",
      "  Downloading pyzmq-21.0.2-cp37-cp37m-manylinux1_x86_64.whl (6.7 MB)\r\n",
      "\u001b[K     |████████████████████████████████| 6.7 MB 5.9 MB/s \r\n",
      "\u001b[?25hRequirement already satisfied: scipy>=1.2.1 in /opt/conda/lib/python3.7/site-packages (from EvalML) (1.5.4)\r\n",
      "Collecting xgboost<1.3.0,>=0.82\r\n",
      "  Downloading xgboost-1.2.1-py3-none-manylinux2010_x86_64.whl (148.9 MB)\r\n",
      "\u001b[K     |████████████████████████████████| 148.9 MB 82 kB/s \r\n",
      "\u001b[?25hCollecting lightgbm<3.1.0,>=2.3.1\r\n",
      "  Downloading lightgbm-3.0.0-py2.py3-none-manylinux1_x86_64.whl (1.7 MB)\r\n",
      "\u001b[K     |████████████████████████████████| 1.7 MB 32.7 MB/s \r\n",
      "\u001b[?25hRequirement already satisfied: psutil>=5.6.3 in /opt/conda/lib/python3.7/site-packages (from EvalML) (5.8.0)\r\n",
      "Requirement already satisfied: networkx>=2.5 in /opt/conda/lib/python3.7/site-packages (from EvalML) (2.5)\r\n",
      "Requirement already satisfied: texttable>=1.6.2 in /opt/conda/lib/python3.7/site-packages (from EvalML) (1.6.3)\r\n",
      "Requirement already satisfied: featuretools>=0.20.0 in /opt/conda/lib/python3.7/site-packages (from EvalML) (0.23.2)\r\n",
      "Requirement already satisfied: imbalanced-learn>=0.7.0 in /opt/conda/lib/python3.7/site-packages (from EvalML) (0.8.0)\r\n",
      "Requirement already satisfied: category-encoders>=2.0.0 in /opt/conda/lib/python3.7/site-packages (from EvalML) (2.2.2)\r\n",
      "Collecting graphviz>=0.13\r\n",
      "  Downloading graphviz-0.16-py2.py3-none-any.whl (19 kB)\r\n",
      "Requirement already satisfied: shap>=0.35.0 in /opt/conda/lib/python3.7/site-packages (from EvalML) (0.39.0)\r\n",
      "Collecting nlp-primitives>=1.1.0\r\n",
      "  Downloading nlp_primitives-1.1.0-py3-none-any.whl (18.0 MB)\r\n",
      "\u001b[K     |████████████████████████████████| 18.0 MB 878 kB/s \r\n",
      "\u001b[?25hCollecting kaleido>=0.1.0\r\n",
      "  Downloading kaleido-0.2.1-py2.py3-none-manylinux1_x86_64.whl (79.9 MB)\r\n",
      "\u001b[K     |████████████████████████████████| 79.9 MB 170 kB/s \r\n",
      "\u001b[?25hRequirement already satisfied: dask>=2.12.0 in /opt/conda/lib/python3.7/site-packages (from EvalML) (2021.3.1)\r\n",
      "Collecting sktime>=0.5.3\r\n",
      "  Downloading sktime-0.6.0-cp37-cp37m-manylinux2014_x86_64.whl (5.7 MB)\r\n",
      "\u001b[K     |████████████████████████████████| 5.7 MB 19.3 MB/s \r\n",
      "\u001b[?25hRequirement already satisfied: cloudpickle>=0.2.2 in /opt/conda/lib/python3.7/site-packages (from EvalML) (1.6.0)\r\n",
      "Requirement already satisfied: matplotlib>=3.3.3 in /opt/conda/lib/python3.7/site-packages (from EvalML) (3.4.0)\r\n",
      "Requirement already satisfied: scikit-optimize>=0.8.1 in /opt/conda/lib/python3.7/site-packages (from EvalML) (0.8.1)\r\n",
      "Requirement already satisfied: catboost>=0.20 in /opt/conda/lib/python3.7/site-packages (from EvalML) (0.25)\r\n",
      "Collecting requirements-parser>=0.2.0\r\n",
      "  Downloading requirements-parser-0.2.0.tar.gz (6.3 kB)\r\n",
      "Requirement already satisfied: numpy>=1.19.1 in /opt/conda/lib/python3.7/site-packages (from EvalML) (1.19.5)\r\n",
      "Requirement already satisfied: click>=7.0.0 in /opt/conda/lib/python3.7/site-packages (from EvalML) (7.1.2)\r\n",
      "Requirement already satisfied: scikit-learn>=0.23.1 in /opt/conda/lib/python3.7/site-packages (from EvalML) (0.24.1)\r\n",
      "Requirement already satisfied: seaborn>=0.11.1 in /opt/conda/lib/python3.7/site-packages (from EvalML) (0.11.1)\r\n",
      "Requirement already satisfied: pandas>=1.1.0 in /opt/conda/lib/python3.7/site-packages (from EvalML) (1.2.2)\r\n",
      "Requirement already satisfied: six in /opt/conda/lib/python3.7/site-packages (from catboost>=0.20->EvalML) (1.15.0)\r\n",
      "Requirement already satisfied: patsy>=0.5.1 in /opt/conda/lib/python3.7/site-packages (from category-encoders>=2.0.0->EvalML) (0.5.1)\r\n",
      "Requirement already satisfied: pyyaml in /opt/conda/lib/python3.7/site-packages (from dask>=2.12.0->EvalML) (5.3.1)\r\n",
      "Requirement already satisfied: fsspec>=0.6.0 in /opt/conda/lib/python3.7/site-packages (from dask>=2.12.0->EvalML) (0.8.5)\r\n",
      "Requirement already satisfied: partd>=0.3.10 in /opt/conda/lib/python3.7/site-packages (from dask>=2.12.0->EvalML) (1.1.0)\r\n",
      "Requirement already satisfied: toolz>=0.8.2 in /opt/conda/lib/python3.7/site-packages (from dask>=2.12.0->EvalML) (0.11.1)\r\n",
      "Requirement already satisfied: tqdm>=4.32.0 in /opt/conda/lib/python3.7/site-packages (from featuretools>=0.20.0->EvalML) (4.56.2)\r\n",
      "Requirement already satisfied: distributed>=2.12.0 in /opt/conda/lib/python3.7/site-packages (from featuretools>=0.20.0->EvalML) (2021.3.1)\r\n",
      "Requirement already satisfied: sortedcontainers!=2.0.0,!=2.0.1 in /opt/conda/lib/python3.7/site-packages (from distributed>=2.12.0->featuretools>=0.20.0->EvalML) (2.3.0)\r\n",
      "Requirement already satisfied: tornado>=5 in /opt/conda/lib/python3.7/site-packages (from distributed>=2.12.0->featuretools>=0.20.0->EvalML) (5.0.2)\r\n",
      "Requirement already satisfied: zict>=0.1.3 in /opt/conda/lib/python3.7/site-packages (from distributed>=2.12.0->featuretools>=0.20.0->EvalML) (2.0.0)\r\n",
      "Requirement already satisfied: tblib>=1.6.0 in /opt/conda/lib/python3.7/site-packages (from distributed>=2.12.0->featuretools>=0.20.0->EvalML) (1.7.0)\r\n",
      "Requirement already satisfied: setuptools in /opt/conda/lib/python3.7/site-packages (from distributed>=2.12.0->featuretools>=0.20.0->EvalML) (49.6.0.post20210108)\r\n",
      "Requirement already satisfied: msgpack>=0.6.0 in /opt/conda/lib/python3.7/site-packages (from distributed>=2.12.0->featuretools>=0.20.0->EvalML) (1.0.2)\r\n",
      "Requirement already satisfied: joblib>=0.11 in /opt/conda/lib/python3.7/site-packages (from imbalanced-learn>=0.7.0->EvalML) (1.0.1)\r\n",
      "Requirement already satisfied: ipython>=4.0.0 in /opt/conda/lib/python3.7/site-packages (from ipywidgets>=7.5->EvalML) (7.20.0)\r\n",
      "Requirement already satisfied: widgetsnbextension~=3.5.0 in /opt/conda/lib/python3.7/site-packages (from ipywidgets>=7.5->EvalML) (3.5.1)\r\n",
      "Requirement already satisfied: traitlets>=4.3.1 in /opt/conda/lib/python3.7/site-packages (from ipywidgets>=7.5->EvalML) (5.0.5)\r\n",
      "Requirement already satisfied: ipykernel>=4.5.1 in /opt/conda/lib/python3.7/site-packages (from ipywidgets>=7.5->EvalML) (5.1.1)\r\n",
      "Requirement already satisfied: jupyterlab-widgets>=1.0.0 in /opt/conda/lib/python3.7/site-packages (from ipywidgets>=7.5->EvalML) (1.0.0)\r\n",
      "Requirement already satisfied: nbformat>=4.2.0 in /opt/conda/lib/python3.7/site-packages (from ipywidgets>=7.5->EvalML) (5.1.2)\r\n",
      "Requirement already satisfied: jupyter-client in /opt/conda/lib/python3.7/site-packages (from ipykernel>=4.5.1->ipywidgets>=7.5->EvalML) (6.1.11)\r\n",
      "Requirement already satisfied: backcall in /opt/conda/lib/python3.7/site-packages (from ipython>=4.0.0->ipywidgets>=7.5->EvalML) (0.2.0)\r\n",
      "Requirement already satisfied: pickleshare in /opt/conda/lib/python3.7/site-packages (from ipython>=4.0.0->ipywidgets>=7.5->EvalML) (0.7.5)\r\n",
      "Requirement already satisfied: pygments in /opt/conda/lib/python3.7/site-packages (from ipython>=4.0.0->ipywidgets>=7.5->EvalML) (2.8.0)\r\n",
      "Requirement already satisfied: pexpect>4.3 in /opt/conda/lib/python3.7/site-packages (from ipython>=4.0.0->ipywidgets>=7.5->EvalML) (4.8.0)\r\n",
      "Requirement already satisfied: prompt-toolkit!=3.0.0,!=3.0.1,<3.1.0,>=2.0.0 in /opt/conda/lib/python3.7/site-packages (from ipython>=4.0.0->ipywidgets>=7.5->EvalML) (3.0.16)\r\n",
      "Requirement already satisfied: decorator in /opt/conda/lib/python3.7/site-packages (from ipython>=4.0.0->ipywidgets>=7.5->EvalML) (4.4.2)\r\n",
      "Requirement already satisfied: jedi>=0.16 in /opt/conda/lib/python3.7/site-packages (from ipython>=4.0.0->ipywidgets>=7.5->EvalML) (0.17.2)\r\n",
      "Requirement already satisfied: parso<0.8.0,>=0.7.0 in /opt/conda/lib/python3.7/site-packages (from jedi>=0.16->ipython>=4.0.0->ipywidgets>=7.5->EvalML) (0.7.1)\r\n",
      "Requirement already satisfied: python-dateutil>=2.7 in /opt/conda/lib/python3.7/site-packages (from matplotlib>=3.3.3->EvalML) (2.8.1)\r\n",
      "Requirement already satisfied: pillow>=6.2.0 in /opt/conda/lib/python3.7/site-packages (from matplotlib>=3.3.3->EvalML) (7.2.0)\r\n",
      "Requirement already satisfied: kiwisolver>=1.0.1 in /opt/conda/lib/python3.7/site-packages (from matplotlib>=3.3.3->EvalML) (1.3.1)\r\n",
      "Requirement already satisfied: pyparsing>=2.2.1 in /opt/conda/lib/python3.7/site-packages (from matplotlib>=3.3.3->EvalML) (2.4.7)\r\n",
      "Requirement already satisfied: cycler>=0.10 in /opt/conda/lib/python3.7/site-packages (from matplotlib>=3.3.3->EvalML) (0.10.0)\r\n",
      "Requirement already satisfied: jsonschema!=2.5.0,>=2.4 in /opt/conda/lib/python3.7/site-packages (from nbformat>=4.2.0->ipywidgets>=7.5->EvalML) (3.2.0)\r\n",
      "Requirement already satisfied: ipython-genutils in /opt/conda/lib/python3.7/site-packages (from nbformat>=4.2.0->ipywidgets>=7.5->EvalML) (0.2.0)\r\n",
      "Requirement already satisfied: jupyter-core in /opt/conda/lib/python3.7/site-packages (from nbformat>=4.2.0->ipywidgets>=7.5->EvalML) (4.7.1)\r\n",
      "Requirement already satisfied: attrs>=17.4.0 in /opt/conda/lib/python3.7/site-packages (from jsonschema!=2.5.0,>=2.4->nbformat>=4.2.0->ipywidgets>=7.5->EvalML) (20.3.0)\r\n",
      "Requirement already satisfied: importlib-metadata in /opt/conda/lib/python3.7/site-packages (from jsonschema!=2.5.0,>=2.4->nbformat>=4.2.0->ipywidgets>=7.5->EvalML) (3.4.0)\r\n",
      "Requirement already satisfied: pyrsistent>=0.14.0 in /opt/conda/lib/python3.7/site-packages (from jsonschema!=2.5.0,>=2.4->nbformat>=4.2.0->ipywidgets>=7.5->EvalML) (0.17.3)\r\n",
      "Collecting nltk>=3.4.5\r\n",
      "  Downloading nltk-3.6.2-py3-none-any.whl (1.5 MB)\r\n",
      "\u001b[K     |████████████████████████████████| 1.5 MB 35.2 MB/s \r\n",
      "\u001b[?25hRequirement already satisfied: regex in /opt/conda/lib/python3.7/site-packages (from nltk>=3.4.5->nlp-primitives>=1.1.0->EvalML) (2020.11.13)\r\n",
      "Requirement already satisfied: pytz>=2017.3 in /opt/conda/lib/python3.7/site-packages (from pandas>=1.1.0->EvalML) (2021.1)\r\n",
      "Requirement already satisfied: locket in /opt/conda/lib/python3.7/site-packages (from partd>=0.3.10->dask>=2.12.0->EvalML) (0.2.1)\r\n",
      "Requirement already satisfied: ptyprocess>=0.5 in /opt/conda/lib/python3.7/site-packages (from pexpect>4.3->ipython>=4.0.0->ipywidgets>=7.5->EvalML) (0.7.0)\r\n",
      "Requirement already satisfied: retrying>=1.3.3 in /opt/conda/lib/python3.7/site-packages (from plotly>=4.14.0->EvalML) (1.3.3)\r\n",
      "Requirement already satisfied: wcwidth in /opt/conda/lib/python3.7/site-packages (from prompt-toolkit!=3.0.0,!=3.0.1,<3.1.0,>=2.0.0->ipython>=4.0.0->ipywidgets>=7.5->EvalML) (0.2.5)\r\n",
      "Requirement already satisfied: threadpoolctl>=2.0.0 in /opt/conda/lib/python3.7/site-packages (from scikit-learn>=0.23.1->EvalML) (2.1.0)\r\n",
      "Requirement already satisfied: pyaml>=16.9 in /opt/conda/lib/python3.7/site-packages (from scikit-optimize>=0.8.1->EvalML) (20.4.0)\r\n",
      "Requirement already satisfied: numba in /opt/conda/lib/python3.7/site-packages (from shap>=0.35.0->EvalML) (0.52.0)\r\n",
      "Requirement already satisfied: slicer==0.0.7 in /opt/conda/lib/python3.7/site-packages (from shap>=0.35.0->EvalML) (0.0.7)\r\n",
      "Requirement already satisfied: wheel in /opt/conda/lib/python3.7/site-packages (from sktime>=0.5.3->EvalML) (0.36.2)\r\n",
      "Requirement already satisfied: llvmlite<0.36,>=0.35.0 in /opt/conda/lib/python3.7/site-packages (from numba->shap>=0.35.0->EvalML) (0.35.0)\r\n",
      "Requirement already satisfied: notebook>=4.4.1 in /opt/conda/lib/python3.7/site-packages (from widgetsnbextension~=3.5.0->ipywidgets>=7.5->EvalML) (5.5.0)\r\n",
      "Requirement already satisfied: nbconvert in /opt/conda/lib/python3.7/site-packages (from notebook>=4.4.1->widgetsnbextension~=3.5.0->ipywidgets>=7.5->EvalML) (6.0.7)\r\n",
      "Requirement already satisfied: Send2Trash in /opt/conda/lib/python3.7/site-packages (from notebook>=4.4.1->widgetsnbextension~=3.5.0->ipywidgets>=7.5->EvalML) (1.5.0)\r\n",
      "Requirement already satisfied: terminado>=0.8.1 in /opt/conda/lib/python3.7/site-packages (from notebook>=4.4.1->widgetsnbextension~=3.5.0->ipywidgets>=7.5->EvalML) (0.9.2)\r\n",
      "Requirement already satisfied: jinja2 in /opt/conda/lib/python3.7/site-packages (from notebook>=4.4.1->widgetsnbextension~=3.5.0->ipywidgets>=7.5->EvalML) (2.11.3)\r\n",
      "Requirement already satisfied: heapdict in /opt/conda/lib/python3.7/site-packages (from zict>=0.1.3->distributed>=2.12.0->featuretools>=0.20.0->EvalML) (1.0.1)\r\n",
      "Requirement already satisfied: typing-extensions>=3.6.4 in /opt/conda/lib/python3.7/site-packages (from importlib-metadata->jsonschema!=2.5.0,>=2.4->nbformat>=4.2.0->ipywidgets>=7.5->EvalML) (3.7.4.3)\r\n",
      "Requirement already satisfied: zipp>=0.5 in /opt/conda/lib/python3.7/site-packages (from importlib-metadata->jsonschema!=2.5.0,>=2.4->nbformat>=4.2.0->ipywidgets>=7.5->EvalML) (3.4.0)\r\n",
      "Requirement already satisfied: MarkupSafe>=0.23 in /opt/conda/lib/python3.7/site-packages (from jinja2->notebook>=4.4.1->widgetsnbextension~=3.5.0->ipywidgets>=7.5->EvalML) (1.1.1)\r\n",
      "Requirement already satisfied: bleach in /opt/conda/lib/python3.7/site-packages (from nbconvert->notebook>=4.4.1->widgetsnbextension~=3.5.0->ipywidgets>=7.5->EvalML) (3.3.0)\r\n",
      "Requirement already satisfied: mistune<2,>=0.8.1 in /opt/conda/lib/python3.7/site-packages (from nbconvert->notebook>=4.4.1->widgetsnbextension~=3.5.0->ipywidgets>=7.5->EvalML) (0.8.4)\r\n",
      "Requirement already satisfied: testpath in /opt/conda/lib/python3.7/site-packages (from nbconvert->notebook>=4.4.1->widgetsnbextension~=3.5.0->ipywidgets>=7.5->EvalML) (0.4.4)\r\n",
      "Requirement already satisfied: entrypoints>=0.2.2 in /opt/conda/lib/python3.7/site-packages (from nbconvert->notebook>=4.4.1->widgetsnbextension~=3.5.0->ipywidgets>=7.5->EvalML) (0.3)\r\n",
      "Requirement already satisfied: pandocfilters>=1.4.1 in /opt/conda/lib/python3.7/site-packages (from nbconvert->notebook>=4.4.1->widgetsnbextension~=3.5.0->ipywidgets>=7.5->EvalML) (1.4.2)\r\n",
      "Requirement already satisfied: jupyterlab-pygments in /opt/conda/lib/python3.7/site-packages (from nbconvert->notebook>=4.4.1->widgetsnbextension~=3.5.0->ipywidgets>=7.5->EvalML) (0.1.2)\r\n",
      "Requirement already satisfied: defusedxml in /opt/conda/lib/python3.7/site-packages (from nbconvert->notebook>=4.4.1->widgetsnbextension~=3.5.0->ipywidgets>=7.5->EvalML) (0.6.0)\r\n",
      "Requirement already satisfied: nbclient<0.6.0,>=0.5.0 in /opt/conda/lib/python3.7/site-packages (from nbconvert->notebook>=4.4.1->widgetsnbextension~=3.5.0->ipywidgets>=7.5->EvalML) (0.5.2)\r\n",
      "Requirement already satisfied: nest-asyncio in /opt/conda/lib/python3.7/site-packages (from nbclient<0.6.0,>=0.5.0->nbconvert->notebook>=4.4.1->widgetsnbextension~=3.5.0->ipywidgets>=7.5->EvalML) (1.4.3)\r\n",
      "Requirement already satisfied: async-generator in /opt/conda/lib/python3.7/site-packages (from nbclient<0.6.0,>=0.5.0->nbconvert->notebook>=4.4.1->widgetsnbextension~=3.5.0->ipywidgets>=7.5->EvalML) (1.10)\r\n",
      "Requirement already satisfied: webencodings in /opt/conda/lib/python3.7/site-packages (from bleach->nbconvert->notebook>=4.4.1->widgetsnbextension~=3.5.0->ipywidgets>=7.5->EvalML) (0.5.1)\r\n",
      "Requirement already satisfied: packaging in /opt/conda/lib/python3.7/site-packages (from bleach->nbconvert->notebook>=4.4.1->widgetsnbextension~=3.5.0->ipywidgets>=7.5->EvalML) (20.9)\r\n",
      "Building wheels for collected packages: requirements-parser\r\n",
      "  Building wheel for requirements-parser (setup.py) ... \u001b[?25l-\b \b\\\b \bdone\r\n",
      "\u001b[?25h  Created wheel for requirements-parser: filename=requirements_parser-0.2.0-py3-none-any.whl size=7655 sha256=77ddac570dbeedf2f77a36f89d5fa315e1180a2f64bb97ae1018671665ada29b\r\n",
      "  Stored in directory: /root/.cache/pip/wheels/40/e4/ca/8af24ee94c3863d620d6a52793d82930f4d1d3515a5121d495\r\n",
      "Successfully built requirements-parser\r\n",
      "Installing collected packages: pyzmq, nltk, graphviz, xgboost, woodwork, sktime, requirements-parser, nlp-primitives, lightgbm, kaleido, EvalML\r\n",
      "  Attempting uninstall: pyzmq\r\n",
      "    Found existing installation: pyzmq 22.0.3\r\n",
      "    Uninstalling pyzmq-22.0.3:\r\n",
      "      Successfully uninstalled pyzmq-22.0.3\r\n",
      "  Attempting uninstall: nltk\r\n",
      "    Found existing installation: nltk 3.2.4\r\n",
      "    Uninstalling nltk-3.2.4:\r\n",
      "      Successfully uninstalled nltk-3.2.4\r\n",
      "  Attempting uninstall: graphviz\r\n",
      "    Found existing installation: graphviz 0.8.4\r\n",
      "    Uninstalling graphviz-0.8.4:\r\n",
      "      Successfully uninstalled graphviz-0.8.4\r\n",
      "  Attempting uninstall: xgboost\r\n",
      "    Found existing installation: xgboost 1.3.3\r\n",
      "    Uninstalling xgboost-1.3.3:\r\n",
      "      Successfully uninstalled xgboost-1.3.3\r\n",
      "  Attempting uninstall: lightgbm\r\n",
      "    Found existing installation: lightgbm 3.1.1\r\n",
      "    Uninstalling lightgbm-3.1.1:\r\n",
      "      Successfully uninstalled lightgbm-3.1.1\r\n",
      "\u001b[31mERROR: pip's dependency resolver does not currently take into account all the packages that are installed. This behaviour is the source of the following dependency conflicts.\r\n",
      "preprocessing 0.1.13 requires nltk==3.2.4, but you have nltk 3.6.2 which is incompatible.\r\n",
      "mxnet 1.8.0.post0 requires graphviz<0.9.0,>=0.8.1, but you have graphviz 0.16 which is incompatible.\r\n",
      "jupyterlab-git 0.11.0 requires nbdime<2.0.0,>=1.1.0, but you have nbdime 2.1.0 which is incompatible.\r\n",
      "autogluon-core 0.1.0 requires graphviz<0.9.0,>=0.8.1, but you have graphviz 0.16 which is incompatible.\u001b[0m\r\n",
      "Successfully installed EvalML-0.23.0 graphviz-0.16 kaleido-0.2.1 lightgbm-3.0.0 nlp-primitives-1.1.0 nltk-3.6.2 pyzmq-21.0.2 requirements-parser-0.2.0 sktime-0.6.0 woodwork-0.0.11 xgboost-1.2.1\r\n"
     ]
    }
   ],
   "source": [
    "#installing EvalML\n",
    "!pip install EvalML"
   ]
  },
  {
   "cell_type": "markdown",
   "id": "recreational-corps",
   "metadata": {
    "papermill": {
     "duration": 0.18232,
     "end_time": "2021-04-29T04:06:50.330173",
     "exception": false,
     "start_time": "2021-04-29T04:06:50.147853",
     "status": "completed"
    },
    "tags": []
   },
   "source": []
  },
  {
   "cell_type": "markdown",
   "id": "considered-parade",
   "metadata": {
    "papermill": {
     "duration": 0.179467,
     "end_time": "2021-04-29T04:06:50.689864",
     "exception": false,
     "start_time": "2021-04-29T04:06:50.510397",
     "status": "completed"
    },
    "tags": []
   },
   "source": []
  },
  {
   "cell_type": "code",
   "execution_count": 3,
   "id": "generous-closer",
   "metadata": {
    "execution": {
     "iopub.execute_input": "2021-04-29T04:06:51.058541Z",
     "iopub.status.busy": "2021-04-29T04:06:51.057817Z",
     "iopub.status.idle": "2021-04-29T04:07:02.007119Z",
     "shell.execute_reply": "2021-04-29T04:07:02.006203Z"
    },
    "papermill": {
     "duration": 11.136012,
     "end_time": "2021-04-29T04:07:02.007334",
     "exception": false,
     "start_time": "2021-04-29T04:06:50.871322",
     "status": "completed"
    },
    "tags": []
   },
   "outputs": [
    {
     "data": {
      "text/plain": [
       "[<ProblemTypes.BINARY: 'binary'>,\n",
       " <ProblemTypes.MULTICLASS: 'multiclass'>,\n",
       " <ProblemTypes.REGRESSION: 'regression'>,\n",
       " <ProblemTypes.TIME_SERIES_REGRESSION: 'time series regression'>,\n",
       " <ProblemTypes.TIME_SERIES_BINARY: 'time series binary'>,\n",
       " <ProblemTypes.TIME_SERIES_MULTICLASS: 'time series multiclass'>]"
      ]
     },
     "execution_count": 3,
     "metadata": {},
     "output_type": "execute_result"
    }
   ],
   "source": [
    "# getting list of problem types\n",
    "import evalml\n",
    "evalml.problem_types.problem_types.ProblemTypes.all_problem_types"
   ]
  },
  {
   "cell_type": "code",
   "execution_count": 4,
   "id": "tender-conditions",
   "metadata": {
    "execution": {
     "iopub.execute_input": "2021-04-29T04:07:02.383982Z",
     "iopub.status.busy": "2021-04-29T04:07:02.383379Z",
     "iopub.status.idle": "2021-04-29T04:07:02.387250Z",
     "shell.execute_reply": "2021-04-29T04:07:02.386687Z"
    },
    "papermill": {
     "duration": 0.19163,
     "end_time": "2021-04-29T04:07:02.387385",
     "exception": false,
     "start_time": "2021-04-29T04:07:02.195755",
     "status": "completed"
    },
    "tags": []
   },
   "outputs": [
    {
     "data": {
      "text/plain": [
       "['expvariance',\n",
       " 'maxerror',\n",
       " 'medianae',\n",
       " 'mse',\n",
       " 'mae',\n",
       " 'r2',\n",
       " 'mean squared log error',\n",
       " 'root mean squared log error',\n",
       " 'root mean squared error',\n",
       " 'mean absolute percentage error',\n",
       " 'mcc multiclass',\n",
       " 'log loss multiclass',\n",
       " 'auc weighted',\n",
       " 'auc macro',\n",
       " 'auc micro',\n",
       " 'recall weighted',\n",
       " 'recall macro',\n",
       " 'recall micro',\n",
       " 'precision weighted',\n",
       " 'precision macro',\n",
       " 'precision micro',\n",
       " 'f1 weighted',\n",
       " 'f1 macro',\n",
       " 'f1 micro',\n",
       " 'balanced accuracy multiclass',\n",
       " 'accuracy multiclass',\n",
       " 'mcc binary',\n",
       " 'log loss binary',\n",
       " 'auc',\n",
       " 'recall',\n",
       " 'precision',\n",
       " 'f1',\n",
       " 'balanced accuracy binary',\n",
       " 'accuracy binary',\n",
       " 'sensitivity at low alert rates',\n",
       " 'lead scoring',\n",
       " 'fraud cost',\n",
       " 'cost benefit matrix']"
      ]
     },
     "execution_count": 4,
     "metadata": {},
     "output_type": "execute_result"
    }
   ],
   "source": [
    "# getting list of objectives\n",
    "evalml.objectives.get_all_objective_names() "
   ]
  },
  {
   "cell_type": "markdown",
   "id": "commercial-munich",
   "metadata": {
    "papermill": {
     "duration": 0.18128,
     "end_time": "2021-04-29T04:07:02.749132",
     "exception": false,
     "start_time": "2021-04-29T04:07:02.567852",
     "status": "completed"
    },
    "tags": []
   },
   "source": [
    "#### 1.2 Loading the income data and basic analysis"
   ]
  },
  {
   "cell_type": "code",
   "execution_count": 5,
   "id": "grave-ottawa",
   "metadata": {
    "execution": {
     "iopub.execute_input": "2021-04-29T04:07:03.121288Z",
     "iopub.status.busy": "2021-04-29T04:07:03.120696Z",
     "iopub.status.idle": "2021-04-29T04:07:03.400432Z",
     "shell.execute_reply": "2021-04-29T04:07:03.399923Z"
    },
    "papermill": {
     "duration": 0.467496,
     "end_time": "2021-04-29T04:07:03.400582",
     "exception": false,
     "start_time": "2021-04-29T04:07:02.933086",
     "status": "completed"
    },
    "tags": []
   },
   "outputs": [
    {
     "data": {
      "text/html": [
       "<div>\n",
       "<style scoped>\n",
       "    .dataframe tbody tr th:only-of-type {\n",
       "        vertical-align: middle;\n",
       "    }\n",
       "\n",
       "    .dataframe tbody tr th {\n",
       "        vertical-align: top;\n",
       "    }\n",
       "\n",
       "    .dataframe thead th {\n",
       "        text-align: right;\n",
       "    }\n",
       "</style>\n",
       "<table border=\"1\" class=\"dataframe\">\n",
       "  <thead>\n",
       "    <tr style=\"text-align: right;\">\n",
       "      <th></th>\n",
       "      <th>age</th>\n",
       "      <th>workclass</th>\n",
       "      <th>fnlwgt</th>\n",
       "      <th>education</th>\n",
       "      <th>education-num</th>\n",
       "      <th>marital-status</th>\n",
       "      <th>occupation</th>\n",
       "      <th>relationship</th>\n",
       "      <th>race</th>\n",
       "      <th>sex</th>\n",
       "      <th>capital-gain</th>\n",
       "      <th>capital-loss</th>\n",
       "      <th>hours-per-week</th>\n",
       "      <th>native-country</th>\n",
       "      <th>income</th>\n",
       "    </tr>\n",
       "  </thead>\n",
       "  <tbody>\n",
       "    <tr>\n",
       "      <th>0</th>\n",
       "      <td>39</td>\n",
       "      <td>State-gov</td>\n",
       "      <td>77516</td>\n",
       "      <td>Bachelors</td>\n",
       "      <td>13</td>\n",
       "      <td>Never-married</td>\n",
       "      <td>Adm-clerical</td>\n",
       "      <td>Not-in-family</td>\n",
       "      <td>White</td>\n",
       "      <td>Male</td>\n",
       "      <td>2174</td>\n",
       "      <td>0</td>\n",
       "      <td>40</td>\n",
       "      <td>United-States</td>\n",
       "      <td>&lt;=50K</td>\n",
       "    </tr>\n",
       "    <tr>\n",
       "      <th>1</th>\n",
       "      <td>50</td>\n",
       "      <td>Self-emp-not-inc</td>\n",
       "      <td>83311</td>\n",
       "      <td>Bachelors</td>\n",
       "      <td>13</td>\n",
       "      <td>Married-civ-spouse</td>\n",
       "      <td>Exec-managerial</td>\n",
       "      <td>Husband</td>\n",
       "      <td>White</td>\n",
       "      <td>Male</td>\n",
       "      <td>0</td>\n",
       "      <td>0</td>\n",
       "      <td>13</td>\n",
       "      <td>United-States</td>\n",
       "      <td>&lt;=50K</td>\n",
       "    </tr>\n",
       "    <tr>\n",
       "      <th>2</th>\n",
       "      <td>38</td>\n",
       "      <td>Private</td>\n",
       "      <td>215646</td>\n",
       "      <td>HS-grad</td>\n",
       "      <td>9</td>\n",
       "      <td>Divorced</td>\n",
       "      <td>Handlers-cleaners</td>\n",
       "      <td>Not-in-family</td>\n",
       "      <td>White</td>\n",
       "      <td>Male</td>\n",
       "      <td>0</td>\n",
       "      <td>0</td>\n",
       "      <td>40</td>\n",
       "      <td>United-States</td>\n",
       "      <td>&lt;=50K</td>\n",
       "    </tr>\n",
       "    <tr>\n",
       "      <th>3</th>\n",
       "      <td>53</td>\n",
       "      <td>Private</td>\n",
       "      <td>234721</td>\n",
       "      <td>11th</td>\n",
       "      <td>7</td>\n",
       "      <td>Married-civ-spouse</td>\n",
       "      <td>Handlers-cleaners</td>\n",
       "      <td>Husband</td>\n",
       "      <td>Black</td>\n",
       "      <td>Male</td>\n",
       "      <td>0</td>\n",
       "      <td>0</td>\n",
       "      <td>40</td>\n",
       "      <td>United-States</td>\n",
       "      <td>&lt;=50K</td>\n",
       "    </tr>\n",
       "    <tr>\n",
       "      <th>4</th>\n",
       "      <td>28</td>\n",
       "      <td>Private</td>\n",
       "      <td>338409</td>\n",
       "      <td>Bachelors</td>\n",
       "      <td>13</td>\n",
       "      <td>Married-civ-spouse</td>\n",
       "      <td>Prof-specialty</td>\n",
       "      <td>Wife</td>\n",
       "      <td>Black</td>\n",
       "      <td>Female</td>\n",
       "      <td>0</td>\n",
       "      <td>0</td>\n",
       "      <td>40</td>\n",
       "      <td>Cuba</td>\n",
       "      <td>&lt;=50K</td>\n",
       "    </tr>\n",
       "  </tbody>\n",
       "</table>\n",
       "</div>"
      ],
      "text/plain": [
       "   age          workclass   fnlwgt   education   education-num  \\\n",
       "0   39          State-gov    77516   Bachelors              13   \n",
       "1   50   Self-emp-not-inc    83311   Bachelors              13   \n",
       "2   38            Private   215646     HS-grad               9   \n",
       "3   53            Private   234721        11th               7   \n",
       "4   28            Private   338409   Bachelors              13   \n",
       "\n",
       "        marital-status          occupation    relationship    race      sex  \\\n",
       "0        Never-married        Adm-clerical   Not-in-family   White     Male   \n",
       "1   Married-civ-spouse     Exec-managerial         Husband   White     Male   \n",
       "2             Divorced   Handlers-cleaners   Not-in-family   White     Male   \n",
       "3   Married-civ-spouse   Handlers-cleaners         Husband   Black     Male   \n",
       "4   Married-civ-spouse      Prof-specialty            Wife   Black   Female   \n",
       "\n",
       "    capital-gain   capital-loss   hours-per-week  native-country  income  \n",
       "0           2174              0               40   United-States   <=50K  \n",
       "1              0              0               13   United-States   <=50K  \n",
       "2              0              0               40   United-States   <=50K  \n",
       "3              0              0               40   United-States   <=50K  \n",
       "4              0              0               40            Cuba   <=50K  "
      ]
     },
     "execution_count": 5,
     "metadata": {},
     "output_type": "execute_result"
    }
   ],
   "source": [
    "df = pd.read_csv(\"/kaggle/input/income-classification/income_evaluation.csv\")\n",
    "df.head()"
   ]
  },
  {
   "cell_type": "code",
   "execution_count": 6,
   "id": "brutal-substitute",
   "metadata": {
    "execution": {
     "iopub.execute_input": "2021-04-29T04:07:03.766383Z",
     "iopub.status.busy": "2021-04-29T04:07:03.765786Z",
     "iopub.status.idle": "2021-04-29T04:07:03.770916Z",
     "shell.execute_reply": "2021-04-29T04:07:03.771410Z"
    },
    "papermill": {
     "duration": 0.190495,
     "end_time": "2021-04-29T04:07:03.771579",
     "exception": false,
     "start_time": "2021-04-29T04:07:03.581084",
     "status": "completed"
    },
    "tags": []
   },
   "outputs": [
    {
     "data": {
      "text/plain": [
       "(32561, 15)"
      ]
     },
     "execution_count": 6,
     "metadata": {},
     "output_type": "execute_result"
    }
   ],
   "source": [
    "df.shape"
   ]
  },
  {
   "cell_type": "code",
   "execution_count": 7,
   "id": "dated-causing",
   "metadata": {
    "execution": {
     "iopub.execute_input": "2021-04-29T04:07:04.141834Z",
     "iopub.status.busy": "2021-04-29T04:07:04.141197Z",
     "iopub.status.idle": "2021-04-29T04:07:04.152282Z",
     "shell.execute_reply": "2021-04-29T04:07:04.152775Z"
    },
    "papermill": {
     "duration": 0.200019,
     "end_time": "2021-04-29T04:07:04.152944",
     "exception": false,
     "start_time": "2021-04-29T04:07:03.952925",
     "status": "completed"
    },
    "tags": []
   },
   "outputs": [
    {
     "data": {
      "text/plain": [
       " <=50K    24720\n",
       " >50K      7841\n",
       "Name:  income, dtype: int64"
      ]
     },
     "execution_count": 7,
     "metadata": {},
     "output_type": "execute_result"
    }
   ],
   "source": [
    "df[\" income\"].value_counts()"
   ]
  },
  {
   "cell_type": "code",
   "execution_count": 8,
   "id": "intermediate-anaheim",
   "metadata": {
    "execution": {
     "iopub.execute_input": "2021-04-29T04:07:04.543097Z",
     "iopub.status.busy": "2021-04-29T04:07:04.542312Z",
     "iopub.status.idle": "2021-04-29T04:07:04.717951Z",
     "shell.execute_reply": "2021-04-29T04:07:04.718653Z"
    },
    "papermill": {
     "duration": 0.385072,
     "end_time": "2021-04-29T04:07:04.718875",
     "exception": false,
     "start_time": "2021-04-29T04:07:04.333803",
     "status": "completed"
    },
    "tags": []
   },
   "outputs": [
    {
     "data": {
      "text/plain": [
       "Text(0.5, 1.0, 'Pie chart of Income')"
      ]
     },
     "execution_count": 8,
     "metadata": {},
     "output_type": "execute_result"
    },
    {
     "data": {
      "image/png": "[encoded data removed]",
      "text/plain": [
       "<Figure size 504x504 with 1 Axes>"
      ]
     },
     "metadata": {},
     "output_type": "display_data"
    }
   ],
   "source": [
    "df[\" income\"].value_counts().plot.pie(autopct=\"%.1f%%\",figsize=(7,7))\n",
    "plt.title(\"Pie chart of Income\")"
   ]
  },
  {
   "cell_type": "markdown",
   "id": "micro-slovenia",
   "metadata": {
    "papermill": {
     "duration": 0.196106,
     "end_time": "2021-04-29T04:07:05.125919",
     "exception": false,
     "start_time": "2021-04-29T04:07:04.929813",
     "status": "completed"
    },
    "tags": []
   },
   "source": [
    "### 2. Splitting into train-test set"
   ]
  },
  {
   "cell_type": "code",
   "execution_count": 9,
   "id": "tropical-ready",
   "metadata": {
    "execution": {
     "iopub.execute_input": "2021-04-29T04:07:05.516627Z",
     "iopub.status.busy": "2021-04-29T04:07:05.515972Z",
     "iopub.status.idle": "2021-04-29T04:07:05.523869Z",
     "shell.execute_reply": "2021-04-29T04:07:05.524373Z"
    },
    "papermill": {
     "duration": 0.197559,
     "end_time": "2021-04-29T04:07:05.524548",
     "exception": false,
     "start_time": "2021-04-29T04:07:05.326989",
     "status": "completed"
    },
    "tags": []
   },
   "outputs": [],
   "source": [
    "X = df.drop(\" income\", axis=1)\n",
    "y = df[\" income\"]"
   ]
  },
  {
   "cell_type": "code",
   "execution_count": 10,
   "id": "noted-niger",
   "metadata": {
    "execution": {
     "iopub.execute_input": "2021-04-29T04:07:05.899604Z",
     "iopub.status.busy": "2021-04-29T04:07:05.898926Z",
     "iopub.status.idle": "2021-04-29T04:07:06.140944Z",
     "shell.execute_reply": "2021-04-29T04:07:06.139984Z"
    },
    "papermill": {
     "duration": 0.431964,
     "end_time": "2021-04-29T04:07:06.141160",
     "exception": false,
     "start_time": "2021-04-29T04:07:05.709196",
     "status": "completed"
    },
    "tags": []
   },
   "outputs": [
    {
     "name": "stdout",
     "output_type": "stream",
     "text": [
      "Size of training data :  26048\n",
      "Size of test data :  6513\n"
     ]
    }
   ],
   "source": [
    "X_train, X_test, y_train, y_test = evalml.preprocessing.split_data(X, y, problem_type='binary', test_size=.2)\n",
    "print(\"Size of training data : \", X_train.shape[0])\n",
    "print(\"Size of test data : \", X_test.shape[0])"
   ]
  },
  {
   "cell_type": "code",
   "execution_count": 11,
   "id": "superior-rating",
   "metadata": {
    "execution": {
     "iopub.execute_input": "2021-04-29T04:07:06.518918Z",
     "iopub.status.busy": "2021-04-29T04:07:06.518286Z",
     "iopub.status.idle": "2021-04-29T04:07:06.523107Z",
     "shell.execute_reply": "2021-04-29T04:07:06.522537Z"
    },
    "papermill": {
     "duration": 0.190935,
     "end_time": "2021-04-29T04:07:06.523269",
     "exception": false,
     "start_time": "2021-04-29T04:07:06.332334",
     "status": "completed"
    },
    "tags": []
   },
   "outputs": [
    {
     "data": {
      "text/plain": [
       "woodwork.datatable.DataTable"
      ]
     },
     "execution_count": 11,
     "metadata": {},
     "output_type": "execute_result"
    }
   ],
   "source": [
    "type(X_train)"
   ]
  },
  {
   "cell_type": "code",
   "execution_count": 12,
   "id": "social-stretch",
   "metadata": {
    "execution": {
     "iopub.execute_input": "2021-04-29T04:07:06.919373Z",
     "iopub.status.busy": "2021-04-29T04:07:06.918228Z",
     "iopub.status.idle": "2021-04-29T04:07:06.921966Z",
     "shell.execute_reply": "2021-04-29T04:07:06.922457Z"
    },
    "papermill": {
     "duration": 0.213102,
     "end_time": "2021-04-29T04:07:06.922630",
     "exception": false,
     "start_time": "2021-04-29T04:07:06.709528",
     "status": "completed"
    },
    "tags": []
   },
   "outputs": [
    {
     "data": {
      "text/html": [
       "<div>\n",
       "<style scoped>\n",
       "    .dataframe tbody tr th:only-of-type {\n",
       "        vertical-align: middle;\n",
       "    }\n",
       "\n",
       "    .dataframe tbody tr th {\n",
       "        vertical-align: top;\n",
       "    }\n",
       "\n",
       "    .dataframe thead th {\n",
       "        text-align: right;\n",
       "    }\n",
       "</style>\n",
       "<table border=\"1\" class=\"dataframe\">\n",
       "  <thead>\n",
       "    <tr style=\"text-align: right;\">\n",
       "      <th></th>\n",
       "      <th></th>\n",
       "      <th></th>\n",
       "      <th></th>\n",
       "      <th>29101</th>\n",
       "      <th>10606</th>\n",
       "      <th>9414</th>\n",
       "      <th>1747</th>\n",
       "      <th>10677</th>\n",
       "    </tr>\n",
       "    <tr>\n",
       "      <th>Data Column</th>\n",
       "      <th>Physical Type</th>\n",
       "      <th>Logical Type</th>\n",
       "      <th>Semantic Tag(s)</th>\n",
       "      <th></th>\n",
       "      <th></th>\n",
       "      <th></th>\n",
       "      <th></th>\n",
       "      <th></th>\n",
       "    </tr>\n",
       "  </thead>\n",
       "  <tbody>\n",
       "    <tr>\n",
       "      <th>workclass</th>\n",
       "      <th>category</th>\n",
       "      <th>Categorical</th>\n",
       "      <th>['category']</th>\n",
       "      <td>?</td>\n",
       "      <td>Private</td>\n",
       "      <td>Private</td>\n",
       "      <td>Private</td>\n",
       "      <td>Private</td>\n",
       "    </tr>\n",
       "    <tr>\n",
       "      <th>occupation</th>\n",
       "      <th>string</th>\n",
       "      <th>NaturalLanguage</th>\n",
       "      <th>[]</th>\n",
       "      <td>?</td>\n",
       "      <td>Machine-op-inspct</td>\n",
       "      <td>Exec-managerial</td>\n",
       "      <td>Adm-clerical</td>\n",
       "      <td>Adm-clerical</td>\n",
       "    </tr>\n",
       "  </tbody>\n",
       "</table>\n",
       "</div>"
      ],
      "text/plain": [
       "                                                          29101  \\\n",
       "Data Column Physical Type Logical Type    Semantic Tag(s)         \n",
       " workclass  category      Categorical     ['category']        ?   \n",
       " occupation string        NaturalLanguage []                  ?   \n",
       "\n",
       "                                                                        10606  \\\n",
       "Data Column Physical Type Logical Type    Semantic Tag(s)                       \n",
       " workclass  category      Categorical     ['category']                Private   \n",
       " occupation string        NaturalLanguage []                Machine-op-inspct   \n",
       "\n",
       "                                                                      9414   \\\n",
       "Data Column Physical Type Logical Type    Semantic Tag(s)                     \n",
       " workclass  category      Categorical     ['category']              Private   \n",
       " occupation string        NaturalLanguage []                Exec-managerial   \n",
       "\n",
       "                                                                   1747   \\\n",
       "Data Column Physical Type Logical Type    Semantic Tag(s)                  \n",
       " workclass  category      Categorical     ['category']           Private   \n",
       " occupation string        NaturalLanguage []                Adm-clerical   \n",
       "\n",
       "                                                                   10677  \n",
       "Data Column Physical Type Logical Type    Semantic Tag(s)                 \n",
       " workclass  category      Categorical     ['category']           Private  \n",
       " occupation string        NaturalLanguage []                Adm-clerical  "
      ]
     },
     "execution_count": 12,
     "metadata": {},
     "output_type": "execute_result"
    }
   ],
   "source": [
    "X_train[[\" workclass\", \" occupation\"]].head().T"
   ]
  },
  {
   "cell_type": "markdown",
   "id": "opened-relay",
   "metadata": {
    "papermill": {
     "duration": 0.192654,
     "end_time": "2021-04-29T04:07:07.307617",
     "exception": false,
     "start_time": "2021-04-29T04:07:07.114963",
     "status": "completed"
    },
    "tags": []
   },
   "source": [
    "### 3. Finding best ML model pipeline using EvalML"
   ]
  },
  {
   "cell_type": "code",
   "execution_count": 13,
   "id": "southwest-situation",
   "metadata": {
    "execution": {
     "iopub.execute_input": "2021-04-29T04:07:07.725792Z",
     "iopub.status.busy": "2021-04-29T04:07:07.725123Z",
     "iopub.status.idle": "2021-04-29T04:07:07.728155Z",
     "shell.execute_reply": "2021-04-29T04:07:07.727684Z"
    },
    "papermill": {
     "duration": 0.19607,
     "end_time": "2021-04-29T04:07:07.728309",
     "exception": false,
     "start_time": "2021-04-29T04:07:07.532239",
     "status": "completed"
    },
    "tags": []
   },
   "outputs": [],
   "source": [
    "from evalml import AutoMLSearch"
   ]
  },
  {
   "cell_type": "code",
   "execution_count": 14,
   "id": "automatic-difficulty",
   "metadata": {
    "execution": {
     "iopub.execute_input": "2021-04-29T04:07:08.099014Z",
     "iopub.status.busy": "2021-04-29T04:07:08.098038Z",
     "iopub.status.idle": "2021-04-29T04:28:35.343815Z",
     "shell.execute_reply": "2021-04-29T04:28:35.342890Z"
    },
    "papermill": {
     "duration": 1287.434452,
     "end_time": "2021-04-29T04:28:35.344359",
     "exception": false,
     "start_time": "2021-04-29T04:07:07.909907",
     "status": "completed"
    },
    "tags": []
   },
   "outputs": [
    {
     "name": "stdout",
     "output_type": "stream",
     "text": [
      "Using default limit of max_batches=1.\n",
      "\n",
      "Generating pipelines to search over...\n"
     ]
    },
    {
     "data": {
      "text/html": [
       "<style type='text/css'>\n",
       ".datatable table.frame { margin-bottom: 0; }\n",
       ".datatable table.frame thead { border-bottom: none; }\n",
       ".datatable table.frame tr.coltypes td {  color: #FFFFFF;  line-height: 6px;  padding: 0 0.5em;}\n",
       ".datatable .bool    { background: #DDDD99; }\n",
       ".datatable .object  { background: #565656; }\n",
       ".datatable .int     { background: #5D9E5D; }\n",
       ".datatable .float   { background: #4040CC; }\n",
       ".datatable .str     { background: #CC4040; }\n",
       ".datatable .row_index {  background: var(--jp-border-color3);  border-right: 1px solid var(--jp-border-color0);  color: var(--jp-ui-font-color3);  font-size: 9px;}\n",
       ".datatable .frame tr.coltypes .row_index {  background: var(--jp-border-color0);}\n",
       ".datatable th:nth-child(2) { padding-left: 12px; }\n",
       ".datatable .hellipsis {  color: var(--jp-cell-editor-border-color);}\n",
       ".datatable .vellipsis {  background: var(--jp-layout-color0);  color: var(--jp-cell-editor-border-color);}\n",
       ".datatable .na {  color: var(--jp-cell-editor-border-color);  font-size: 80%;}\n",
       ".datatable .footer { font-size: 9px; }\n",
       ".datatable .frame_dimensions {  background: var(--jp-border-color3);  border-top: 1px solid var(--jp-border-color0);  color: var(--jp-ui-font-color3);  display: inline-block;  opacity: 0.6;  padding: 1px 10px 1px 5px;}\n",
       "</style>\n"
      ],
      "text/plain": [
       "<IPython.core.display.HTML object>"
      ]
     },
     "metadata": {},
     "output_type": "display_data"
    },
    {
     "name": "stdout",
     "output_type": "stream",
     "text": [
      "\n",
      "*****************************\n",
      "* Beginning pipeline search *\n",
      "*****************************\n",
      "\n",
      "Optimizing for F1. \n",
      "Greater score is better.\n",
      "\n",
      "Using SequentialEngine to train and score pipelines.\n",
      "Searching up to 1 batches for a total of 9 pipelines. \n",
      "Allowed model families: catboost, lightgbm, random_forest, decision_tree, extra_trees, xgboost, linear_model\n",
      "\n"
     ]
    },
    {
     "data": {
      "application/vnd.jupyter.widget-view+json": {
       "model_id": "7ee726d8574548dfb7c33cf0767d49e4",
       "version_major": 2,
       "version_minor": 0
      },
      "text/plain": [
       "FigureWidget({\n",
       "    'data': [{'mode': 'lines+markers',\n",
       "              'name': 'Best Score',\n",
       "              'type'…"
      ]
     },
     "metadata": {},
     "output_type": "display_data"
    },
    {
     "name": "stdout",
     "output_type": "stream",
     "text": [
      "Evaluating Baseline Pipeline: Mode Baseline Binary Classification Pipeline\n",
      "Mode Baseline Binary Classification Pipeline:\n",
      "\tStarting cross validation\n",
      "\tFinished cross validation - mean F1: 0.000\n",
      "\n",
      "*****************************\n",
      "* Evaluating Batch Number 1 *\n",
      "*****************************\n",
      "\n",
      "Decision Tree Classifier w/ Imputer + Text Featurization Component + One Hot Encoder:\n",
      "\tStarting cross validation\n",
      "\tFinished cross validation - mean F1: 0.633\n",
      "Extra Trees Classifier w/ Imputer + Text Featurization Component + One Hot Encoder:\n",
      "\tStarting cross validation\n",
      "\tFinished cross validation - mean F1: 0.654\n",
      "CatBoost Classifier w/ Imputer + Text Featurization Component:\n",
      "\tStarting cross validation\n",
      "\tFinished cross validation - mean F1: 0.683\n",
      "Random Forest Classifier w/ Imputer + Text Featurization Component + One Hot Encoder:\n",
      "\tStarting cross validation\n",
      "\tFinished cross validation - mean F1: 0.690\n",
      "LightGBM Classifier w/ Imputer + Text Featurization Component + One Hot Encoder:\n",
      "\tStarting cross validation\n",
      "\tFinished cross validation - mean F1: 0.724\n",
      "XGBoost Classifier w/ Imputer + Text Featurization Component + One Hot Encoder:\n",
      "\tStarting cross validation\n",
      "\tFinished cross validation - mean F1: 0.728\n",
      "Elastic Net Classifier w/ Imputer + Text Featurization Component + One Hot Encoder + Standard Scaler:\n",
      "\tStarting cross validation\n",
      "\tFinished cross validation - mean F1: 0.388\n",
      "Logistic Regression Classifier w/ Imputer + Text Featurization Component + One Hot Encoder + Standard Scaler:\n",
      "\tStarting cross validation\n",
      "\tFinished cross validation - mean F1: 0.677\n",
      "\n",
      "Search finished after 20:32            \n",
      "Best pipeline: XGBoost Classifier w/ Imputer + Text Featurization Component + One Hot Encoder\n",
      "Best pipeline F1: 0.727805\n"
     ]
    }
   ],
   "source": [
    "automl = AutoMLSearch(X_train=X_train, y_train=y_train, problem_type=\"binary\", objective=\"F1\")\n",
    "automl.search()"
   ]
  },
  {
   "cell_type": "markdown",
   "id": "afraid-somewhere",
   "metadata": {
    "papermill": {
     "duration": 0.245321,
     "end_time": "2021-04-29T04:28:35.882942",
     "exception": false,
     "start_time": "2021-04-29T04:28:35.637621",
     "status": "completed"
    },
    "tags": []
   },
   "source": [
    "### 4. Interacting with pipelines"
   ]
  },
  {
   "cell_type": "code",
   "execution_count": 15,
   "id": "tired-manual",
   "metadata": {
    "execution": {
     "iopub.execute_input": "2021-04-29T04:28:36.414242Z",
     "iopub.status.busy": "2021-04-29T04:28:36.413672Z",
     "iopub.status.idle": "2021-04-29T04:28:36.446321Z",
     "shell.execute_reply": "2021-04-29T04:28:36.446830Z"
    },
    "papermill": {
     "duration": 0.3149,
     "end_time": "2021-04-29T04:28:36.447045",
     "exception": false,
     "start_time": "2021-04-29T04:28:36.132145",
     "status": "completed"
    },
    "tags": []
   },
   "outputs": [
    {
     "data": {
      "text/html": [
       "<div>\n",
       "<style scoped>\n",
       "    .dataframe tbody tr th:only-of-type {\n",
       "        vertical-align: middle;\n",
       "    }\n",
       "\n",
       "    .dataframe tbody tr th {\n",
       "        vertical-align: top;\n",
       "    }\n",
       "\n",
       "    .dataframe thead th {\n",
       "        text-align: right;\n",
       "    }\n",
       "</style>\n",
       "<table border=\"1\" class=\"dataframe\">\n",
       "  <thead>\n",
       "    <tr style=\"text-align: right;\">\n",
       "      <th></th>\n",
       "      <th>id</th>\n",
       "      <th>pipeline_name</th>\n",
       "      <th>mean_cv_score</th>\n",
       "      <th>standard_deviation_cv_score</th>\n",
       "      <th>validation_score</th>\n",
       "      <th>percent_better_than_baseline</th>\n",
       "      <th>high_variance_cv</th>\n",
       "      <th>parameters</th>\n",
       "    </tr>\n",
       "  </thead>\n",
       "  <tbody>\n",
       "    <tr>\n",
       "      <th>0</th>\n",
       "      <td>6</td>\n",
       "      <td>XGBoost Classifier w/ Imputer + Text Featuriza...</td>\n",
       "      <td>0.727805</td>\n",
       "      <td>0.009281</td>\n",
       "      <td>0.731322</td>\n",
       "      <td>72.780530</td>\n",
       "      <td>False</td>\n",
       "      <td>{'Imputer': {'categorical_impute_strategy': 'm...</td>\n",
       "    </tr>\n",
       "    <tr>\n",
       "      <th>1</th>\n",
       "      <td>5</td>\n",
       "      <td>LightGBM Classifier w/ Imputer + Text Featuriz...</td>\n",
       "      <td>0.724157</td>\n",
       "      <td>0.006780</td>\n",
       "      <td>0.723946</td>\n",
       "      <td>72.415695</td>\n",
       "      <td>False</td>\n",
       "      <td>{'Imputer': {'categorical_impute_strategy': 'm...</td>\n",
       "    </tr>\n",
       "    <tr>\n",
       "      <th>2</th>\n",
       "      <td>4</td>\n",
       "      <td>Random Forest Classifier w/ Imputer + Text Fea...</td>\n",
       "      <td>0.689527</td>\n",
       "      <td>0.011830</td>\n",
       "      <td>0.698573</td>\n",
       "      <td>68.952711</td>\n",
       "      <td>False</td>\n",
       "      <td>{'Imputer': {'categorical_impute_strategy': 'm...</td>\n",
       "    </tr>\n",
       "    <tr>\n",
       "      <th>3</th>\n",
       "      <td>3</td>\n",
       "      <td>CatBoost Classifier w/ Imputer + Text Featuriz...</td>\n",
       "      <td>0.682558</td>\n",
       "      <td>0.005797</td>\n",
       "      <td>0.686113</td>\n",
       "      <td>68.255763</td>\n",
       "      <td>False</td>\n",
       "      <td>{'Imputer': {'categorical_impute_strategy': 'm...</td>\n",
       "    </tr>\n",
       "    <tr>\n",
       "      <th>4</th>\n",
       "      <td>8</td>\n",
       "      <td>Logistic Regression Classifier w/ Imputer + Te...</td>\n",
       "      <td>0.677314</td>\n",
       "      <td>0.014673</td>\n",
       "      <td>0.683200</td>\n",
       "      <td>67.731354</td>\n",
       "      <td>False</td>\n",
       "      <td>{'Imputer': {'categorical_impute_strategy': 'm...</td>\n",
       "    </tr>\n",
       "    <tr>\n",
       "      <th>5</th>\n",
       "      <td>2</td>\n",
       "      <td>Extra Trees Classifier w/ Imputer + Text Featu...</td>\n",
       "      <td>0.654050</td>\n",
       "      <td>0.010403</td>\n",
       "      <td>0.665759</td>\n",
       "      <td>65.404968</td>\n",
       "      <td>False</td>\n",
       "      <td>{'Imputer': {'categorical_impute_strategy': 'm...</td>\n",
       "    </tr>\n",
       "    <tr>\n",
       "      <th>6</th>\n",
       "      <td>1</td>\n",
       "      <td>Decision Tree Classifier w/ Imputer + Text Fea...</td>\n",
       "      <td>0.633105</td>\n",
       "      <td>0.014144</td>\n",
       "      <td>0.644577</td>\n",
       "      <td>63.310504</td>\n",
       "      <td>False</td>\n",
       "      <td>{'Imputer': {'categorical_impute_strategy': 'm...</td>\n",
       "    </tr>\n",
       "    <tr>\n",
       "      <th>7</th>\n",
       "      <td>7</td>\n",
       "      <td>Elastic Net Classifier w/ Imputer + Text Featu...</td>\n",
       "      <td>0.388169</td>\n",
       "      <td>0.000021</td>\n",
       "      <td>0.388157</td>\n",
       "      <td>38.816868</td>\n",
       "      <td>False</td>\n",
       "      <td>{'Imputer': {'categorical_impute_strategy': 'm...</td>\n",
       "    </tr>\n",
       "    <tr>\n",
       "      <th>8</th>\n",
       "      <td>0</td>\n",
       "      <td>Mode Baseline Binary Classification Pipeline</td>\n",
       "      <td>0.000000</td>\n",
       "      <td>0.000000</td>\n",
       "      <td>0.000000</td>\n",
       "      <td>0.000000</td>\n",
       "      <td>False</td>\n",
       "      <td>{'Baseline Classifier': {'strategy': 'mode'}}</td>\n",
       "    </tr>\n",
       "  </tbody>\n",
       "</table>\n",
       "</div>"
      ],
      "text/plain": [
       "   id                                      pipeline_name  mean_cv_score  \\\n",
       "0   6  XGBoost Classifier w/ Imputer + Text Featuriza...       0.727805   \n",
       "1   5  LightGBM Classifier w/ Imputer + Text Featuriz...       0.724157   \n",
       "2   4  Random Forest Classifier w/ Imputer + Text Fea...       0.689527   \n",
       "3   3  CatBoost Classifier w/ Imputer + Text Featuriz...       0.682558   \n",
       "4   8  Logistic Regression Classifier w/ Imputer + Te...       0.677314   \n",
       "5   2  Extra Trees Classifier w/ Imputer + Text Featu...       0.654050   \n",
       "6   1  Decision Tree Classifier w/ Imputer + Text Fea...       0.633105   \n",
       "7   7  Elastic Net Classifier w/ Imputer + Text Featu...       0.388169   \n",
       "8   0       Mode Baseline Binary Classification Pipeline       0.000000   \n",
       "\n",
       "   standard_deviation_cv_score  validation_score  \\\n",
       "0                     0.009281          0.731322   \n",
       "1                     0.006780          0.723946   \n",
       "2                     0.011830          0.698573   \n",
       "3                     0.005797          0.686113   \n",
       "4                     0.014673          0.683200   \n",
       "5                     0.010403          0.665759   \n",
       "6                     0.014144          0.644577   \n",
       "7                     0.000021          0.388157   \n",
       "8                     0.000000          0.000000   \n",
       "\n",
       "   percent_better_than_baseline  high_variance_cv  \\\n",
       "0                     72.780530             False   \n",
       "1                     72.415695             False   \n",
       "2                     68.952711             False   \n",
       "3                     68.255763             False   \n",
       "4                     67.731354             False   \n",
       "5                     65.404968             False   \n",
       "6                     63.310504             False   \n",
       "7                     38.816868             False   \n",
       "8                      0.000000             False   \n",
       "\n",
       "                                          parameters  \n",
       "0  {'Imputer': {'categorical_impute_strategy': 'm...  \n",
       "1  {'Imputer': {'categorical_impute_strategy': 'm...  \n",
       "2  {'Imputer': {'categorical_impute_strategy': 'm...  \n",
       "3  {'Imputer': {'categorical_impute_strategy': 'm...  \n",
       "4  {'Imputer': {'categorical_impute_strategy': 'm...  \n",
       "5  {'Imputer': {'categorical_impute_strategy': 'm...  \n",
       "6  {'Imputer': {'categorical_impute_strategy': 'm...  \n",
       "7  {'Imputer': {'categorical_impute_strategy': 'm...  \n",
       "8      {'Baseline Classifier': {'strategy': 'mode'}}  "
      ]
     },
     "execution_count": 15,
     "metadata": {},
     "output_type": "execute_result"
    }
   ],
   "source": [
    "automl.rankings"
   ]
  },
  {
   "cell_type": "code",
   "execution_count": 16,
   "id": "fancy-responsibility",
   "metadata": {
    "execution": {
     "iopub.execute_input": "2021-04-29T04:28:37.076633Z",
     "iopub.status.busy": "2021-04-29T04:28:37.075713Z",
     "iopub.status.idle": "2021-04-29T04:28:37.174500Z",
     "shell.execute_reply": "2021-04-29T04:28:37.173720Z"
    },
    "papermill": {
     "duration": 0.410795,
     "end_time": "2021-04-29T04:28:37.174714",
     "exception": false,
     "start_time": "2021-04-29T04:28:36.763919",
     "status": "completed"
    },
    "tags": []
   },
   "outputs": [
    {
     "name": "stdout",
     "output_type": "stream",
     "text": [
      "\n",
      "**********************************************************************************\n",
      "* XGBoost Classifier w/ Imputer + Text Featurization Component + One Hot Encoder *\n",
      "**********************************************************************************\n",
      "\n",
      "Problem Type: binary\n",
      "Model Family: XGBoost\n",
      "\n",
      "Pipeline Steps\n",
      "==============\n",
      "1. Imputer\n",
      "\t * categorical_impute_strategy : most_frequent\n",
      "\t * numeric_impute_strategy : mean\n",
      "\t * categorical_fill_value : None\n",
      "\t * numeric_fill_value : None\n",
      "2. Text Featurization Component\n",
      "3. One Hot Encoder\n",
      "\t * top_n : 10\n",
      "\t * features_to_encode : None\n",
      "\t * categories : None\n",
      "\t * drop : if_binary\n",
      "\t * handle_unknown : ignore\n",
      "\t * handle_missing : error\n",
      "4. XGBoost Classifier\n",
      "\t * eta : 0.1\n",
      "\t * max_depth : 6\n",
      "\t * min_child_weight : 1\n",
      "\t * n_estimators : 100\n",
      "\n",
      "Training\n",
      "========\n",
      "Training for binary problems.\n",
      "Objective to optimize binary classification pipeline thresholds for: <evalml.objectives.standard_metrics.F1 object at 0x7f1f70739090>\n",
      "Total training time (including CV): 156.1 seconds\n",
      "\n",
      "Cross Validation\n",
      "----------------\n",
      "               F1  MCC Binary  Log Loss Binary   AUC  Precision  Balanced Accuracy Binary  Accuracy Binary  Sensitivity at Low Alert Rates # Training # Validation\n",
      "0           0.731       0.646            0.279 0.927      0.732                     0.823            0.871                           0.012     17,365        8,683\n",
      "1           0.735       0.646            0.281 0.928      0.698                     0.835            0.865                           0.008     17,365        8,683\n",
      "2           0.717       0.625            0.289 0.923      0.699                     0.818            0.860                           0.012     17,366        8,682\n",
      "mean        0.728       0.639            0.283 0.926      0.710                     0.825            0.865                           0.011          -            -\n",
      "std         0.009       0.012            0.006 0.003      0.019                     0.009            0.005                           0.003          -            -\n",
      "coef of var 0.013       0.019            0.019 0.003      0.027                     0.010            0.006                           0.252          -            -\n"
     ]
    }
   ],
   "source": [
    "# getting details about best pipeline\n",
    "automl.describe_pipeline(automl.rankings.iloc[0][\"id\"])"
   ]
  },
  {
   "cell_type": "code",
   "execution_count": 17,
   "id": "indian-dining",
   "metadata": {
    "execution": {
     "iopub.execute_input": "2021-04-29T04:28:37.825777Z",
     "iopub.status.busy": "2021-04-29T04:28:37.824626Z",
     "iopub.status.idle": "2021-04-29T04:28:37.918014Z",
     "shell.execute_reply": "2021-04-29T04:28:37.917478Z"
    },
    "papermill": {
     "duration": 0.417391,
     "end_time": "2021-04-29T04:28:37.918242",
     "exception": false,
     "start_time": "2021-04-29T04:28:37.500851",
     "status": "completed"
    },
    "tags": []
   },
   "outputs": [
    {
     "name": "stdout",
     "output_type": "stream",
     "text": [
      "\n",
      "***********************************************************************************\n",
      "* LightGBM Classifier w/ Imputer + Text Featurization Component + One Hot Encoder *\n",
      "***********************************************************************************\n",
      "\n",
      "Problem Type: binary\n",
      "Model Family: LightGBM\n",
      "\n",
      "Pipeline Steps\n",
      "==============\n",
      "1. Imputer\n",
      "\t * categorical_impute_strategy : most_frequent\n",
      "\t * numeric_impute_strategy : mean\n",
      "\t * categorical_fill_value : None\n",
      "\t * numeric_fill_value : None\n",
      "2. Text Featurization Component\n",
      "3. One Hot Encoder\n",
      "\t * top_n : 10\n",
      "\t * features_to_encode : None\n",
      "\t * categories : None\n",
      "\t * drop : if_binary\n",
      "\t * handle_unknown : ignore\n",
      "\t * handle_missing : error\n",
      "4. LightGBM Classifier\n",
      "\t * boosting_type : gbdt\n",
      "\t * learning_rate : 0.1\n",
      "\t * n_estimators : 100\n",
      "\t * max_depth : 0\n",
      "\t * num_leaves : 31\n",
      "\t * min_child_samples : 20\n",
      "\t * n_jobs : -1\n",
      "\t * bagging_freq : 0\n",
      "\t * bagging_fraction : 0.9\n",
      "\n",
      "Training\n",
      "========\n",
      "Training for binary problems.\n",
      "Objective to optimize binary classification pipeline thresholds for: <evalml.objectives.standard_metrics.F1 object at 0x7f1f70739090>\n",
      "Total training time (including CV): 152.8 seconds\n",
      "\n",
      "Cross Validation\n",
      "----------------\n",
      "               F1  MCC Binary  Log Loss Binary   AUC  Precision  Balanced Accuracy Binary  Accuracy Binary  Sensitivity at Low Alert Rates # Training # Validation\n",
      "0           0.724       0.631            0.280 0.926      0.679                     0.830            0.858                           0.007     17,365        8,683\n",
      "1           0.731       0.640            0.282 0.927      0.678                     0.837            0.859                           0.009     17,365        8,683\n",
      "2           0.717       0.623            0.290 0.922      0.681                     0.823            0.856                           0.012     17,366        8,682\n",
      "mean        0.724       0.631            0.284 0.925      0.679                     0.830            0.858                           0.009          -            -\n",
      "std         0.007       0.009            0.005 0.003      0.001                     0.007            0.002                           0.002          -            -\n",
      "coef of var 0.009       0.014            0.017 0.003      0.002                     0.008            0.002                           0.258          -            -\n"
     ]
    }
   ],
   "source": [
    "# getting details about 2nd best pipeline\n",
    "automl.describe_pipeline(automl.rankings.iloc[1][\"id\"])"
   ]
  },
  {
   "cell_type": "code",
   "execution_count": 18,
   "id": "comparable-dressing",
   "metadata": {
    "execution": {
     "iopub.execute_input": "2021-04-29T04:28:38.543378Z",
     "iopub.status.busy": "2021-04-29T04:28:38.542659Z",
     "iopub.status.idle": "2021-04-29T04:28:39.222919Z",
     "shell.execute_reply": "2021-04-29T04:28:39.223837Z"
    },
    "papermill": {
     "duration": 0.999636,
     "end_time": "2021-04-29T04:28:39.224017",
     "exception": false,
     "start_time": "2021-04-29T04:28:38.224381",
     "status": "completed"
    },
    "tags": []
   },
   "outputs": [
    {
     "data": {
      "image/svg+xml": [
       "<?xml version=\"1.0\" encoding=\"UTF-8\" standalone=\"no\"?>\n",
       "<!DOCTYPE svg PUBLIC \"-//W3C//DTD SVG 1.1//EN\"\n",
       " \"http://www.w3.org/Graphics/SVG/1.1/DTD/svg11.dtd\">\n",
       "<!-- Generated by graphviz version 2.47.0 (20210316.1410)\n",
       " -->\n",
       "<!-- Pages: 1 -->\n",
       "<svg width=\"1056pt\" height=\"130pt\"\n",
       " viewBox=\"0.00 0.00 1056.00 130.00\" xmlns=\"http://www.w3.org/2000/svg\" xmlns:xlink=\"http://www.w3.org/1999/xlink\">\n",
       "<g id=\"graph0\" class=\"graph\" transform=\"scale(1 1) rotate(0) translate(4 126)\">\n",
       "<polygon fill=\"white\" stroke=\"transparent\" points=\"-4,4 -4,-126 1052,-126 1052,4 -4,4\"/>\n",
       "<!-- Imputer -->\n",
       "<g id=\"node1\" class=\"node\">\n",
       "<title>Imputer</title>\n",
       "<polygon fill=\"none\" stroke=\"black\" points=\"0,-15.5 0,-106.5 338,-106.5 338,-15.5 0,-15.5\"/>\n",
       "<text text-anchor=\"middle\" x=\"169\" y=\"-91.3\" font-family=\"Times-Roman\" font-size=\"14.00\">Imputer</text>\n",
       "<polyline fill=\"none\" stroke=\"black\" points=\"0,-83.5 338,-83.5 \"/>\n",
       "<text text-anchor=\"start\" x=\"8\" y=\"-68.3\" font-family=\"Times-Roman\" font-size=\"14.00\">categorical_impute_strategy : most_frequent</text>\n",
       "<text text-anchor=\"start\" x=\"8\" y=\"-53.3\" font-family=\"Times-Roman\" font-size=\"14.00\">numeric_impute_strategy : mean</text>\n",
       "<text text-anchor=\"start\" x=\"8\" y=\"-38.3\" font-family=\"Times-Roman\" font-size=\"14.00\">categorical_fill_value : None</text>\n",
       "<text text-anchor=\"start\" x=\"8\" y=\"-23.3\" font-family=\"Times-Roman\" font-size=\"14.00\">numeric_fill_value : None</text>\n",
       "</g>\n",
       "<!-- Text Featurization Component -->\n",
       "<g id=\"node2\" class=\"node\">\n",
       "<title>Text Featurization Component</title>\n",
       "<polygon fill=\"none\" stroke=\"black\" points=\"374,-37.5 374,-84.5 605,-84.5 605,-37.5 374,-37.5\"/>\n",
       "<text text-anchor=\"middle\" x=\"489.5\" y=\"-69.3\" font-family=\"Times-Roman\" font-size=\"14.00\">Text Featurization Component</text>\n",
       "<polyline fill=\"none\" stroke=\"black\" points=\"374,-61.5 605,-61.5 \"/>\n",
       "</g>\n",
       "<!-- Imputer&#45;&gt;Text Featurization Component -->\n",
       "<g id=\"edge1\" class=\"edge\">\n",
       "<title>Imputer&#45;&gt;Text Featurization Component</title>\n",
       "<path fill=\"none\" stroke=\"black\" d=\"M338.17,-61C338.17,-61 363.81,-61 363.81,-61\"/>\n",
       "<polygon fill=\"black\" stroke=\"black\" points=\"363.81,-64.5 373.81,-61 363.81,-57.5 363.81,-64.5\"/>\n",
       "</g>\n",
       "<!-- One Hot Encoder -->\n",
       "<g id=\"node3\" class=\"node\">\n",
       "<title>One Hot Encoder</title>\n",
       "<polygon fill=\"none\" stroke=\"black\" points=\"641,-0.5 641,-121.5 850,-121.5 850,-0.5 641,-0.5\"/>\n",
       "<text text-anchor=\"middle\" x=\"745.5\" y=\"-106.3\" font-family=\"Times-Roman\" font-size=\"14.00\">One Hot Encoder</text>\n",
       "<polyline fill=\"none\" stroke=\"black\" points=\"641,-98.5 850,-98.5 \"/>\n",
       "<text text-anchor=\"start\" x=\"649\" y=\"-83.3\" font-family=\"Times-Roman\" font-size=\"14.00\">top_n : 10</text>\n",
       "<text text-anchor=\"start\" x=\"649\" y=\"-68.3\" font-family=\"Times-Roman\" font-size=\"14.00\">features_to_encode : None</text>\n",
       "<text text-anchor=\"start\" x=\"649\" y=\"-53.3\" font-family=\"Times-Roman\" font-size=\"14.00\">categories : None</text>\n",
       "<text text-anchor=\"start\" x=\"649\" y=\"-38.3\" font-family=\"Times-Roman\" font-size=\"14.00\">drop : if_binary</text>\n",
       "<text text-anchor=\"start\" x=\"649\" y=\"-23.3\" font-family=\"Times-Roman\" font-size=\"14.00\">handle_unknown : ignore</text>\n",
       "<text text-anchor=\"start\" x=\"649\" y=\"-8.3\" font-family=\"Times-Roman\" font-size=\"14.00\">handle_missing : error</text>\n",
       "</g>\n",
       "<!-- Text Featurization Component&#45;&gt;One Hot Encoder -->\n",
       "<g id=\"edge2\" class=\"edge\">\n",
       "<title>Text Featurization Component&#45;&gt;One Hot Encoder</title>\n",
       "<path fill=\"none\" stroke=\"black\" d=\"M605.14,-61C605.14,-61 630.93,-61 630.93,-61\"/>\n",
       "<polygon fill=\"black\" stroke=\"black\" points=\"630.93,-64.5 640.93,-61 630.93,-57.5 630.93,-64.5\"/>\n",
       "</g>\n",
       "<!-- XGBoost Classifier -->\n",
       "<g id=\"node4\" class=\"node\">\n",
       "<title>XGBoost Classifier</title>\n",
       "<polygon fill=\"none\" stroke=\"black\" points=\"886,-15.5 886,-106.5 1048,-106.5 1048,-15.5 886,-15.5\"/>\n",
       "<text text-anchor=\"middle\" x=\"967\" y=\"-91.3\" font-family=\"Times-Roman\" font-size=\"14.00\">XGBoost Classifier</text>\n",
       "<polyline fill=\"none\" stroke=\"black\" points=\"886,-83.5 1048,-83.5 \"/>\n",
       "<text text-anchor=\"start\" x=\"894\" y=\"-68.3\" font-family=\"Times-Roman\" font-size=\"14.00\">eta : 0.10</text>\n",
       "<text text-anchor=\"start\" x=\"894\" y=\"-53.3\" font-family=\"Times-Roman\" font-size=\"14.00\">max_depth : 6</text>\n",
       "<text text-anchor=\"start\" x=\"894\" y=\"-38.3\" font-family=\"Times-Roman\" font-size=\"14.00\">min_child_weight : 1</text>\n",
       "<text text-anchor=\"start\" x=\"894\" y=\"-23.3\" font-family=\"Times-Roman\" font-size=\"14.00\">n_estimators : 100</text>\n",
       "</g>\n",
       "<!-- One Hot Encoder&#45;&gt;XGBoost Classifier -->\n",
       "<g id=\"edge3\" class=\"edge\">\n",
       "<title>One Hot Encoder&#45;&gt;XGBoost Classifier</title>\n",
       "<path fill=\"none\" stroke=\"black\" d=\"M850.09,-61C850.09,-61 875.77,-61 875.77,-61\"/>\n",
       "<polygon fill=\"black\" stroke=\"black\" points=\"875.77,-64.5 885.77,-61 875.77,-57.5 875.77,-64.5\"/>\n",
       "</g>\n",
       "</g>\n",
       "</svg>\n"
      ],
      "text/plain": [
       "<graphviz.dot.Digraph at 0x7f1f33e851d0>"
      ]
     },
     "execution_count": 18,
     "metadata": {},
     "output_type": "execute_result"
    }
   ],
   "source": [
    "#visualizing best pipeline flow \n",
    "best_pipeline = automl.best_pipeline\n",
    "best_pipeline.graph()"
   ]
  },
  {
   "cell_type": "markdown",
   "id": "vanilla-bridge",
   "metadata": {
    "papermill": {
     "duration": 0.300845,
     "end_time": "2021-04-29T04:28:39.834345",
     "exception": false,
     "start_time": "2021-04-29T04:28:39.533500",
     "status": "completed"
    },
    "tags": []
   },
   "source": [
    "### 5. Evaluating the best pipeline on test data"
   ]
  },
  {
   "cell_type": "code",
   "execution_count": 19,
   "id": "fifteen-spice",
   "metadata": {
    "execution": {
     "iopub.execute_input": "2021-04-29T04:28:40.363707Z",
     "iopub.status.busy": "2021-04-29T04:28:40.363066Z",
     "iopub.status.idle": "2021-04-29T04:28:53.783880Z",
     "shell.execute_reply": "2021-04-29T04:28:53.784315Z"
    },
    "papermill": {
     "duration": 13.695947,
     "end_time": "2021-04-29T04:28:53.784497",
     "exception": false,
     "start_time": "2021-04-29T04:28:40.088550",
     "status": "completed"
    },
    "tags": []
   },
   "outputs": [
    {
     "data": {
      "text/plain": [
       "OrderedDict([('AUC', 0.9251058196281546), ('F1', 0.7250155183116077)])"
      ]
     },
     "execution_count": 19,
     "metadata": {},
     "output_type": "execute_result"
    }
   ],
   "source": [
    "best_pipeline.score(X_test, y_test, objectives = [\"auc\",\"f1\"]) "
   ]
  }
 ],
 "metadata": {
  "kernelspec": {
   "display_name": "Python 3",
   "language": "python",
   "name": "python3"
  },
  "language_info": {
   "codemirror_mode": {
    "name": "ipython",
    "version": 3
   },
   "file_extension": ".py",
   "mimetype": "text/x-python",
   "name": "python",
   "nbconvert_exporter": "python",
   "pygments_lexer": "ipython3",
   "version": "3.7.9"
  },
  "papermill": {
   "default_parameters": {},
   "duration": 1382.150971,
   "end_time": "2021-04-29T04:28:56.023204",
   "environment_variables": {},
   "exception": null,
   "input_path": "__notebook__.ipynb",
   "output_path": "__notebook__.ipynb",
   "parameters": {},
   "start_time": "2021-04-29T04:05:53.872233",
   "version": "2.3.2"
  },
  "widgets": {
   "application/vnd.jupyter.widget-state+json": {
    "state": {
     "7ee726d8574548dfb7c33cf0767d49e4": {
      "model_module": "plotlywidget",
      "model_module_version": "^4.14.3",
      "model_name": "FigureModel",
      "state": {
       "_config": {
        "plotlyServerURL": "https://plot.ly"
       },
       "_data": [
        {
         "mode": "lines+markers",
         "name": "Best Score",
         "type": "scatter",
         "uid": "5180efca-cf6e-4f1b-a6e5-7e6242b5c1a8",
         "x": [],
         "y": []
        },
        {
         "marker": {
          "color": "gray"
         },
         "mode": "markers",
         "name": "Iter score",
         "type": "scatter",
         "uid": "46f23893-ad91-44af-8d7a-8696830e7403",
         "x": [],
         "y": []
        }
       ],
       "_dom_classes": [],
       "_js2py_layoutDelta": {},
       "_js2py_pointsCallback": {},
       "_js2py_relayout": {},
       "_js2py_restyle": {},
       "_js2py_traceDeltas": {},
       "_js2py_update": {},
       "_last_layout_edit_id": 37,
       "_last_trace_edit_id": 37,
       "_layout": {
        "title": {
         "text": "Pipeline Search: Iteration vs. F1<br><sub>Gray marker indicates the score at current iteration</sub>"
        },
        "xaxis": {
         "rangemode": "tozero",
         "title": {
          "text": "Iteration"
         }
        },
        "yaxis": {
         "title": {
          "text": "Score"
         }
        }
       },
       "_model_module": "plotlywidget",
       "_model_module_version": "^4.14.3",
       "_model_name": "FigureModel",
       "_py2js_addTraces": {},
       "_py2js_animate": {},
       "_py2js_deleteTraces": {},
       "_py2js_moveTraces": {},
       "_py2js_relayout": null,
       "_py2js_removeLayoutProps": {},
       "_py2js_removeTraceProps": {},
       "_py2js_restyle": null,
       "_py2js_update": null,
       "_view_count": 0,
       "_view_module": "plotlywidget",
       "_view_module_version": "^4.14.3",
       "_view_name": "FigureView"
      }
     }
    },
    "version_major": 2,
    "version_minor": 0
   }
  }
 },
 "nbformat": 4,
 "nbformat_minor": 5
}
