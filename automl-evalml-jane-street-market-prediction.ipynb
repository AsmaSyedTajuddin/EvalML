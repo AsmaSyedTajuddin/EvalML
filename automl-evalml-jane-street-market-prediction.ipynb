{
 "cells": [
  {
   "cell_type": "markdown",
   "id": "bottom-garden",
   "metadata": {
    "papermill": {
     "duration": 0.011103,
     "end_time": "2021-05-16T10:17:12.487266",
     "exception": false,
     "start_time": "2021-05-16T10:17:12.476163",
     "status": "completed"
    },
    "tags": []
   },
   "source": [
    "Hello.\n",
    "\n",
    "I find AutoML tools the best for baseline models, so here I'm trying another one called EvalML. You may find my other AutoML notebooks [here ](https://www.kaggle.com/kritidoneria/code?userId=1260510&sortBy=dateRun&tab=profile&language=Python&privacy=public)\n",
    "\n",
    "A huge shoutout to [this](https://www.kaggle.com/gauravduttakiit/automate-the-ml-pipelines-with-evalml) Notebook for introducing me to this library.\n",
    "[I've also used EvalML to compete in TPS May](https://www.kaggle.com/kritidoneria/automl-tps-may21-using-evalml)\n",
    "Another reference for this work is [here](https://www.kaggle.com/tsnarendran14/jane-street-simple-xgb-model/data)"
   ]
  },
  {
   "cell_type": "markdown",
   "id": "complex-tribute",
   "metadata": {
    "papermill": {
     "duration": 0.009634,
     "end_time": "2021-05-16T10:17:12.506934",
     "exception": false,
     "start_time": "2021-05-16T10:17:12.497300",
     "status": "completed"
    },
    "tags": []
   },
   "source": [
    "<h1> Introduction to library </h1>"
   ]
  },
  {
   "cell_type": "markdown",
   "id": "minor-bookmark",
   "metadata": {
    "papermill": {
     "duration": 0.009628,
     "end_time": "2021-05-16T10:17:12.527077",
     "exception": false,
     "start_time": "2021-05-16T10:17:12.517449",
     "status": "completed"
    },
    "tags": []
   },
   "source": [
    "Source: https://github.com/alteryx/evalml\n",
    "\n",
    "EvalML is an AutoML library which builds, optimizes, and evaluates machine learning pipelines using domain-specific objective functions.\n",
    "\n",
    "**Key Functionality**\n",
    "\n",
    "1. Automation - Makes machine learning easier. Avoid training and tuning models by hand. Includes data quality checks, cross-validation and more.\n",
    "2. Data Checks - Catches and warns of problems with your data and problem setup before modeling.\n",
    "3. End-to-end - Constructs and optimizes pipelines that include state-of-the-art preprocessing, feature engineering, feature selection, and a variety of modeling techniques.\n",
    "4. Model Understanding - Provides tools to understand and introspect on models, to learn how they'll behave in your problem domain.\n",
    "5. Domain-specific - Includes repository of domain-specific objective functions and an interface to define your own."
   ]
  },
  {
   "cell_type": "markdown",
   "id": "pharmaceutical-employment",
   "metadata": {
    "papermill": {
     "duration": 0.009709,
     "end_time": "2021-05-16T10:17:12.546643",
     "exception": false,
     "start_time": "2021-05-16T10:17:12.536934",
     "status": "completed"
    },
    "tags": []
   },
   "source": [
    "<h1> Installation from Pypi </h1>"
   ]
  },
  {
   "cell_type": "code",
   "execution_count": 1,
   "id": "designing-village",
   "metadata": {
    "_kg_hide-output": true,
    "execution": {
     "iopub.execute_input": "2021-05-16T10:17:12.584933Z",
     "iopub.status.busy": "2021-05-16T10:17:12.574262Z",
     "iopub.status.idle": "2021-05-16T10:17:41.043647Z",
     "shell.execute_reply": "2021-05-16T10:17:41.043003Z"
    },
    "papermill": {
     "duration": 28.487265,
     "end_time": "2021-05-16T10:17:41.043802",
     "exception": false,
     "start_time": "2021-05-16T10:17:12.556537",
     "status": "completed"
    },
    "tags": []
   },
   "outputs": [
    {
     "name": "stdout",
     "output_type": "stream",
     "text": [
      "Collecting evalml\r\n",
      "  Downloading evalml-0.24.0-py3-none-any.whl (6.2 MB)\r\n",
      "\u001b[K     |████████████████████████████████| 6.2 MB 4.4 MB/s \r\n",
      "\u001b[?25hCollecting graphviz>=0.13\r\n",
      "  Downloading graphviz-0.16-py2.py3-none-any.whl (19 kB)\r\n",
      "Requirement already satisfied: cloudpickle>=0.2.2 in /opt/conda/lib/python3.7/site-packages (from evalml) (1.6.0)\r\n",
      "Requirement already satisfied: catboost>=0.20 in /opt/conda/lib/python3.7/site-packages (from evalml) (0.25.1)\r\n",
      "Requirement already satisfied: pandas>=1.1.0 in /opt/conda/lib/python3.7/site-packages (from evalml) (1.2.3)\r\n",
      "Requirement already satisfied: ipywidgets>=7.5 in /opt/conda/lib/python3.7/site-packages (from evalml) (7.6.3)\r\n",
      "Requirement already satisfied: scipy>=1.2.1 in /opt/conda/lib/python3.7/site-packages (from evalml) (1.5.4)\r\n",
      "Collecting requirements-parser>=0.2.0\r\n",
      "  Downloading requirements-parser-0.2.0.tar.gz (6.3 kB)\r\n",
      "Collecting kaleido>=0.1.0\r\n",
      "  Downloading kaleido-0.2.1-py2.py3-none-manylinux1_x86_64.whl (79.9 MB)\r\n",
      "\u001b[K     |████████████████████████████████| 79.9 MB 102.9 MB/s \r\n",
      "\u001b[?25hRequirement already satisfied: networkx>=2.5 in /opt/conda/lib/python3.7/site-packages (from evalml) (2.5)\r\n",
      "Collecting lightgbm<3.1.0,>=2.3.1\r\n",
      "  Downloading lightgbm-3.0.0-py2.py3-none-manylinux1_x86_64.whl (1.7 MB)\r\n",
      "\u001b[K     |████████████████████████████████| 1.7 MB 17.8 MB/s \r\n",
      "\u001b[?25hRequirement already satisfied: colorama in /opt/conda/lib/python3.7/site-packages (from evalml) (0.4.4)\r\n",
      "Requirement already satisfied: category-encoders>=2.0.0 in /opt/conda/lib/python3.7/site-packages (from evalml) (2.2.2)\r\n",
      "Collecting pyzmq<22.0.0\r\n",
      "  Downloading pyzmq-21.0.2-cp37-cp37m-manylinux1_x86_64.whl (6.7 MB)\r\n",
      "\u001b[K     |████████████████████████████████| 6.7 MB 19.4 MB/s \r\n",
      "\u001b[?25hCollecting sktime>=0.5.3\r\n",
      "  Downloading sktime-0.6.1-cp37-cp37m-manylinux_2_17_x86_64.manylinux2014_x86_64.whl (5.7 MB)\r\n",
      "\u001b[K     |████████████████████████████████| 5.7 MB 18.4 MB/s \r\n",
      "\u001b[?25hRequirement already satisfied: plotly>=4.14.0 in /opt/conda/lib/python3.7/site-packages (from evalml) (4.14.3)\r\n",
      "Collecting nlp-primitives>=1.1.0\r\n",
      "  Downloading nlp_primitives-1.1.0-py3-none-any.whl (18.0 MB)\r\n",
      "\u001b[K     |████████████████████████████████| 18.0 MB 15.7 MB/s \r\n",
      "\u001b[?25hRequirement already satisfied: shap>=0.36.0 in /opt/conda/lib/python3.7/site-packages (from evalml) (0.39.0)\r\n",
      "Collecting xgboost<1.3.0,>=0.82\r\n",
      "  Downloading xgboost-1.2.1-py3-none-manylinux2010_x86_64.whl (148.9 MB)\r\n",
      "\u001b[K     |████████████████████████████████| 148.9 MB 85 kB/s \r\n",
      "\u001b[?25hRequirement already satisfied: matplotlib>=3.3.3 in /opt/conda/lib/python3.7/site-packages (from evalml) (3.4.1)\r\n",
      "Requirement already satisfied: psutil>=5.6.3 in /opt/conda/lib/python3.7/site-packages (from evalml) (5.8.0)\r\n",
      "Requirement already satisfied: imbalanced-learn>=0.8.0 in /opt/conda/lib/python3.7/site-packages (from evalml) (0.8.0)\r\n",
      "Requirement already satisfied: scikit-learn>=0.23.1 in /opt/conda/lib/python3.7/site-packages (from evalml) (0.24.1)\r\n",
      "Requirement already satisfied: dask>=2.12.0 in /opt/conda/lib/python3.7/site-packages (from evalml) (2021.4.0)\r\n",
      "Requirement already satisfied: statsmodels>=0.12.2 in /opt/conda/lib/python3.7/site-packages (from evalml) (0.12.2)\r\n",
      "Requirement already satisfied: featuretools>=0.20.0 in /opt/conda/lib/python3.7/site-packages (from evalml) (0.23.3)\r\n",
      "Collecting woodwork==0.0.11\r\n",
      "  Downloading woodwork-0.0.11-py3-none-any.whl (91 kB)\r\n",
      "\u001b[K     |████████████████████████████████| 91 kB 8.5 MB/s \r\n",
      "\u001b[?25hRequirement already satisfied: numpy>=1.19.1 in /opt/conda/lib/python3.7/site-packages (from evalml) (1.19.5)\r\n",
      "Requirement already satisfied: scikit-optimize>=0.8.1 in /opt/conda/lib/python3.7/site-packages (from evalml) (0.8.1)\r\n",
      "Requirement already satisfied: texttable>=1.6.2 in /opt/conda/lib/python3.7/site-packages (from evalml) (1.6.3)\r\n",
      "Requirement already satisfied: seaborn>=0.11.1 in /opt/conda/lib/python3.7/site-packages (from evalml) (0.11.1)\r\n",
      "Requirement already satisfied: click>=7.0.0 in /opt/conda/lib/python3.7/site-packages (from evalml) (7.1.2)\r\n",
      "Requirement already satisfied: six in /opt/conda/lib/python3.7/site-packages (from catboost>=0.20->evalml) (1.15.0)\r\n",
      "Requirement already satisfied: patsy>=0.5.1 in /opt/conda/lib/python3.7/site-packages (from category-encoders>=2.0.0->evalml) (0.5.1)\r\n",
      "Requirement already satisfied: pyyaml in /opt/conda/lib/python3.7/site-packages (from dask>=2.12.0->evalml) (5.3.1)\r\n",
      "Requirement already satisfied: toolz>=0.8.2 in /opt/conda/lib/python3.7/site-packages (from dask>=2.12.0->evalml) (0.11.1)\r\n",
      "Requirement already satisfied: fsspec>=0.6.0 in /opt/conda/lib/python3.7/site-packages (from dask>=2.12.0->evalml) (0.8.7)\r\n",
      "Requirement already satisfied: partd>=0.3.10 in /opt/conda/lib/python3.7/site-packages (from dask>=2.12.0->evalml) (1.2.0)\r\n",
      "Requirement already satisfied: tqdm>=4.32.0 in /opt/conda/lib/python3.7/site-packages (from featuretools>=0.20.0->evalml) (4.59.0)\r\n",
      "Requirement already satisfied: distributed>=2.12.0 in /opt/conda/lib/python3.7/site-packages (from featuretools>=0.20.0->evalml) (2021.4.0)\r\n",
      "Requirement already satisfied: setuptools in /opt/conda/lib/python3.7/site-packages (from distributed>=2.12.0->featuretools>=0.20.0->evalml) (49.6.0.post20210108)\r\n",
      "Requirement already satisfied: tblib>=1.6.0 in /opt/conda/lib/python3.7/site-packages (from distributed>=2.12.0->featuretools>=0.20.0->evalml) (1.7.0)\r\n",
      "Requirement already satisfied: tornado>=5 in /opt/conda/lib/python3.7/site-packages (from distributed>=2.12.0->featuretools>=0.20.0->evalml) (6.1)\r\n",
      "Requirement already satisfied: msgpack>=0.6.0 in /opt/conda/lib/python3.7/site-packages (from distributed>=2.12.0->featuretools>=0.20.0->evalml) (1.0.2)\r\n",
      "Requirement already satisfied: zict>=0.1.3 in /opt/conda/lib/python3.7/site-packages (from distributed>=2.12.0->featuretools>=0.20.0->evalml) (2.0.0)\r\n",
      "Requirement already satisfied: sortedcontainers!=2.0.0,!=2.0.1 in /opt/conda/lib/python3.7/site-packages (from distributed>=2.12.0->featuretools>=0.20.0->evalml) (2.3.0)\r\n",
      "Requirement already satisfied: importlib-metadata in /opt/conda/lib/python3.7/site-packages (from fsspec>=0.6.0->dask>=2.12.0->evalml) (3.4.0)\r\n",
      "Requirement already satisfied: joblib>=0.11 in /opt/conda/lib/python3.7/site-packages (from imbalanced-learn>=0.8.0->evalml) (1.0.1)\r\n",
      "Requirement already satisfied: ipython>=4.0.0 in /opt/conda/lib/python3.7/site-packages (from ipywidgets>=7.5->evalml) (7.22.0)\r\n",
      "Requirement already satisfied: nbformat>=4.2.0 in /opt/conda/lib/python3.7/site-packages (from ipywidgets>=7.5->evalml) (5.1.2)\r\n",
      "Requirement already satisfied: widgetsnbextension~=3.5.0 in /opt/conda/lib/python3.7/site-packages (from ipywidgets>=7.5->evalml) (3.5.1)\r\n",
      "Requirement already satisfied: traitlets>=4.3.1 in /opt/conda/lib/python3.7/site-packages (from ipywidgets>=7.5->evalml) (5.0.5)\r\n",
      "Requirement already satisfied: jupyterlab-widgets>=1.0.0 in /opt/conda/lib/python3.7/site-packages (from ipywidgets>=7.5->evalml) (1.0.0)\r\n",
      "Requirement already satisfied: ipykernel>=4.5.1 in /opt/conda/lib/python3.7/site-packages (from ipywidgets>=7.5->evalml) (5.5.0)\r\n",
      "Requirement already satisfied: jupyter-client in /opt/conda/lib/python3.7/site-packages (from ipykernel>=4.5.1->ipywidgets>=7.5->evalml) (6.1.12)\r\n",
      "Requirement already satisfied: decorator in /opt/conda/lib/python3.7/site-packages (from ipython>=4.0.0->ipywidgets>=7.5->evalml) (4.4.2)\r\n",
      "Requirement already satisfied: jedi>=0.16 in /opt/conda/lib/python3.7/site-packages (from ipython>=4.0.0->ipywidgets>=7.5->evalml) (0.18.0)\r\n",
      "Requirement already satisfied: prompt-toolkit!=3.0.0,!=3.0.1,<3.1.0,>=2.0.0 in /opt/conda/lib/python3.7/site-packages (from ipython>=4.0.0->ipywidgets>=7.5->evalml) (3.0.18)\r\n",
      "Requirement already satisfied: pygments in /opt/conda/lib/python3.7/site-packages (from ipython>=4.0.0->ipywidgets>=7.5->evalml) (2.8.1)\r\n",
      "Requirement already satisfied: pexpect>4.3 in /opt/conda/lib/python3.7/site-packages (from ipython>=4.0.0->ipywidgets>=7.5->evalml) (4.8.0)\r\n",
      "Requirement already satisfied: backcall in /opt/conda/lib/python3.7/site-packages (from ipython>=4.0.0->ipywidgets>=7.5->evalml) (0.2.0)\r\n",
      "Requirement already satisfied: pickleshare in /opt/conda/lib/python3.7/site-packages (from ipython>=4.0.0->ipywidgets>=7.5->evalml) (0.7.5)\r\n",
      "Requirement already satisfied: parso<0.9.0,>=0.8.0 in /opt/conda/lib/python3.7/site-packages (from jedi>=0.16->ipython>=4.0.0->ipywidgets>=7.5->evalml) (0.8.1)\r\n",
      "Requirement already satisfied: python-dateutil>=2.7 in /opt/conda/lib/python3.7/site-packages (from matplotlib>=3.3.3->evalml) (2.8.1)\r\n",
      "Requirement already satisfied: cycler>=0.10 in /opt/conda/lib/python3.7/site-packages (from matplotlib>=3.3.3->evalml) (0.10.0)\r\n",
      "Requirement already satisfied: pillow>=6.2.0 in /opt/conda/lib/python3.7/site-packages (from matplotlib>=3.3.3->evalml) (7.2.0)\r\n",
      "Requirement already satisfied: kiwisolver>=1.0.1 in /opt/conda/lib/python3.7/site-packages (from matplotlib>=3.3.3->evalml) (1.3.1)\r\n",
      "Requirement already satisfied: pyparsing>=2.2.1 in /opt/conda/lib/python3.7/site-packages (from matplotlib>=3.3.3->evalml) (2.4.7)\r\n",
      "Requirement already satisfied: jsonschema!=2.5.0,>=2.4 in /opt/conda/lib/python3.7/site-packages (from nbformat>=4.2.0->ipywidgets>=7.5->evalml) (3.2.0)\r\n",
      "Requirement already satisfied: jupyter-core in /opt/conda/lib/python3.7/site-packages (from nbformat>=4.2.0->ipywidgets>=7.5->evalml) (4.7.1)\r\n",
      "Requirement already satisfied: ipython-genutils in /opt/conda/lib/python3.7/site-packages (from nbformat>=4.2.0->ipywidgets>=7.5->evalml) (0.2.0)\r\n",
      "Requirement already satisfied: pyrsistent>=0.14.0 in /opt/conda/lib/python3.7/site-packages (from jsonschema!=2.5.0,>=2.4->nbformat>=4.2.0->ipywidgets>=7.5->evalml) (0.17.3)\r\n",
      "Requirement already satisfied: attrs>=17.4.0 in /opt/conda/lib/python3.7/site-packages (from jsonschema!=2.5.0,>=2.4->nbformat>=4.2.0->ipywidgets>=7.5->evalml) (20.3.0)\r\n",
      "Collecting nltk>=3.4.5\r\n",
      "  Downloading nltk-3.6.2-py3-none-any.whl (1.5 MB)\r\n",
      "\u001b[K     |████████████████████████████████| 1.5 MB 21.4 MB/s \r\n",
      "\u001b[?25hRequirement already satisfied: regex in /opt/conda/lib/python3.7/site-packages (from nltk>=3.4.5->nlp-primitives>=1.1.0->evalml) (2021.3.17)\r\n",
      "Requirement already satisfied: pytz>=2017.3 in /opt/conda/lib/python3.7/site-packages (from pandas>=1.1.0->evalml) (2021.1)\r\n",
      "Requirement already satisfied: locket in /opt/conda/lib/python3.7/site-packages (from partd>=0.3.10->dask>=2.12.0->evalml) (0.2.1)\r\n",
      "Requirement already satisfied: ptyprocess>=0.5 in /opt/conda/lib/python3.7/site-packages (from pexpect>4.3->ipython>=4.0.0->ipywidgets>=7.5->evalml) (0.7.0)\r\n",
      "Requirement already satisfied: retrying>=1.3.3 in /opt/conda/lib/python3.7/site-packages (from plotly>=4.14.0->evalml) (1.3.3)\r\n",
      "Requirement already satisfied: wcwidth in /opt/conda/lib/python3.7/site-packages (from prompt-toolkit!=3.0.0,!=3.0.1,<3.1.0,>=2.0.0->ipython>=4.0.0->ipywidgets>=7.5->evalml) (0.2.5)\r\n",
      "Requirement already satisfied: threadpoolctl>=2.0.0 in /opt/conda/lib/python3.7/site-packages (from scikit-learn>=0.23.1->evalml) (2.1.0)\r\n",
      "Requirement already satisfied: pyaml>=16.9 in /opt/conda/lib/python3.7/site-packages (from scikit-optimize>=0.8.1->evalml) (20.4.0)\r\n",
      "Requirement already satisfied: numba in /opt/conda/lib/python3.7/site-packages (from shap>=0.36.0->evalml) (0.53.1)\r\n",
      "Requirement already satisfied: slicer==0.0.7 in /opt/conda/lib/python3.7/site-packages (from shap>=0.36.0->evalml) (0.0.7)\r\n",
      "Requirement already satisfied: wheel in /opt/conda/lib/python3.7/site-packages (from sktime>=0.5.3->evalml) (0.36.2)\r\n",
      "Requirement already satisfied: llvmlite<0.37,>=0.36.0rc1 in /opt/conda/lib/python3.7/site-packages (from numba->shap>=0.36.0->evalml) (0.36.0)\r\n",
      "Requirement already satisfied: notebook>=4.4.1 in /opt/conda/lib/python3.7/site-packages (from widgetsnbextension~=3.5.0->ipywidgets>=7.5->evalml) (6.3.0)\r\n",
      "Requirement already satisfied: prometheus-client in /opt/conda/lib/python3.7/site-packages (from notebook>=4.4.1->widgetsnbextension~=3.5.0->ipywidgets>=7.5->evalml) (0.9.0)\r\n",
      "Requirement already satisfied: nbconvert in /opt/conda/lib/python3.7/site-packages (from notebook>=4.4.1->widgetsnbextension~=3.5.0->ipywidgets>=7.5->evalml) (6.0.7)\r\n",
      "Requirement already satisfied: jinja2 in /opt/conda/lib/python3.7/site-packages (from notebook>=4.4.1->widgetsnbextension~=3.5.0->ipywidgets>=7.5->evalml) (2.11.3)\r\n",
      "Requirement already satisfied: argon2-cffi in /opt/conda/lib/python3.7/site-packages (from notebook>=4.4.1->widgetsnbextension~=3.5.0->ipywidgets>=7.5->evalml) (20.1.0)\r\n",
      "Requirement already satisfied: terminado>=0.8.3 in /opt/conda/lib/python3.7/site-packages (from notebook>=4.4.1->widgetsnbextension~=3.5.0->ipywidgets>=7.5->evalml) (0.9.3)\r\n",
      "Requirement already satisfied: Send2Trash>=1.5.0 in /opt/conda/lib/python3.7/site-packages (from notebook>=4.4.1->widgetsnbextension~=3.5.0->ipywidgets>=7.5->evalml) (1.5.0)\r\n",
      "Requirement already satisfied: heapdict in /opt/conda/lib/python3.7/site-packages (from zict>=0.1.3->distributed>=2.12.0->featuretools>=0.20.0->evalml) (1.0.1)\r\n",
      "Requirement already satisfied: cffi>=1.0.0 in /opt/conda/lib/python3.7/site-packages (from argon2-cffi->notebook>=4.4.1->widgetsnbextension~=3.5.0->ipywidgets>=7.5->evalml) (1.14.5)\r\n",
      "Requirement already satisfied: pycparser in /opt/conda/lib/python3.7/site-packages (from cffi>=1.0.0->argon2-cffi->notebook>=4.4.1->widgetsnbextension~=3.5.0->ipywidgets>=7.5->evalml) (2.20)\r\n",
      "Requirement already satisfied: zipp>=0.5 in /opt/conda/lib/python3.7/site-packages (from importlib-metadata->fsspec>=0.6.0->dask>=2.12.0->evalml) (3.4.1)\r\n",
      "Requirement already satisfied: typing-extensions>=3.6.4 in /opt/conda/lib/python3.7/site-packages (from importlib-metadata->fsspec>=0.6.0->dask>=2.12.0->evalml) (3.7.4.3)\r\n",
      "Requirement already satisfied: MarkupSafe>=0.23 in /opt/conda/lib/python3.7/site-packages (from jinja2->notebook>=4.4.1->widgetsnbextension~=3.5.0->ipywidgets>=7.5->evalml) (1.1.1)\r\n",
      "Requirement already satisfied: jupyterlab-pygments in /opt/conda/lib/python3.7/site-packages (from nbconvert->notebook>=4.4.1->widgetsnbextension~=3.5.0->ipywidgets>=7.5->evalml) (0.1.2)\r\n",
      "Requirement already satisfied: bleach in /opt/conda/lib/python3.7/site-packages (from nbconvert->notebook>=4.4.1->widgetsnbextension~=3.5.0->ipywidgets>=7.5->evalml) (3.3.0)\r\n",
      "Requirement already satisfied: nbclient<0.6.0,>=0.5.0 in /opt/conda/lib/python3.7/site-packages (from nbconvert->notebook>=4.4.1->widgetsnbextension~=3.5.0->ipywidgets>=7.5->evalml) (0.5.3)\r\n",
      "Requirement already satisfied: testpath in /opt/conda/lib/python3.7/site-packages (from nbconvert->notebook>=4.4.1->widgetsnbextension~=3.5.0->ipywidgets>=7.5->evalml) (0.4.4)\r\n",
      "Requirement already satisfied: defusedxml in /opt/conda/lib/python3.7/site-packages (from nbconvert->notebook>=4.4.1->widgetsnbextension~=3.5.0->ipywidgets>=7.5->evalml) (0.7.1)\r\n",
      "Requirement already satisfied: entrypoints>=0.2.2 in /opt/conda/lib/python3.7/site-packages (from nbconvert->notebook>=4.4.1->widgetsnbextension~=3.5.0->ipywidgets>=7.5->evalml) (0.3)\r\n",
      "Requirement already satisfied: mistune<2,>=0.8.1 in /opt/conda/lib/python3.7/site-packages (from nbconvert->notebook>=4.4.1->widgetsnbextension~=3.5.0->ipywidgets>=7.5->evalml) (0.8.4)\r\n",
      "Requirement already satisfied: pandocfilters>=1.4.1 in /opt/conda/lib/python3.7/site-packages (from nbconvert->notebook>=4.4.1->widgetsnbextension~=3.5.0->ipywidgets>=7.5->evalml) (1.4.2)\r\n",
      "Requirement already satisfied: async-generator in /opt/conda/lib/python3.7/site-packages (from nbclient<0.6.0,>=0.5.0->nbconvert->notebook>=4.4.1->widgetsnbextension~=3.5.0->ipywidgets>=7.5->evalml) (1.10)\r\n",
      "Requirement already satisfied: nest-asyncio in /opt/conda/lib/python3.7/site-packages (from nbclient<0.6.0,>=0.5.0->nbconvert->notebook>=4.4.1->widgetsnbextension~=3.5.0->ipywidgets>=7.5->evalml) (1.4.3)\r\n",
      "Requirement already satisfied: packaging in /opt/conda/lib/python3.7/site-packages (from bleach->nbconvert->notebook>=4.4.1->widgetsnbextension~=3.5.0->ipywidgets>=7.5->evalml) (20.9)\r\n",
      "Requirement already satisfied: webencodings in /opt/conda/lib/python3.7/site-packages (from bleach->nbconvert->notebook>=4.4.1->widgetsnbextension~=3.5.0->ipywidgets>=7.5->evalml) (0.5.1)\r\n",
      "Building wheels for collected packages: requirements-parser\r\n",
      "  Building wheel for requirements-parser (setup.py) ... \u001b[?25l-\b \b\\\b \bdone\r\n",
      "\u001b[?25h  Created wheel for requirements-parser: filename=requirements_parser-0.2.0-py3-none-any.whl size=7655 sha256=1420aebd15cdfed5363ec0632cb18825b1c17e533573e2f18a5c7fcd4bcf1b2f\r\n",
      "  Stored in directory: /root/.cache/pip/wheels/40/e4/ca/8af24ee94c3863d620d6a52793d82930f4d1d3515a5121d495\r\n",
      "Successfully built requirements-parser\r\n",
      "Installing collected packages: pyzmq, nltk, graphviz, xgboost, woodwork, sktime, requirements-parser, nlp-primitives, lightgbm, kaleido, evalml\r\n",
      "  Attempting uninstall: pyzmq\r\n",
      "    Found existing installation: pyzmq 22.0.3\r\n",
      "    Uninstalling pyzmq-22.0.3:\r\n",
      "      Successfully uninstalled pyzmq-22.0.3\r\n",
      "  Attempting uninstall: nltk\r\n",
      "    Found existing installation: nltk 3.2.4\r\n",
      "    Uninstalling nltk-3.2.4:\r\n",
      "      Successfully uninstalled nltk-3.2.4\r\n",
      "  Attempting uninstall: graphviz\r\n",
      "    Found existing installation: graphviz 0.8.4\r\n",
      "    Uninstalling graphviz-0.8.4:\r\n",
      "      Successfully uninstalled graphviz-0.8.4\r\n",
      "  Attempting uninstall: xgboost\r\n",
      "    Found existing installation: xgboost 1.4.0\r\n",
      "    Uninstalling xgboost-1.4.0:\r\n",
      "      Successfully uninstalled xgboost-1.4.0\r\n",
      "  Attempting uninstall: lightgbm\r\n",
      "    Found existing installation: lightgbm 3.2.0\r\n",
      "    Uninstalling lightgbm-3.2.0:\r\n",
      "      Successfully uninstalled lightgbm-3.2.0\r\n",
      "\u001b[31mERROR: pip's dependency resolver does not currently take into account all the packages that are installed. This behaviour is the source of the following dependency conflicts.\r\n",
      "preprocessing 0.1.13 requires nltk==3.2.4, but you have nltk 3.6.2 which is incompatible.\r\n",
      "mxnet 1.8.0.post0 requires graphviz<0.9.0,>=0.8.1, but you have graphviz 0.16 which is incompatible.\r\n",
      "jupyterlab-git 0.11.0 requires nbdime<2.0.0,>=1.1.0, but you have nbdime 2.1.0 which is incompatible.\r\n",
      "autogluon-core 0.1.0 requires graphviz<0.9.0,>=0.8.1, but you have graphviz 0.16 which is incompatible.\u001b[0m\r\n",
      "Successfully installed evalml-0.24.0 graphviz-0.16 kaleido-0.2.1 lightgbm-3.0.0 nlp-primitives-1.1.0 nltk-3.6.2 pyzmq-21.0.2 requirements-parser-0.2.0 sktime-0.6.1 woodwork-0.0.11 xgboost-1.2.1\r\n"
     ]
    }
   ],
   "source": [
    "!pip install evalml"
   ]
  },
  {
   "cell_type": "markdown",
   "id": "disabled-excess",
   "metadata": {
    "papermill": {
     "duration": 0.104027,
     "end_time": "2021-05-16T10:17:41.255036",
     "exception": false,
     "start_time": "2021-05-16T10:17:41.151009",
     "status": "completed"
    },
    "tags": []
   },
   "source": [
    "<h1> Load the Dataset </h1>"
   ]
  },
  {
   "cell_type": "code",
   "execution_count": 2,
   "id": "convenient-blackjack",
   "metadata": {
    "execution": {
     "iopub.execute_input": "2021-05-16T10:17:41.464444Z",
     "iopub.status.busy": "2021-05-16T10:17:41.463607Z",
     "iopub.status.idle": "2021-05-16T10:17:52.281109Z",
     "shell.execute_reply": "2021-05-16T10:17:52.281527Z"
    },
    "papermill": {
     "duration": 10.924923,
     "end_time": "2021-05-16T10:17:52.281712",
     "exception": false,
     "start_time": "2021-05-16T10:17:41.356789",
     "status": "completed"
    },
    "tags": []
   },
   "outputs": [],
   "source": [
    "import evalml\n",
    "from evalml import AutoMLSearch\n",
    "import pandas as pd"
   ]
  },
  {
   "cell_type": "code",
   "execution_count": 3,
   "id": "original-michigan",
   "metadata": {
    "execution": {
     "iopub.execute_input": "2021-05-16T10:17:52.491879Z",
     "iopub.status.busy": "2021-05-16T10:17:52.491288Z",
     "iopub.status.idle": "2021-05-16T10:17:53.358389Z",
     "shell.execute_reply": "2021-05-16T10:17:53.357893Z"
    },
    "papermill": {
     "duration": 0.972703,
     "end_time": "2021-05-16T10:17:53.358550",
     "exception": false,
     "start_time": "2021-05-16T10:17:52.385847",
     "status": "completed"
    },
    "tags": []
   },
   "outputs": [],
   "source": [
    "X = pd.read_csv('/kaggle/input/jane-street-market-prediction/train.csv',nrows=1000)\n",
    "#limiting rows here because of computational bottlenecks\n",
    "y = pd.read_csv('/kaggle/input/jane-street-market-prediction/example_test.csv')"
   ]
  },
  {
   "cell_type": "markdown",
   "id": "abstract-graduation",
   "metadata": {
    "papermill": {
     "duration": 0.099461,
     "end_time": "2021-05-16T10:17:53.559219",
     "exception": false,
     "start_time": "2021-05-16T10:17:53.459758",
     "status": "completed"
    },
    "tags": []
   },
   "source": [
    "<h2> Preprocessing</h2>"
   ]
  },
  {
   "cell_type": "code",
   "execution_count": 4,
   "id": "genuine-personal",
   "metadata": {
    "execution": {
     "iopub.execute_input": "2021-05-16T10:17:53.765163Z",
     "iopub.status.busy": "2021-05-16T10:17:53.762995Z",
     "iopub.status.idle": "2021-05-16T10:17:53.771800Z",
     "shell.execute_reply": "2021-05-16T10:17:53.771227Z"
    },
    "papermill": {
     "duration": 0.112017,
     "end_time": "2021-05-16T10:17:53.771926",
     "exception": false,
     "start_time": "2021-05-16T10:17:53.659909",
     "status": "completed"
    },
    "tags": []
   },
   "outputs": [],
   "source": [
    "# Only selecting the columns where missing values is less than7 percent\n",
    "final_cols = X.isnull().mean()[X.isnull().mean() < 0.07]"
   ]
  },
  {
   "cell_type": "code",
   "execution_count": 5,
   "id": "recovered-receiver",
   "metadata": {
    "execution": {
     "iopub.execute_input": "2021-05-16T10:17:53.986338Z",
     "iopub.status.busy": "2021-05-16T10:17:53.985733Z",
     "iopub.status.idle": "2021-05-16T10:17:53.990521Z",
     "shell.execute_reply": "2021-05-16T10:17:53.990969Z"
    },
    "papermill": {
     "duration": 0.118649,
     "end_time": "2021-05-16T10:17:53.991126",
     "exception": false,
     "start_time": "2021-05-16T10:17:53.872477",
     "status": "completed"
    },
    "tags": []
   },
   "outputs": [],
   "source": [
    "# Selecting only the required columns\n",
    "X = X[final_cols.index]"
   ]
  },
  {
   "cell_type": "code",
   "execution_count": 6,
   "id": "technical-youth",
   "metadata": {
    "execution": {
     "iopub.execute_input": "2021-05-16T10:17:54.200545Z",
     "iopub.status.busy": "2021-05-16T10:17:54.199965Z",
     "iopub.status.idle": "2021-05-16T10:17:54.228357Z",
     "shell.execute_reply": "2021-05-16T10:17:54.228796Z"
    },
    "papermill": {
     "duration": 0.136222,
     "end_time": "2021-05-16T10:17:54.228961",
     "exception": false,
     "start_time": "2021-05-16T10:17:54.092739",
     "status": "completed"
    },
    "tags": []
   },
   "outputs": [],
   "source": [
    "# Filling NA values with median\n",
    "X = X.fillna(X.median())\n",
    "import numpy as np"
   ]
  },
  {
   "cell_type": "code",
   "execution_count": 7,
   "id": "streaming-dutch",
   "metadata": {
    "execution": {
     "iopub.execute_input": "2021-05-16T10:17:54.439277Z",
     "iopub.status.busy": "2021-05-16T10:17:54.438626Z",
     "iopub.status.idle": "2021-05-16T10:17:54.441664Z",
     "shell.execute_reply": "2021-05-16T10:17:54.441209Z"
    },
    "papermill": {
     "duration": 0.112707,
     "end_time": "2021-05-16T10:17:54.441787",
     "exception": false,
     "start_time": "2021-05-16T10:17:54.329080",
     "status": "completed"
    },
    "tags": []
   },
   "outputs": [],
   "source": [
    "X['action'] = np.where((X.resp_1 > 0) & (X.resp_2 > 0) & (X.resp_3 > 0) & (X.resp_4 > 0) & (X.resp > 0),1,0)"
   ]
  },
  {
   "cell_type": "code",
   "execution_count": 8,
   "id": "outer-andorra",
   "metadata": {
    "execution": {
     "iopub.execute_input": "2021-05-16T10:17:54.652513Z",
     "iopub.status.busy": "2021-05-16T10:17:54.651647Z",
     "iopub.status.idle": "2021-05-16T10:17:54.728454Z",
     "shell.execute_reply": "2021-05-16T10:17:54.727923Z"
    },
    "papermill": {
     "duration": 0.185563,
     "end_time": "2021-05-16T10:17:54.728592",
     "exception": false,
     "start_time": "2021-05-16T10:17:54.543029",
     "status": "completed"
    },
    "tags": []
   },
   "outputs": [
    {
     "data": {
      "text/plain": [
       "((800, 99), (200, 99), (800,), (200,))"
      ]
     },
     "execution_count": 8,
     "metadata": {},
     "output_type": "execute_result"
    }
   ],
   "source": [
    "X_train, X_test, y_train, y_test = evalml.preprocessing.split_data(X.drop(columns = ['date', 'weight', 'resp_1', 'resp_2', 'resp_3', 'resp_4','resp', 'ts_id','action']),X['action'], problem_type='binary')\n",
    "X_train.shape, X_test.shape, y_train.shape, y_test.shape"
   ]
  },
  {
   "cell_type": "markdown",
   "id": "fatal-taste",
   "metadata": {
    "papermill": {
     "duration": 0.102809,
     "end_time": "2021-05-16T10:17:54.932373",
     "exception": false,
     "start_time": "2021-05-16T10:17:54.829564",
     "status": "completed"
    },
    "tags": []
   },
   "source": [
    "# Run the search for the best classification model."
   ]
  },
  {
   "cell_type": "code",
   "execution_count": 9,
   "id": "published-tennessee",
   "metadata": {
    "execution": {
     "iopub.execute_input": "2021-05-16T10:17:55.144800Z",
     "iopub.status.busy": "2021-05-16T10:17:55.142068Z",
     "iopub.status.idle": "2021-05-16T10:19:32.315406Z",
     "shell.execute_reply": "2021-05-16T10:19:32.314963Z"
    },
    "papermill": {
     "duration": 97.281116,
     "end_time": "2021-05-16T10:19:32.315563",
     "exception": false,
     "start_time": "2021-05-16T10:17:55.034447",
     "status": "completed"
    },
    "tags": []
   },
   "outputs": [
    {
     "name": "stdout",
     "output_type": "stream",
     "text": [
      "Generating pipelines to search over...\n"
     ]
    },
    {
     "data": {
      "text/html": [
       "<style type='text/css'>\n",
       ".datatable table.frame { margin-bottom: 0; }\n",
       ".datatable table.frame thead { border-bottom: none; }\n",
       ".datatable table.frame tr.coltypes td {  color: #FFFFFF;  line-height: 6px;  padding: 0 0.5em;}\n",
       ".datatable .bool    { background: #DDDD99; }\n",
       ".datatable .object  { background: #565656; }\n",
       ".datatable .int     { background: #5D9E5D; }\n",
       ".datatable .float   { background: #4040CC; }\n",
       ".datatable .str     { background: #CC4040; }\n",
       ".datatable .row_index {  background: var(--jp-border-color3);  border-right: 1px solid var(--jp-border-color0);  color: var(--jp-ui-font-color3);  font-size: 9px;}\n",
       ".datatable .frame tr.coltypes .row_index {  background: var(--jp-border-color0);}\n",
       ".datatable th:nth-child(2) { padding-left: 12px; }\n",
       ".datatable .hellipsis {  color: var(--jp-cell-editor-border-color);}\n",
       ".datatable .vellipsis {  background: var(--jp-layout-color0);  color: var(--jp-cell-editor-border-color);}\n",
       ".datatable .na {  color: var(--jp-cell-editor-border-color);  font-size: 80%;}\n",
       ".datatable .footer { font-size: 9px; }\n",
       ".datatable .frame_dimensions {  background: var(--jp-border-color3);  border-top: 1px solid var(--jp-border-color0);  color: var(--jp-ui-font-color3);  display: inline-block;  opacity: 0.6;  padding: 1px 10px 1px 5px;}\n",
       "</style>\n"
      ],
      "text/plain": [
       "<IPython.core.display.HTML object>"
      ]
     },
     "metadata": {},
     "output_type": "display_data"
    },
    {
     "name": "stdout",
     "output_type": "stream",
     "text": [
      "\n",
      "*****************************\n",
      "* Beginning pipeline search *\n",
      "*****************************\n",
      "\n",
      "Optimizing for Log Loss Binary. \n",
      "Lower score is better.\n",
      "\n",
      "Using SequentialEngine to train and score pipelines.\n",
      "Searching up to 5 batches for a total of 24 pipelines. \n",
      "Allowed model families: xgboost, catboost, lightgbm\n",
      "\n"
     ]
    },
    {
     "data": {
      "application/vnd.jupyter.widget-view+json": {
       "model_id": "1ac508f5db074660adc43f500986a170",
       "version_major": 2,
       "version_minor": 0
      },
      "text/plain": [
       "FigureWidget({\n",
       "    'data': [{'mode': 'lines+markers',\n",
       "              'name': 'Best Score',\n",
       "              'type'…"
      ]
     },
     "metadata": {},
     "output_type": "display_data"
    },
    {
     "name": "stdout",
     "output_type": "stream",
     "text": [
      "Evaluating Baseline Pipeline: Mode Baseline Binary Classification Pipeline\n",
      "Mode Baseline Binary Classification Pipeline:\n",
      "\tStarting cross validation\n",
      "\tFinished cross validation - mean Log Loss Binary: 9.153\n",
      "\n",
      "*****************************\n",
      "* Evaluating Batch Number 1 *\n",
      "*****************************\n",
      "\n",
      "XGBoost Classifier w/ Imputer:\n",
      "\tStarting cross validation\n",
      "\tFinished cross validation - mean Log Loss Binary: 0.649\n",
      "CatBoost Classifier w/ Imputer:\n",
      "\tStarting cross validation\n",
      "\tFinished cross validation - mean Log Loss Binary: 0.630\n",
      "LightGBM Classifier w/ Imputer:\n",
      "\tStarting cross validation\n",
      "\tFinished cross validation - mean Log Loss Binary: 0.733\n",
      "\n",
      "*****************************\n",
      "* Evaluating Batch Number 2 *\n",
      "*****************************\n",
      "\n",
      "CatBoost Classifier w/ Imputer:\n",
      "\tStarting cross validation\n",
      "\tFinished cross validation - mean Log Loss Binary: 0.934\n",
      "CatBoost Classifier w/ Imputer:\n",
      "\tStarting cross validation\n",
      "\tFinished cross validation - mean Log Loss Binary: 0.803\n",
      "CatBoost Classifier w/ Imputer:\n",
      "\tStarting cross validation\n",
      "\tFinished cross validation - mean Log Loss Binary: 0.881\n",
      "CatBoost Classifier w/ Imputer:\n",
      "\tStarting cross validation\n",
      "\tFinished cross validation - mean Log Loss Binary: 0.605\n",
      "CatBoost Classifier w/ Imputer:\n",
      "\tStarting cross validation\n",
      "\tFinished cross validation - mean Log Loss Binary: 0.537\n",
      "\n",
      "*****************************\n",
      "* Evaluating Batch Number 3 *\n",
      "*****************************\n",
      "\n",
      "XGBoost Classifier w/ Imputer:\n",
      "\tStarting cross validation\n",
      "\tFinished cross validation - mean Log Loss Binary: 0.944\n",
      "XGBoost Classifier w/ Imputer:\n",
      "\tStarting cross validation\n",
      "\tFinished cross validation - mean Log Loss Binary: 0.903\n",
      "XGBoost Classifier w/ Imputer:\n",
      "\tStarting cross validation\n",
      "\tFinished cross validation - mean Log Loss Binary: 0.836\n",
      "XGBoost Classifier w/ Imputer:\n",
      "\tStarting cross validation\n",
      "\tFinished cross validation - mean Log Loss Binary: 0.664\n",
      "XGBoost Classifier w/ Imputer:\n",
      "\tStarting cross validation\n",
      "\tFinished cross validation - mean Log Loss Binary: 0.564\n",
      "\n",
      "*****************************\n",
      "* Evaluating Batch Number 4 *\n",
      "*****************************\n",
      "\n",
      "LightGBM Classifier w/ Imputer:\n",
      "\tStarting cross validation\n",
      "\tFinished cross validation - mean Log Loss Binary: 0.568\n",
      "LightGBM Classifier w/ Imputer:\n",
      "\tStarting cross validation\n",
      "\tFinished cross validation - mean Log Loss Binary: 0.565\n",
      "LightGBM Classifier w/ Imputer:\n",
      "\tStarting cross validation\n",
      "\tFinished cross validation - mean Log Loss Binary: 0.562\n",
      "LightGBM Classifier w/ Imputer:\n",
      "\tStarting cross validation\n",
      "\tFinished cross validation - mean Log Loss Binary: 1.019\n",
      "LightGBM Classifier w/ Imputer:\n",
      "\tStarting cross validation\n",
      "\tFinished cross validation - mean Log Loss Binary: 0.706\n",
      "\n",
      "*****************************\n",
      "* Evaluating Batch Number 5 *\n",
      "*****************************\n",
      "\n",
      "CatBoost Classifier w/ Imputer:\n",
      "\tStarting cross validation\n",
      "\tFinished cross validation - mean Log Loss Binary: 0.691\n",
      "CatBoost Classifier w/ Imputer:\n",
      "\tStarting cross validation\n",
      "\tFinished cross validation - mean Log Loss Binary: 0.596\n",
      "CatBoost Classifier w/ Imputer:\n",
      "\tStarting cross validation\n",
      "\tFinished cross validation - mean Log Loss Binary: 0.846\n",
      "CatBoost Classifier w/ Imputer:\n",
      "\tStarting cross validation\n",
      "\tFinished cross validation - mean Log Loss Binary: 0.589\n",
      "CatBoost Classifier w/ Imputer:\n",
      "\tStarting cross validation\n",
      "\tFinished cross validation - mean Log Loss Binary: 0.732\n",
      "\n",
      "Search finished after 01:32            \n",
      "Best pipeline: CatBoost Classifier w/ Imputer\n",
      "Best pipeline Log Loss Binary: 0.536917\n"
     ]
    }
   ],
   "source": [
    "#limiting search for efficiency\n",
    "automl = AutoMLSearch(X_train=X_train, y_train=y_train,   problem_type='binary',allowed_model_families=['xgboost', 'lightgbm','catboost'],max_batches=5)\n",
    "automl.search() "
   ]
  },
  {
   "cell_type": "markdown",
   "id": "general-passion",
   "metadata": {
    "papermill": {
     "duration": 0.124123,
     "end_time": "2021-05-16T10:19:32.563286",
     "exception": false,
     "start_time": "2021-05-16T10:19:32.439163",
     "status": "completed"
    },
    "tags": []
   },
   "source": [
    "<h1> Model rankings and best pipeline </h1>"
   ]
  },
  {
   "cell_type": "code",
   "execution_count": 10,
   "id": "lovely-netscape",
   "metadata": {
    "execution": {
     "iopub.execute_input": "2021-05-16T10:19:32.821320Z",
     "iopub.status.busy": "2021-05-16T10:19:32.819871Z",
     "iopub.status.idle": "2021-05-16T10:19:32.845918Z",
     "shell.execute_reply": "2021-05-16T10:19:32.845410Z"
    },
    "papermill": {
     "duration": 0.153439,
     "end_time": "2021-05-16T10:19:32.846046",
     "exception": false,
     "start_time": "2021-05-16T10:19:32.692607",
     "status": "completed"
    },
    "tags": []
   },
   "outputs": [
    {
     "data": {
      "text/html": [
       "<div>\n",
       "<style scoped>\n",
       "    .dataframe tbody tr th:only-of-type {\n",
       "        vertical-align: middle;\n",
       "    }\n",
       "\n",
       "    .dataframe tbody tr th {\n",
       "        vertical-align: top;\n",
       "    }\n",
       "\n",
       "    .dataframe thead th {\n",
       "        text-align: right;\n",
       "    }\n",
       "</style>\n",
       "<table border=\"1\" class=\"dataframe\">\n",
       "  <thead>\n",
       "    <tr style=\"text-align: right;\">\n",
       "      <th></th>\n",
       "      <th>id</th>\n",
       "      <th>pipeline_name</th>\n",
       "      <th>mean_cv_score</th>\n",
       "      <th>standard_deviation_cv_score</th>\n",
       "      <th>validation_score</th>\n",
       "      <th>percent_better_than_baseline</th>\n",
       "      <th>high_variance_cv</th>\n",
       "      <th>parameters</th>\n",
       "    </tr>\n",
       "  </thead>\n",
       "  <tbody>\n",
       "    <tr>\n",
       "      <th>0</th>\n",
       "      <td>8</td>\n",
       "      <td>CatBoost Classifier w/ Imputer</td>\n",
       "      <td>0.536917</td>\n",
       "      <td>0.023235</td>\n",
       "      <td>0.555947</td>\n",
       "      <td>94.133785</td>\n",
       "      <td>False</td>\n",
       "      <td>{'Imputer': {'categorical_impute_strategy': 'm...</td>\n",
       "    </tr>\n",
       "    <tr>\n",
       "      <th>1</th>\n",
       "      <td>16</td>\n",
       "      <td>LightGBM Classifier w/ Imputer</td>\n",
       "      <td>0.562128</td>\n",
       "      <td>0.003867</td>\n",
       "      <td>0.566204</td>\n",
       "      <td>93.858329</td>\n",
       "      <td>False</td>\n",
       "      <td>{'Imputer': {'categorical_impute_strategy': 'm...</td>\n",
       "    </tr>\n",
       "    <tr>\n",
       "      <th>2</th>\n",
       "      <td>13</td>\n",
       "      <td>XGBoost Classifier w/ Imputer</td>\n",
       "      <td>0.564013</td>\n",
       "      <td>0.011957</td>\n",
       "      <td>0.577386</td>\n",
       "      <td>93.837743</td>\n",
       "      <td>False</td>\n",
       "      <td>{'Imputer': {'categorical_impute_strategy': 'm...</td>\n",
       "    </tr>\n",
       "    <tr>\n",
       "      <th>23</th>\n",
       "      <td>0</td>\n",
       "      <td>Mode Baseline Binary Classification Pipeline</td>\n",
       "      <td>9.152696</td>\n",
       "      <td>0.055031</td>\n",
       "      <td>9.184469</td>\n",
       "      <td>0.000000</td>\n",
       "      <td>False</td>\n",
       "      <td>{'Baseline Classifier': {'strategy': 'mode'}}</td>\n",
       "    </tr>\n",
       "  </tbody>\n",
       "</table>\n",
       "</div>"
      ],
      "text/plain": [
       "    id                                 pipeline_name  mean_cv_score  \\\n",
       "0    8                CatBoost Classifier w/ Imputer       0.536917   \n",
       "1   16                LightGBM Classifier w/ Imputer       0.562128   \n",
       "2   13                 XGBoost Classifier w/ Imputer       0.564013   \n",
       "23   0  Mode Baseline Binary Classification Pipeline       9.152696   \n",
       "\n",
       "    standard_deviation_cv_score  validation_score  \\\n",
       "0                      0.023235          0.555947   \n",
       "1                      0.003867          0.566204   \n",
       "2                      0.011957          0.577386   \n",
       "23                     0.055031          9.184469   \n",
       "\n",
       "    percent_better_than_baseline  high_variance_cv  \\\n",
       "0                      94.133785             False   \n",
       "1                      93.858329             False   \n",
       "2                      93.837743             False   \n",
       "23                      0.000000             False   \n",
       "\n",
       "                                           parameters  \n",
       "0   {'Imputer': {'categorical_impute_strategy': 'm...  \n",
       "1   {'Imputer': {'categorical_impute_strategy': 'm...  \n",
       "2   {'Imputer': {'categorical_impute_strategy': 'm...  \n",
       "23      {'Baseline Classifier': {'strategy': 'mode'}}  "
      ]
     },
     "execution_count": 10,
     "metadata": {},
     "output_type": "execute_result"
    }
   ],
   "source": [
    "automl.rankings"
   ]
  },
  {
   "cell_type": "code",
   "execution_count": 11,
   "id": "killing-packing",
   "metadata": {
    "execution": {
     "iopub.execute_input": "2021-05-16T10:19:33.107526Z",
     "iopub.status.busy": "2021-05-16T10:19:33.106753Z",
     "iopub.status.idle": "2021-05-16T10:19:33.163666Z",
     "shell.execute_reply": "2021-05-16T10:19:33.164125Z"
    },
    "papermill": {
     "duration": 0.195088,
     "end_time": "2021-05-16T10:19:33.164286",
     "exception": false,
     "start_time": "2021-05-16T10:19:32.969198",
     "status": "completed"
    },
    "tags": []
   },
   "outputs": [
    {
     "name": "stdout",
     "output_type": "stream",
     "text": [
      "\n",
      "**********************************\n",
      "* CatBoost Classifier w/ Imputer *\n",
      "**********************************\n",
      "\n",
      "Problem Type: binary\n",
      "Model Family: CatBoost\n",
      "\n",
      "Pipeline Steps\n",
      "==============\n",
      "1. Imputer\n",
      "\t * categorical_impute_strategy : most_frequent\n",
      "\t * numeric_impute_strategy : median\n",
      "\t * categorical_fill_value : None\n",
      "\t * numeric_fill_value : None\n",
      "2. CatBoost Classifier\n",
      "\t * n_estimators : 74\n",
      "\t * eta : 0.05671392060446587\n",
      "\t * max_depth : 8\n",
      "\t * bootstrap_type : None\n",
      "\t * silent : True\n",
      "\t * allow_writing_files : False\n",
      "\n",
      "Training\n",
      "========\n",
      "Training for binary problems.\n",
      "Total training time (including CV): 11.6 seconds\n",
      "\n",
      "Cross Validation\n",
      "----------------\n",
      "             Log Loss Binary  MCC Binary   AUC  Precision    F1  Balanced Accuracy Binary  Accuracy Binary  Sensitivity at Low Alert Rates # Training # Validation\n",
      "0                      0.556       0.156 0.654      0.529 0.205                     0.543            0.738                           0.059        533          267\n",
      "1                      0.544       0.344 0.671      0.800 0.352                     0.602            0.779                           0.130        533          267\n",
      "2                      0.511       0.195 0.738      0.750 0.154                     0.538            0.752                           0.000        534          266\n",
      "mean                   0.537       0.231 0.688      0.693 0.237                     0.561            0.756                           0.063          -            -\n",
      "std                    0.023       0.099 0.044      0.144 0.103                     0.036            0.021                           0.065          -            -\n",
      "coef of var            0.043       0.430 0.065      0.208 0.434                     0.064            0.028                           1.035          -            -\n"
     ]
    }
   ],
   "source": [
    "automl.describe_pipeline(automl.rankings.iloc[0][\"id\"])"
   ]
  },
  {
   "cell_type": "markdown",
   "id": "sixth-northeast",
   "metadata": {
    "papermill": {
     "duration": 0.135448,
     "end_time": "2021-05-16T10:19:33.429682",
     "exception": false,
     "start_time": "2021-05-16T10:19:33.294234",
     "status": "completed"
    },
    "tags": []
   },
   "source": [
    "<h1> Making predictions </h1>"
   ]
  },
  {
   "cell_type": "code",
   "execution_count": 12,
   "id": "challenging-guatemala",
   "metadata": {
    "execution": {
     "iopub.execute_input": "2021-05-16T10:19:33.703770Z",
     "iopub.status.busy": "2021-05-16T10:19:33.703158Z",
     "iopub.status.idle": "2021-05-16T10:19:34.094890Z",
     "shell.execute_reply": "2021-05-16T10:19:34.094169Z"
    },
    "papermill": {
     "duration": 0.533639,
     "end_time": "2021-05-16T10:19:34.095022",
     "exception": false,
     "start_time": "2021-05-16T10:19:33.561383",
     "status": "completed"
    },
    "tags": []
   },
   "outputs": [],
   "source": [
    "winner = automl.best_pipeline\n",
    "df_submission = winner.predict_proba(y.drop(columns=['ts_id'])).to_dataframe()\n",
    "df_submission['ts_id'] = y['ts_id']"
   ]
  },
  {
   "cell_type": "code",
   "execution_count": 13,
   "id": "possible-europe",
   "metadata": {
    "execution": {
     "iopub.execute_input": "2021-05-16T10:19:34.358335Z",
     "iopub.status.busy": "2021-05-16T10:19:34.357633Z",
     "iopub.status.idle": "2021-05-16T10:19:34.417651Z",
     "shell.execute_reply": "2021-05-16T10:19:34.418104Z"
    },
    "papermill": {
     "duration": 0.194501,
     "end_time": "2021-05-16T10:19:34.418260",
     "exception": false,
     "start_time": "2021-05-16T10:19:34.223759",
     "status": "completed"
    },
    "tags": []
   },
   "outputs": [],
   "source": [
    "df_submission.set_index('ts_id').to_csv('submission.csv')"
   ]
  },
  {
   "cell_type": "code",
   "execution_count": null,
   "id": "expected-career",
   "metadata": {
    "papermill": {
     "duration": 0.129289,
     "end_time": "2021-05-16T10:19:34.676347",
     "exception": false,
     "start_time": "2021-05-16T10:19:34.547058",
     "status": "completed"
    },
    "tags": []
   },
   "outputs": [],
   "source": []
  }
 ],
 "metadata": {
  "kernelspec": {
   "display_name": "Python 3",
   "language": "python",
   "name": "python3"
  },
  "language_info": {
   "codemirror_mode": {
    "name": "ipython",
    "version": 3
   },
   "file_extension": ".py",
   "mimetype": "text/x-python",
   "name": "python",
   "nbconvert_exporter": "python",
   "pygments_lexer": "ipython3",
   "version": "3.7.10"
  },
  "papermill": {
   "default_parameters": {},
   "duration": 150.89016,
   "end_time": "2021-05-16T10:19:36.496440",
   "environment_variables": {},
   "exception": null,
   "input_path": "__notebook__.ipynb",
   "output_path": "__notebook__.ipynb",
   "parameters": {},
   "start_time": "2021-05-16T10:17:05.606280",
   "version": "2.3.3"
  },
  "widgets": {
   "application/vnd.jupyter.widget-state+json": {
    "state": {
     "1ac508f5db074660adc43f500986a170": {
      "model_module": "plotlywidget",
      "model_module_version": "^4.14.3",
      "model_name": "FigureModel",
      "state": {
       "_config": {
        "plotlyServerURL": "https://plot.ly"
       },
       "_data": [
        {
         "mode": "lines+markers",
         "name": "Best Score",
         "type": "scatter",
         "uid": "70e6b598-04fa-4ca1-95ef-6025f72b6b22",
         "x": [],
         "y": []
        },
        {
         "marker": {
          "color": "gray"
         },
         "mode": "markers",
         "name": "Iter score",
         "type": "scatter",
         "uid": "7397f2ef-2092-4e42-886f-0a9a29c776d1",
         "x": [],
         "y": []
        }
       ],
       "_dom_classes": [],
       "_js2py_layoutDelta": {},
       "_js2py_pointsCallback": {},
       "_js2py_relayout": {},
       "_js2py_restyle": {},
       "_js2py_traceDeltas": {},
       "_js2py_update": {},
       "_last_layout_edit_id": 97,
       "_last_trace_edit_id": 97,
       "_layout": {
        "title": {
         "text": "Pipeline Search: Iteration vs. Log Loss Binary<br><sub>Gray marker indicates the score at current iteration</sub>"
        },
        "xaxis": {
         "rangemode": "tozero",
         "title": {
          "text": "Iteration"
         }
        },
        "yaxis": {
         "title": {
          "text": "Score"
         }
        }
       },
       "_model_module": "plotlywidget",
       "_model_module_version": "^4.14.3",
       "_model_name": "FigureModel",
       "_py2js_addTraces": {},
       "_py2js_animate": {},
       "_py2js_deleteTraces": {},
       "_py2js_moveTraces": {},
       "_py2js_relayout": null,
       "_py2js_removeLayoutProps": {},
       "_py2js_removeTraceProps": {},
       "_py2js_restyle": null,
       "_py2js_update": null,
       "_view_count": 0,
       "_view_module": "plotlywidget",
       "_view_module_version": "^4.14.3",
       "_view_name": "FigureView"
      }
     }
    },
    "version_major": 2,
    "version_minor": 0
   }
  }
 },
 "nbformat": 4,
 "nbformat_minor": 5
}
