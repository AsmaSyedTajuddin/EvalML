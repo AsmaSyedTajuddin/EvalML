{
 "cells": [
  {
   "cell_type": "markdown",
   "id": "defined-animal",
   "metadata": {
    "papermill": {
     "duration": 0.013621,
     "end_time": "2021-05-04T02:06:00.295220",
     "exception": false,
     "start_time": "2021-05-04T02:06:00.281599",
     "status": "completed"
    },
    "tags": []
   },
   "source": [
    "EvalML is an open-source Python library created by folks at Alteryx, the people behind Featuretools, that facilitates automated machine learning (AutoML) and model understanding. It abstracts multiple modelling libraries and provides a simple, unified API for building machine learning models. EvalML supports a wide range of supervised learning problems such as regression, binary classification and multiclass classification. \n",
    "\n",
    "The pipelines created by EvalML’s AutoMLSearch includes preprocessing and featuring engineering out of the box. The user has to identify the target attribute; AutoML runs a search algorithm to train and score several models for the problem type. This enables the user to select one of the models based on their scores and then use it to generate predictions or do analysis. It also supports custom problem-specific objective functions, enabling users to specify exactly what makes a model valuable for their use case. \n",
    "\n",
    "Not only do these custom objectives help steer the AutoML search towards models with higher impact, but they are also used to tune the classification thresholds of binary classification models. You can find an example of a custom objective function created for the task credit card fraud detection here. Additionally, EvalML has a collection of models and tools for model understanding. It currently supports feature importance and permutation importance, partial dependence, precision-recall, confusion matrices, ROC curves, prediction explanations, and binary classifier threshold optimization.\n",
    "\n",
    "Furthermore, EvalML provides data checks that can be used to catch common problems with data before modelling. This helps prevent model quality problems, ambiguous bugs and stack traces. Currently EvalML includes the following data checks:\n",
    "\n",
    "An approach for detecting target leakage by providing the model with information during training that won’t be available at prediction-time\n",
    "Detection of invalid datatypes \n",
    "Checking for class imbalance\n",
    "Looking for redundant features like highly null columns, constant columns, and columns which are probably an ID and not useful for modelling."
   ]
  },
  {
   "cell_type": "markdown",
   "id": "demanding-great",
   "metadata": {
    "papermill": {
     "duration": 0.0107,
     "end_time": "2021-05-04T02:06:00.317110",
     "exception": false,
     "start_time": "2021-05-04T02:06:00.306410",
     "status": "completed"
    },
    "tags": []
   },
   "source": [
    "# *Install EvalML from PyPI.*"
   ]
  },
  {
   "cell_type": "code",
   "execution_count": 1,
   "id": "stylish-reflection",
   "metadata": {
    "_kg_hide-output": true,
    "execution": {
     "iopub.execute_input": "2021-05-04T02:06:00.345131Z",
     "iopub.status.busy": "2021-05-04T02:06:00.344489Z",
     "iopub.status.idle": "2021-05-04T02:06:39.310477Z",
     "shell.execute_reply": "2021-05-04T02:06:39.311048Z"
    },
    "papermill": {
     "duration": 38.983386,
     "end_time": "2021-05-04T02:06:39.311436",
     "exception": false,
     "start_time": "2021-05-04T02:06:00.328050",
     "status": "completed"
    },
    "tags": []
   },
   "outputs": [
    {
     "name": "stdout",
     "output_type": "stream",
     "text": [
      "Collecting evalml\r\n",
      "  Downloading evalml-0.23.0-py3-none-any.whl (6.2 MB)\r\n",
      "\u001b[K     |████████████████████████████████| 6.2 MB 963 kB/s \r\n",
      "\u001b[?25hRequirement already satisfied: scipy>=1.2.1 in /opt/conda/lib/python3.7/site-packages (from evalml) (1.5.4)\r\n",
      "Requirement already satisfied: cloudpickle>=0.2.2 in /opt/conda/lib/python3.7/site-packages (from evalml) (1.6.0)\r\n",
      "Requirement already satisfied: matplotlib>=3.3.3 in /opt/conda/lib/python3.7/site-packages (from evalml) (3.4.0)\r\n",
      "Collecting woodwork==0.0.11\r\n",
      "  Downloading woodwork-0.0.11-py3-none-any.whl (91 kB)\r\n",
      "\u001b[K     |████████████████████████████████| 91 kB 5.3 MB/s \r\n",
      "\u001b[?25hRequirement already satisfied: catboost>=0.20 in /opt/conda/lib/python3.7/site-packages (from evalml) (0.25)\r\n",
      "Collecting nlp-primitives>=1.1.0\r\n",
      "  Downloading nlp_primitives-1.1.0-py3-none-any.whl (18.0 MB)\r\n",
      "\u001b[K     |████████████████████████████████| 18.0 MB 18.8 MB/s \r\n",
      "\u001b[?25hRequirement already satisfied: plotly>=4.14.0 in /opt/conda/lib/python3.7/site-packages (from evalml) (4.14.3)\r\n",
      "Requirement already satisfied: seaborn>=0.11.1 in /opt/conda/lib/python3.7/site-packages (from evalml) (0.11.1)\r\n",
      "Requirement already satisfied: featuretools>=0.20.0 in /opt/conda/lib/python3.7/site-packages (from evalml) (0.23.2)\r\n",
      "Requirement already satisfied: ipywidgets>=7.5 in /opt/conda/lib/python3.7/site-packages (from evalml) (7.6.3)\r\n",
      "Requirement already satisfied: shap>=0.35.0 in /opt/conda/lib/python3.7/site-packages (from evalml) (0.39.0)\r\n",
      "Requirement already satisfied: scikit-learn>=0.23.1 in /opt/conda/lib/python3.7/site-packages (from evalml) (0.24.1)\r\n",
      "Collecting kaleido>=0.1.0\r\n",
      "  Downloading kaleido-0.2.1-py2.py3-none-manylinux1_x86_64.whl (79.9 MB)\r\n",
      "\u001b[K     |████████████████████████████████| 79.9 MB 160 kB/s \r\n",
      "\u001b[?25hCollecting xgboost<1.3.0,>=0.82\r\n",
      "  Downloading xgboost-1.2.1-py3-none-manylinux2010_x86_64.whl (148.9 MB)\r\n",
      "\u001b[K     |████████████████████████████████| 148.9 MB 79 kB/s \r\n",
      "\u001b[?25hCollecting lightgbm<3.1.0,>=2.3.1\r\n",
      "  Downloading lightgbm-3.0.0-py2.py3-none-manylinux1_x86_64.whl (1.7 MB)\r\n",
      "\u001b[K     |████████████████████████████████| 1.7 MB 19.6 MB/s \r\n",
      "\u001b[?25hRequirement already satisfied: psutil>=5.6.3 in /opt/conda/lib/python3.7/site-packages (from evalml) (5.8.0)\r\n",
      "Requirement already satisfied: dask>=2.12.0 in /opt/conda/lib/python3.7/site-packages (from evalml) (2021.3.1)\r\n",
      "Requirement already satisfied: scikit-optimize>=0.8.1 in /opt/conda/lib/python3.7/site-packages (from evalml) (0.8.1)\r\n",
      "Requirement already satisfied: numpy>=1.19.1 in /opt/conda/lib/python3.7/site-packages (from evalml) (1.19.5)\r\n",
      "Collecting graphviz>=0.13\r\n",
      "  Downloading graphviz-0.16-py2.py3-none-any.whl (19 kB)\r\n",
      "Collecting requirements-parser>=0.2.0\r\n",
      "  Downloading requirements-parser-0.2.0.tar.gz (6.3 kB)\r\n",
      "Collecting sktime>=0.5.3\r\n",
      "  Downloading sktime-0.6.0-cp37-cp37m-manylinux2014_x86_64.whl (5.7 MB)\r\n",
      "\u001b[K     |████████████████████████████████| 5.7 MB 17.7 MB/s \r\n",
      "\u001b[?25hCollecting pyzmq<22.0.0\r\n",
      "  Downloading pyzmq-21.0.2-cp37-cp37m-manylinux1_x86_64.whl (6.7 MB)\r\n",
      "\u001b[K     |████████████████████████████████| 6.7 MB 20.4 MB/s \r\n",
      "\u001b[?25hRequirement already satisfied: pandas>=1.1.0 in /opt/conda/lib/python3.7/site-packages (from evalml) (1.2.2)\r\n",
      "Requirement already satisfied: imbalanced-learn>=0.7.0 in /opt/conda/lib/python3.7/site-packages (from evalml) (0.8.0)\r\n",
      "Requirement already satisfied: statsmodels>=0.12.2 in /opt/conda/lib/python3.7/site-packages (from evalml) (0.12.2)\r\n",
      "Requirement already satisfied: networkx>=2.5 in /opt/conda/lib/python3.7/site-packages (from evalml) (2.5)\r\n",
      "Requirement already satisfied: category-encoders>=2.0.0 in /opt/conda/lib/python3.7/site-packages (from evalml) (2.2.2)\r\n",
      "Requirement already satisfied: texttable>=1.6.2 in /opt/conda/lib/python3.7/site-packages (from evalml) (1.6.3)\r\n",
      "Requirement already satisfied: click>=7.0.0 in /opt/conda/lib/python3.7/site-packages (from evalml) (7.1.2)\r\n",
      "Requirement already satisfied: colorama in /opt/conda/lib/python3.7/site-packages (from evalml) (0.4.4)\r\n",
      "Requirement already satisfied: six in /opt/conda/lib/python3.7/site-packages (from catboost>=0.20->evalml) (1.15.0)\r\n",
      "Requirement already satisfied: patsy>=0.5.1 in /opt/conda/lib/python3.7/site-packages (from category-encoders>=2.0.0->evalml) (0.5.1)\r\n",
      "Requirement already satisfied: toolz>=0.8.2 in /opt/conda/lib/python3.7/site-packages (from dask>=2.12.0->evalml) (0.11.1)\r\n",
      "Requirement already satisfied: partd>=0.3.10 in /opt/conda/lib/python3.7/site-packages (from dask>=2.12.0->evalml) (1.1.0)\r\n",
      "Requirement already satisfied: fsspec>=0.6.0 in /opt/conda/lib/python3.7/site-packages (from dask>=2.12.0->evalml) (0.8.5)\r\n",
      "Requirement already satisfied: pyyaml in /opt/conda/lib/python3.7/site-packages (from dask>=2.12.0->evalml) (5.3.1)\r\n",
      "Requirement already satisfied: tqdm>=4.32.0 in /opt/conda/lib/python3.7/site-packages (from featuretools>=0.20.0->evalml) (4.56.2)\r\n",
      "Requirement already satisfied: distributed>=2.12.0 in /opt/conda/lib/python3.7/site-packages (from featuretools>=0.20.0->evalml) (2021.3.1)\r\n",
      "Requirement already satisfied: tblib>=1.6.0 in /opt/conda/lib/python3.7/site-packages (from distributed>=2.12.0->featuretools>=0.20.0->evalml) (1.7.0)\r\n",
      "Requirement already satisfied: msgpack>=0.6.0 in /opt/conda/lib/python3.7/site-packages (from distributed>=2.12.0->featuretools>=0.20.0->evalml) (1.0.2)\r\n",
      "Requirement already satisfied: tornado>=5 in /opt/conda/lib/python3.7/site-packages (from distributed>=2.12.0->featuretools>=0.20.0->evalml) (5.0.2)\r\n",
      "Requirement already satisfied: setuptools in /opt/conda/lib/python3.7/site-packages (from distributed>=2.12.0->featuretools>=0.20.0->evalml) (49.6.0.post20210108)\r\n",
      "Requirement already satisfied: zict>=0.1.3 in /opt/conda/lib/python3.7/site-packages (from distributed>=2.12.0->featuretools>=0.20.0->evalml) (2.0.0)\r\n",
      "Requirement already satisfied: sortedcontainers!=2.0.0,!=2.0.1 in /opt/conda/lib/python3.7/site-packages (from distributed>=2.12.0->featuretools>=0.20.0->evalml) (2.3.0)\r\n",
      "Requirement already satisfied: joblib>=0.11 in /opt/conda/lib/python3.7/site-packages (from imbalanced-learn>=0.7.0->evalml) (1.0.1)\r\n",
      "Requirement already satisfied: jupyterlab-widgets>=1.0.0 in /opt/conda/lib/python3.7/site-packages (from ipywidgets>=7.5->evalml) (1.0.0)\r\n",
      "Requirement already satisfied: ipykernel>=4.5.1 in /opt/conda/lib/python3.7/site-packages (from ipywidgets>=7.5->evalml) (5.1.1)\r\n",
      "Requirement already satisfied: traitlets>=4.3.1 in /opt/conda/lib/python3.7/site-packages (from ipywidgets>=7.5->evalml) (5.0.5)\r\n",
      "Requirement already satisfied: ipython>=4.0.0 in /opt/conda/lib/python3.7/site-packages (from ipywidgets>=7.5->evalml) (7.20.0)\r\n",
      "Requirement already satisfied: nbformat>=4.2.0 in /opt/conda/lib/python3.7/site-packages (from ipywidgets>=7.5->evalml) (5.1.2)\r\n",
      "Requirement already satisfied: widgetsnbextension~=3.5.0 in /opt/conda/lib/python3.7/site-packages (from ipywidgets>=7.5->evalml) (3.5.1)\r\n",
      "Requirement already satisfied: jupyter-client in /opt/conda/lib/python3.7/site-packages (from ipykernel>=4.5.1->ipywidgets>=7.5->evalml) (6.1.11)\r\n",
      "Requirement already satisfied: pickleshare in /opt/conda/lib/python3.7/site-packages (from ipython>=4.0.0->ipywidgets>=7.5->evalml) (0.7.5)\r\n",
      "Requirement already satisfied: pexpect>4.3 in /opt/conda/lib/python3.7/site-packages (from ipython>=4.0.0->ipywidgets>=7.5->evalml) (4.8.0)\r\n",
      "Requirement already satisfied: backcall in /opt/conda/lib/python3.7/site-packages (from ipython>=4.0.0->ipywidgets>=7.5->evalml) (0.2.0)\r\n",
      "Requirement already satisfied: jedi>=0.16 in /opt/conda/lib/python3.7/site-packages (from ipython>=4.0.0->ipywidgets>=7.5->evalml) (0.17.2)\r\n",
      "Requirement already satisfied: prompt-toolkit!=3.0.0,!=3.0.1,<3.1.0,>=2.0.0 in /opt/conda/lib/python3.7/site-packages (from ipython>=4.0.0->ipywidgets>=7.5->evalml) (3.0.16)\r\n",
      "Requirement already satisfied: pygments in /opt/conda/lib/python3.7/site-packages (from ipython>=4.0.0->ipywidgets>=7.5->evalml) (2.8.0)\r\n",
      "Requirement already satisfied: decorator in /opt/conda/lib/python3.7/site-packages (from ipython>=4.0.0->ipywidgets>=7.5->evalml) (4.4.2)\r\n",
      "Requirement already satisfied: parso<0.8.0,>=0.7.0 in /opt/conda/lib/python3.7/site-packages (from jedi>=0.16->ipython>=4.0.0->ipywidgets>=7.5->evalml) (0.7.1)\r\n",
      "Requirement already satisfied: pyparsing>=2.2.1 in /opt/conda/lib/python3.7/site-packages (from matplotlib>=3.3.3->evalml) (2.4.7)\r\n",
      "Requirement already satisfied: cycler>=0.10 in /opt/conda/lib/python3.7/site-packages (from matplotlib>=3.3.3->evalml) (0.10.0)\r\n",
      "Requirement already satisfied: python-dateutil>=2.7 in /opt/conda/lib/python3.7/site-packages (from matplotlib>=3.3.3->evalml) (2.8.1)\r\n",
      "Requirement already satisfied: pillow>=6.2.0 in /opt/conda/lib/python3.7/site-packages (from matplotlib>=3.3.3->evalml) (7.2.0)\r\n",
      "Requirement already satisfied: kiwisolver>=1.0.1 in /opt/conda/lib/python3.7/site-packages (from matplotlib>=3.3.3->evalml) (1.3.1)\r\n",
      "Requirement already satisfied: jsonschema!=2.5.0,>=2.4 in /opt/conda/lib/python3.7/site-packages (from nbformat>=4.2.0->ipywidgets>=7.5->evalml) (3.2.0)\r\n",
      "Requirement already satisfied: ipython-genutils in /opt/conda/lib/python3.7/site-packages (from nbformat>=4.2.0->ipywidgets>=7.5->evalml) (0.2.0)\r\n",
      "Requirement already satisfied: jupyter-core in /opt/conda/lib/python3.7/site-packages (from nbformat>=4.2.0->ipywidgets>=7.5->evalml) (4.7.1)\r\n",
      "Requirement already satisfied: pyrsistent>=0.14.0 in /opt/conda/lib/python3.7/site-packages (from jsonschema!=2.5.0,>=2.4->nbformat>=4.2.0->ipywidgets>=7.5->evalml) (0.17.3)\r\n",
      "Requirement already satisfied: importlib-metadata in /opt/conda/lib/python3.7/site-packages (from jsonschema!=2.5.0,>=2.4->nbformat>=4.2.0->ipywidgets>=7.5->evalml) (3.4.0)\r\n",
      "Requirement already satisfied: attrs>=17.4.0 in /opt/conda/lib/python3.7/site-packages (from jsonschema!=2.5.0,>=2.4->nbformat>=4.2.0->ipywidgets>=7.5->evalml) (20.3.0)\r\n",
      "Collecting nltk>=3.4.5\r\n",
      "  Downloading nltk-3.6.2-py3-none-any.whl (1.5 MB)\r\n",
      "\u001b[K     |████████████████████████████████| 1.5 MB 22.6 MB/s \r\n",
      "\u001b[?25hRequirement already satisfied: regex in /opt/conda/lib/python3.7/site-packages (from nltk>=3.4.5->nlp-primitives>=1.1.0->evalml) (2020.11.13)\r\n",
      "Requirement already satisfied: pytz>=2017.3 in /opt/conda/lib/python3.7/site-packages (from pandas>=1.1.0->evalml) (2021.1)\r\n",
      "Requirement already satisfied: locket in /opt/conda/lib/python3.7/site-packages (from partd>=0.3.10->dask>=2.12.0->evalml) (0.2.1)\r\n",
      "Requirement already satisfied: ptyprocess>=0.5 in /opt/conda/lib/python3.7/site-packages (from pexpect>4.3->ipython>=4.0.0->ipywidgets>=7.5->evalml) (0.7.0)\r\n",
      "Requirement already satisfied: retrying>=1.3.3 in /opt/conda/lib/python3.7/site-packages (from plotly>=4.14.0->evalml) (1.3.3)\r\n",
      "Requirement already satisfied: wcwidth in /opt/conda/lib/python3.7/site-packages (from prompt-toolkit!=3.0.0,!=3.0.1,<3.1.0,>=2.0.0->ipython>=4.0.0->ipywidgets>=7.5->evalml) (0.2.5)\r\n",
      "Requirement already satisfied: threadpoolctl>=2.0.0 in /opt/conda/lib/python3.7/site-packages (from scikit-learn>=0.23.1->evalml) (2.1.0)\r\n",
      "Requirement already satisfied: pyaml>=16.9 in /opt/conda/lib/python3.7/site-packages (from scikit-optimize>=0.8.1->evalml) (20.4.0)\r\n",
      "Requirement already satisfied: numba in /opt/conda/lib/python3.7/site-packages (from shap>=0.35.0->evalml) (0.52.0)\r\n",
      "Requirement already satisfied: slicer==0.0.7 in /opt/conda/lib/python3.7/site-packages (from shap>=0.35.0->evalml) (0.0.7)\r\n",
      "Requirement already satisfied: wheel in /opt/conda/lib/python3.7/site-packages (from sktime>=0.5.3->evalml) (0.36.2)\r\n",
      "Requirement already satisfied: llvmlite<0.36,>=0.35.0 in /opt/conda/lib/python3.7/site-packages (from numba->shap>=0.35.0->evalml) (0.35.0)\r\n",
      "Requirement already satisfied: notebook>=4.4.1 in /opt/conda/lib/python3.7/site-packages (from widgetsnbextension~=3.5.0->ipywidgets>=7.5->evalml) (5.5.0)\r\n",
      "Requirement already satisfied: Send2Trash in /opt/conda/lib/python3.7/site-packages (from notebook>=4.4.1->widgetsnbextension~=3.5.0->ipywidgets>=7.5->evalml) (1.5.0)\r\n",
      "Requirement already satisfied: jinja2 in /opt/conda/lib/python3.7/site-packages (from notebook>=4.4.1->widgetsnbextension~=3.5.0->ipywidgets>=7.5->evalml) (2.11.3)\r\n",
      "Requirement already satisfied: terminado>=0.8.1 in /opt/conda/lib/python3.7/site-packages (from notebook>=4.4.1->widgetsnbextension~=3.5.0->ipywidgets>=7.5->evalml) (0.9.2)\r\n",
      "Requirement already satisfied: nbconvert in /opt/conda/lib/python3.7/site-packages (from notebook>=4.4.1->widgetsnbextension~=3.5.0->ipywidgets>=7.5->evalml) (6.0.7)\r\n",
      "Requirement already satisfied: heapdict in /opt/conda/lib/python3.7/site-packages (from zict>=0.1.3->distributed>=2.12.0->featuretools>=0.20.0->evalml) (1.0.1)\r\n",
      "Requirement already satisfied: zipp>=0.5 in /opt/conda/lib/python3.7/site-packages (from importlib-metadata->jsonschema!=2.5.0,>=2.4->nbformat>=4.2.0->ipywidgets>=7.5->evalml) (3.4.0)\r\n",
      "Requirement already satisfied: typing-extensions>=3.6.4 in /opt/conda/lib/python3.7/site-packages (from importlib-metadata->jsonschema!=2.5.0,>=2.4->nbformat>=4.2.0->ipywidgets>=7.5->evalml) (3.7.4.3)\r\n",
      "Requirement already satisfied: MarkupSafe>=0.23 in /opt/conda/lib/python3.7/site-packages (from jinja2->notebook>=4.4.1->widgetsnbextension~=3.5.0->ipywidgets>=7.5->evalml) (1.1.1)\r\n",
      "Requirement already satisfied: defusedxml in /opt/conda/lib/python3.7/site-packages (from nbconvert->notebook>=4.4.1->widgetsnbextension~=3.5.0->ipywidgets>=7.5->evalml) (0.6.0)\r\n",
      "Requirement already satisfied: testpath in /opt/conda/lib/python3.7/site-packages (from nbconvert->notebook>=4.4.1->widgetsnbextension~=3.5.0->ipywidgets>=7.5->evalml) (0.4.4)\r\n",
      "Requirement already satisfied: nbclient<0.6.0,>=0.5.0 in /opt/conda/lib/python3.7/site-packages (from nbconvert->notebook>=4.4.1->widgetsnbextension~=3.5.0->ipywidgets>=7.5->evalml) (0.5.2)\r\n",
      "Requirement already satisfied: pandocfilters>=1.4.1 in /opt/conda/lib/python3.7/site-packages (from nbconvert->notebook>=4.4.1->widgetsnbextension~=3.5.0->ipywidgets>=7.5->evalml) (1.4.2)\r\n",
      "Requirement already satisfied: jupyterlab-pygments in /opt/conda/lib/python3.7/site-packages (from nbconvert->notebook>=4.4.1->widgetsnbextension~=3.5.0->ipywidgets>=7.5->evalml) (0.1.2)\r\n",
      "Requirement already satisfied: mistune<2,>=0.8.1 in /opt/conda/lib/python3.7/site-packages (from nbconvert->notebook>=4.4.1->widgetsnbextension~=3.5.0->ipywidgets>=7.5->evalml) (0.8.4)\r\n",
      "Requirement already satisfied: entrypoints>=0.2.2 in /opt/conda/lib/python3.7/site-packages (from nbconvert->notebook>=4.4.1->widgetsnbextension~=3.5.0->ipywidgets>=7.5->evalml) (0.3)\r\n",
      "Requirement already satisfied: bleach in /opt/conda/lib/python3.7/site-packages (from nbconvert->notebook>=4.4.1->widgetsnbextension~=3.5.0->ipywidgets>=7.5->evalml) (3.3.0)\r\n",
      "Requirement already satisfied: nest-asyncio in /opt/conda/lib/python3.7/site-packages (from nbclient<0.6.0,>=0.5.0->nbconvert->notebook>=4.4.1->widgetsnbextension~=3.5.0->ipywidgets>=7.5->evalml) (1.4.3)\r\n",
      "Requirement already satisfied: async-generator in /opt/conda/lib/python3.7/site-packages (from nbclient<0.6.0,>=0.5.0->nbconvert->notebook>=4.4.1->widgetsnbextension~=3.5.0->ipywidgets>=7.5->evalml) (1.10)\r\n",
      "Requirement already satisfied: webencodings in /opt/conda/lib/python3.7/site-packages (from bleach->nbconvert->notebook>=4.4.1->widgetsnbextension~=3.5.0->ipywidgets>=7.5->evalml) (0.5.1)\r\n",
      "Requirement already satisfied: packaging in /opt/conda/lib/python3.7/site-packages (from bleach->nbconvert->notebook>=4.4.1->widgetsnbextension~=3.5.0->ipywidgets>=7.5->evalml) (20.9)\r\n",
      "Building wheels for collected packages: requirements-parser\r\n",
      "  Building wheel for requirements-parser (setup.py) ... \u001b[?25l-\b \b\\\b \bdone\r\n",
      "\u001b[?25h  Created wheel for requirements-parser: filename=requirements_parser-0.2.0-py3-none-any.whl size=7655 sha256=2a7624fb6b7ab2f7085e2073f8d2b67abfc89168222f69e7b5b22a38de145877\r\n",
      "  Stored in directory: /root/.cache/pip/wheels/40/e4/ca/8af24ee94c3863d620d6a52793d82930f4d1d3515a5121d495\r\n",
      "Successfully built requirements-parser\r\n",
      "Installing collected packages: pyzmq, nltk, graphviz, xgboost, woodwork, sktime, requirements-parser, nlp-primitives, lightgbm, kaleido, evalml\r\n",
      "  Attempting uninstall: pyzmq\r\n",
      "    Found existing installation: pyzmq 22.0.3\r\n",
      "    Uninstalling pyzmq-22.0.3:\r\n",
      "      Successfully uninstalled pyzmq-22.0.3\r\n",
      "  Attempting uninstall: nltk\r\n",
      "    Found existing installation: nltk 3.2.4\r\n",
      "    Uninstalling nltk-3.2.4:\r\n",
      "      Successfully uninstalled nltk-3.2.4\r\n",
      "  Attempting uninstall: graphviz\r\n",
      "    Found existing installation: graphviz 0.8.4\r\n",
      "    Uninstalling graphviz-0.8.4:\r\n",
      "      Successfully uninstalled graphviz-0.8.4\r\n",
      "  Attempting uninstall: xgboost\r\n",
      "    Found existing installation: xgboost 1.3.3\r\n",
      "    Uninstalling xgboost-1.3.3:\r\n",
      "      Successfully uninstalled xgboost-1.3.3\r\n",
      "  Attempting uninstall: lightgbm\r\n",
      "    Found existing installation: lightgbm 3.1.1\r\n",
      "    Uninstalling lightgbm-3.1.1:\r\n",
      "      Successfully uninstalled lightgbm-3.1.1\r\n",
      "\u001b[31mERROR: pip's dependency resolver does not currently take into account all the packages that are installed. This behaviour is the source of the following dependency conflicts.\r\n",
      "preprocessing 0.1.13 requires nltk==3.2.4, but you have nltk 3.6.2 which is incompatible.\r\n",
      "mxnet 1.8.0.post0 requires graphviz<0.9.0,>=0.8.1, but you have graphviz 0.16 which is incompatible.\r\n",
      "jupyterlab-git 0.11.0 requires nbdime<2.0.0,>=1.1.0, but you have nbdime 2.1.0 which is incompatible.\r\n",
      "autogluon-core 0.1.0 requires graphviz<0.9.0,>=0.8.1, but you have graphviz 0.16 which is incompatible.\u001b[0m\r\n",
      "Successfully installed evalml-0.23.0 graphviz-0.16 kaleido-0.2.1 lightgbm-3.0.0 nlp-primitives-1.1.0 nltk-3.6.2 pyzmq-21.0.2 requirements-parser-0.2.0 sktime-0.6.0 woodwork-0.0.11 xgboost-1.2.1\r\n"
     ]
    }
   ],
   "source": [
    "!pip install evalml"
   ]
  },
  {
   "cell_type": "markdown",
   "id": "other-museum",
   "metadata": {
    "papermill": {
     "duration": 0.153233,
     "end_time": "2021-05-04T02:06:39.619506",
     "exception": false,
     "start_time": "2021-05-04T02:06:39.466273",
     "status": "completed"
    },
    "tags": []
   },
   "source": [
    "# Load the breast cancer dataset and split it."
   ]
  },
  {
   "cell_type": "code",
   "execution_count": 2,
   "id": "apparent-weather",
   "metadata": {
    "execution": {
     "iopub.execute_input": "2021-05-04T02:06:39.927619Z",
     "iopub.status.busy": "2021-05-04T02:06:39.926529Z",
     "iopub.status.idle": "2021-05-04T02:06:59.186397Z",
     "shell.execute_reply": "2021-05-04T02:06:59.187265Z"
    },
    "papermill": {
     "duration": 19.415568,
     "end_time": "2021-05-04T02:06:59.187809",
     "exception": false,
     "start_time": "2021-05-04T02:06:39.772241",
     "status": "completed"
    },
    "tags": []
   },
   "outputs": [
    {
     "data": {
      "text/plain": [
       "((455, 30), (114, 30), (455,), (114,))"
      ]
     },
     "execution_count": 2,
     "metadata": {},
     "output_type": "execute_result"
    }
   ],
   "source": [
    "import evalml\n",
    "from evalml import AutoMLSearch\n",
    "X, y = evalml.demos.load_breast_cancer()\n",
    "X_train, X_test, y_train, y_test = evalml.preprocessing.split_data(X, y, problem_type='binary')\n",
    "X_train.shape, X_test.shape, y_train.shape, y_test.shape"
   ]
  },
  {
   "cell_type": "markdown",
   "id": "overall-trouble",
   "metadata": {
    "papermill": {
     "duration": 0.212121,
     "end_time": "2021-05-04T02:06:59.654117",
     "exception": false,
     "start_time": "2021-05-04T02:06:59.441996",
     "status": "completed"
    },
    "tags": []
   },
   "source": [
    "# Run the search for the best classification model."
   ]
  },
  {
   "cell_type": "code",
   "execution_count": 3,
   "id": "worse-breakfast",
   "metadata": {
    "execution": {
     "iopub.execute_input": "2021-05-04T02:07:00.129845Z",
     "iopub.status.busy": "2021-05-04T02:07:00.128649Z",
     "iopub.status.idle": "2021-05-04T02:07:22.407300Z",
     "shell.execute_reply": "2021-05-04T02:07:22.408347Z"
    },
    "papermill": {
     "duration": 22.520834,
     "end_time": "2021-05-04T02:07:22.408662",
     "exception": false,
     "start_time": "2021-05-04T02:06:59.887828",
     "status": "completed"
    },
    "tags": []
   },
   "outputs": [
    {
     "name": "stdout",
     "output_type": "stream",
     "text": [
      "Using default limit of max_batches=1.\n",
      "\n",
      "Generating pipelines to search over...\n"
     ]
    },
    {
     "data": {
      "text/html": [
       "<style type='text/css'>\n",
       ".datatable table.frame { margin-bottom: 0; }\n",
       ".datatable table.frame thead { border-bottom: none; }\n",
       ".datatable table.frame tr.coltypes td {  color: #FFFFFF;  line-height: 6px;  padding: 0 0.5em;}\n",
       ".datatable .bool    { background: #DDDD99; }\n",
       ".datatable .object  { background: #565656; }\n",
       ".datatable .int     { background: #5D9E5D; }\n",
       ".datatable .float   { background: #4040CC; }\n",
       ".datatable .str     { background: #CC4040; }\n",
       ".datatable .row_index {  background: var(--jp-border-color3);  border-right: 1px solid var(--jp-border-color0);  color: var(--jp-ui-font-color3);  font-size: 9px;}\n",
       ".datatable .frame tr.coltypes .row_index {  background: var(--jp-border-color0);}\n",
       ".datatable th:nth-child(2) { padding-left: 12px; }\n",
       ".datatable .hellipsis {  color: var(--jp-cell-editor-border-color);}\n",
       ".datatable .vellipsis {  background: var(--jp-layout-color0);  color: var(--jp-cell-editor-border-color);}\n",
       ".datatable .na {  color: var(--jp-cell-editor-border-color);  font-size: 80%;}\n",
       ".datatable .footer { font-size: 9px; }\n",
       ".datatable .frame_dimensions {  background: var(--jp-border-color3);  border-top: 1px solid var(--jp-border-color0);  color: var(--jp-ui-font-color3);  display: inline-block;  opacity: 0.6;  padding: 1px 10px 1px 5px;}\n",
       "</style>\n"
      ],
      "text/plain": [
       "<IPython.core.display.HTML object>"
      ]
     },
     "metadata": {},
     "output_type": "display_data"
    },
    {
     "name": "stdout",
     "output_type": "stream",
     "text": [
      "\n",
      "*****************************\n",
      "* Beginning pipeline search *\n",
      "*****************************\n",
      "\n",
      "Optimizing for Log Loss Binary. \n",
      "Lower score is better.\n",
      "\n",
      "Using SequentialEngine to train and score pipelines.\n",
      "Searching up to 1 batches for a total of 9 pipelines. \n",
      "Allowed model families: random_forest, xgboost, decision_tree, linear_model, catboost, extra_trees, lightgbm\n",
      "\n"
     ]
    },
    {
     "data": {
      "application/vnd.jupyter.widget-view+json": {
       "model_id": "2f350ad6892b4133956fb80a122070b7",
       "version_major": 2,
       "version_minor": 0
      },
      "text/plain": [
       "FigureWidget({\n",
       "    'data': [{'mode': 'lines+markers',\n",
       "              'name': 'Best Score',\n",
       "              'type'…"
      ]
     },
     "metadata": {},
     "output_type": "display_data"
    },
    {
     "name": "stdout",
     "output_type": "stream",
     "text": [
      "Evaluating Baseline Pipeline: Mode Baseline Binary Classification Pipeline\n",
      "Mode Baseline Binary Classification Pipeline:\n",
      "\tStarting cross validation\n",
      "\tFinished cross validation - mean Log Loss Binary: 12.904\n",
      "\n",
      "*****************************\n",
      "* Evaluating Batch Number 1 *\n",
      "*****************************\n",
      "\n",
      "Decision Tree Classifier w/ Imputer:\n",
      "\tStarting cross validation\n",
      "\tFinished cross validation - mean Log Loss Binary: 2.432\n",
      "\tHigh coefficient of variation (cv >= 0.2) within cross validation scores.\n",
      "\tDecision Tree Classifier w/ Imputer may not perform as estimated on unseen data.\n",
      "Extra Trees Classifier w/ Imputer:\n",
      "\tStarting cross validation\n",
      "\tFinished cross validation - mean Log Loss Binary: 0.137\n",
      "CatBoost Classifier w/ Imputer:\n",
      "\tStarting cross validation\n",
      "\tFinished cross validation - mean Log Loss Binary: 0.386\n",
      "Random Forest Classifier w/ Imputer:\n",
      "\tStarting cross validation\n",
      "\tFinished cross validation - mean Log Loss Binary: 0.120\n",
      "LightGBM Classifier w/ Imputer:\n",
      "\tStarting cross validation\n",
      "\tFinished cross validation - mean Log Loss Binary: 0.133\n",
      "XGBoost Classifier w/ Imputer:\n",
      "\tStarting cross validation\n",
      "\tFinished cross validation - mean Log Loss Binary: 0.113\n",
      "\tHigh coefficient of variation (cv >= 0.2) within cross validation scores.\n",
      "\tXGBoost Classifier w/ Imputer may not perform as estimated on unseen data.\n",
      "Elastic Net Classifier w/ Imputer + Standard Scaler:\n",
      "\tStarting cross validation\n",
      "\tFinished cross validation - mean Log Loss Binary: 0.506\n",
      "Logistic Regression Classifier w/ Imputer + Standard Scaler:\n",
      "\tStarting cross validation\n",
      "\tFinished cross validation - mean Log Loss Binary: 0.094\n",
      "\tHigh coefficient of variation (cv >= 0.2) within cross validation scores.\n",
      "\tLogistic Regression Classifier w/ Imputer + Standard Scaler may not perform as estimated on unseen data.\n",
      "\n",
      "Search finished after 00:18            \n",
      "Best pipeline: Logistic Regression Classifier w/ Imputer + Standard Scaler\n",
      "Best pipeline Log Loss Binary: 0.094015\n"
     ]
    }
   ],
   "source": [
    "automl = AutoMLSearch(X_train=X_train, y_train=y_train,   problem_type='binary')\n",
    "automl.search() "
   ]
  },
  {
   "cell_type": "markdown",
   "id": "alpha-wallpaper",
   "metadata": {
    "papermill": {
     "duration": 0.179942,
     "end_time": "2021-05-04T02:07:22.780182",
     "exception": false,
     "start_time": "2021-05-04T02:07:22.600240",
     "status": "completed"
    },
    "tags": []
   },
   "source": [
    "# Print model rankings and get the best pipeline."
   ]
  },
  {
   "cell_type": "code",
   "execution_count": 4,
   "id": "changing-demonstration",
   "metadata": {
    "execution": {
     "iopub.execute_input": "2021-05-04T02:07:23.127286Z",
     "iopub.status.busy": "2021-05-04T02:07:23.126167Z",
     "iopub.status.idle": "2021-05-04T02:07:23.158998Z",
     "shell.execute_reply": "2021-05-04T02:07:23.159649Z"
    },
    "papermill": {
     "duration": 0.213828,
     "end_time": "2021-05-04T02:07:23.159893",
     "exception": false,
     "start_time": "2021-05-04T02:07:22.946065",
     "status": "completed"
    },
    "tags": []
   },
   "outputs": [
    {
     "data": {
      "text/html": [
       "<div>\n",
       "<style scoped>\n",
       "    .dataframe tbody tr th:only-of-type {\n",
       "        vertical-align: middle;\n",
       "    }\n",
       "\n",
       "    .dataframe tbody tr th {\n",
       "        vertical-align: top;\n",
       "    }\n",
       "\n",
       "    .dataframe thead th {\n",
       "        text-align: right;\n",
       "    }\n",
       "</style>\n",
       "<table border=\"1\" class=\"dataframe\">\n",
       "  <thead>\n",
       "    <tr style=\"text-align: right;\">\n",
       "      <th></th>\n",
       "      <th>id</th>\n",
       "      <th>pipeline_name</th>\n",
       "      <th>mean_cv_score</th>\n",
       "      <th>standard_deviation_cv_score</th>\n",
       "      <th>validation_score</th>\n",
       "      <th>percent_better_than_baseline</th>\n",
       "      <th>high_variance_cv</th>\n",
       "      <th>parameters</th>\n",
       "    </tr>\n",
       "  </thead>\n",
       "  <tbody>\n",
       "    <tr>\n",
       "      <th>0</th>\n",
       "      <td>8</td>\n",
       "      <td>Logistic Regression Classifier w/ Imputer + St...</td>\n",
       "      <td>0.094015</td>\n",
       "      <td>0.033791</td>\n",
       "      <td>0.060529</td>\n",
       "      <td>99.271446</td>\n",
       "      <td>True</td>\n",
       "      <td>{'Imputer': {'categorical_impute_strategy': 'm...</td>\n",
       "    </tr>\n",
       "    <tr>\n",
       "      <th>1</th>\n",
       "      <td>6</td>\n",
       "      <td>XGBoost Classifier w/ Imputer</td>\n",
       "      <td>0.113098</td>\n",
       "      <td>0.038613</td>\n",
       "      <td>0.069048</td>\n",
       "      <td>99.123568</td>\n",
       "      <td>True</td>\n",
       "      <td>{'Imputer': {'categorical_impute_strategy': 'm...</td>\n",
       "    </tr>\n",
       "    <tr>\n",
       "      <th>2</th>\n",
       "      <td>4</td>\n",
       "      <td>Random Forest Classifier w/ Imputer</td>\n",
       "      <td>0.119972</td>\n",
       "      <td>0.019487</td>\n",
       "      <td>0.099614</td>\n",
       "      <td>99.070299</td>\n",
       "      <td>False</td>\n",
       "      <td>{'Imputer': {'categorical_impute_strategy': 'm...</td>\n",
       "    </tr>\n",
       "    <tr>\n",
       "      <th>3</th>\n",
       "      <td>5</td>\n",
       "      <td>LightGBM Classifier w/ Imputer</td>\n",
       "      <td>0.132722</td>\n",
       "      <td>0.024842</td>\n",
       "      <td>0.110679</td>\n",
       "      <td>98.971496</td>\n",
       "      <td>False</td>\n",
       "      <td>{'Imputer': {'categorical_impute_strategy': 'm...</td>\n",
       "    </tr>\n",
       "    <tr>\n",
       "      <th>4</th>\n",
       "      <td>2</td>\n",
       "      <td>Extra Trees Classifier w/ Imputer</td>\n",
       "      <td>0.136959</td>\n",
       "      <td>0.022862</td>\n",
       "      <td>0.111169</td>\n",
       "      <td>98.938661</td>\n",
       "      <td>False</td>\n",
       "      <td>{'Imputer': {'categorical_impute_strategy': 'm...</td>\n",
       "    </tr>\n",
       "    <tr>\n",
       "      <th>5</th>\n",
       "      <td>3</td>\n",
       "      <td>CatBoost Classifier w/ Imputer</td>\n",
       "      <td>0.386387</td>\n",
       "      <td>0.011583</td>\n",
       "      <td>0.374338</td>\n",
       "      <td>97.005774</td>\n",
       "      <td>False</td>\n",
       "      <td>{'Imputer': {'categorical_impute_strategy': 'm...</td>\n",
       "    </tr>\n",
       "    <tr>\n",
       "      <th>6</th>\n",
       "      <td>7</td>\n",
       "      <td>Elastic Net Classifier w/ Imputer + Standard S...</td>\n",
       "      <td>0.505862</td>\n",
       "      <td>0.008317</td>\n",
       "      <td>0.496767</td>\n",
       "      <td>96.079926</td>\n",
       "      <td>False</td>\n",
       "      <td>{'Imputer': {'categorical_impute_strategy': 'm...</td>\n",
       "    </tr>\n",
       "    <tr>\n",
       "      <th>7</th>\n",
       "      <td>1</td>\n",
       "      <td>Decision Tree Classifier w/ Imputer</td>\n",
       "      <td>2.431916</td>\n",
       "      <td>0.531935</td>\n",
       "      <td>2.726782</td>\n",
       "      <td>81.154350</td>\n",
       "      <td>True</td>\n",
       "      <td>{'Imputer': {'categorical_impute_strategy': 'm...</td>\n",
       "    </tr>\n",
       "    <tr>\n",
       "      <th>8</th>\n",
       "      <td>0</td>\n",
       "      <td>Mode Baseline Binary Classification Pipeline</td>\n",
       "      <td>12.904388</td>\n",
       "      <td>0.082537</td>\n",
       "      <td>12.952041</td>\n",
       "      <td>0.000000</td>\n",
       "      <td>False</td>\n",
       "      <td>{'Baseline Classifier': {'strategy': 'mode'}}</td>\n",
       "    </tr>\n",
       "  </tbody>\n",
       "</table>\n",
       "</div>"
      ],
      "text/plain": [
       "   id                                      pipeline_name  mean_cv_score  \\\n",
       "0   8  Logistic Regression Classifier w/ Imputer + St...       0.094015   \n",
       "1   6                      XGBoost Classifier w/ Imputer       0.113098   \n",
       "2   4                Random Forest Classifier w/ Imputer       0.119972   \n",
       "3   5                     LightGBM Classifier w/ Imputer       0.132722   \n",
       "4   2                  Extra Trees Classifier w/ Imputer       0.136959   \n",
       "5   3                     CatBoost Classifier w/ Imputer       0.386387   \n",
       "6   7  Elastic Net Classifier w/ Imputer + Standard S...       0.505862   \n",
       "7   1                Decision Tree Classifier w/ Imputer       2.431916   \n",
       "8   0       Mode Baseline Binary Classification Pipeline      12.904388   \n",
       "\n",
       "   standard_deviation_cv_score  validation_score  \\\n",
       "0                     0.033791          0.060529   \n",
       "1                     0.038613          0.069048   \n",
       "2                     0.019487          0.099614   \n",
       "3                     0.024842          0.110679   \n",
       "4                     0.022862          0.111169   \n",
       "5                     0.011583          0.374338   \n",
       "6                     0.008317          0.496767   \n",
       "7                     0.531935          2.726782   \n",
       "8                     0.082537         12.952041   \n",
       "\n",
       "   percent_better_than_baseline  high_variance_cv  \\\n",
       "0                     99.271446              True   \n",
       "1                     99.123568              True   \n",
       "2                     99.070299             False   \n",
       "3                     98.971496             False   \n",
       "4                     98.938661             False   \n",
       "5                     97.005774             False   \n",
       "6                     96.079926             False   \n",
       "7                     81.154350              True   \n",
       "8                      0.000000             False   \n",
       "\n",
       "                                          parameters  \n",
       "0  {'Imputer': {'categorical_impute_strategy': 'm...  \n",
       "1  {'Imputer': {'categorical_impute_strategy': 'm...  \n",
       "2  {'Imputer': {'categorical_impute_strategy': 'm...  \n",
       "3  {'Imputer': {'categorical_impute_strategy': 'm...  \n",
       "4  {'Imputer': {'categorical_impute_strategy': 'm...  \n",
       "5  {'Imputer': {'categorical_impute_strategy': 'm...  \n",
       "6  {'Imputer': {'categorical_impute_strategy': 'm...  \n",
       "7  {'Imputer': {'categorical_impute_strategy': 'm...  \n",
       "8      {'Baseline Classifier': {'strategy': 'mode'}}  "
      ]
     },
     "execution_count": 4,
     "metadata": {},
     "output_type": "execute_result"
    }
   ],
   "source": [
    "automl.rankings"
   ]
  },
  {
   "cell_type": "code",
   "execution_count": 5,
   "id": "sustainable-concentrate",
   "metadata": {
    "execution": {
     "iopub.execute_input": "2021-05-04T02:07:23.524706Z",
     "iopub.status.busy": "2021-05-04T02:07:23.523843Z",
     "iopub.status.idle": "2021-05-04T02:07:23.600617Z",
     "shell.execute_reply": "2021-05-04T02:07:23.599993Z"
    },
    "papermill": {
     "duration": 0.267139,
     "end_time": "2021-05-04T02:07:23.600802",
     "exception": false,
     "start_time": "2021-05-04T02:07:23.333663",
     "status": "completed"
    },
    "tags": []
   },
   "outputs": [
    {
     "name": "stdout",
     "output_type": "stream",
     "text": [
      "\n",
      "***************************************************************\n",
      "* Logistic Regression Classifier w/ Imputer + Standard Scaler *\n",
      "***************************************************************\n",
      "\n",
      "Problem Type: binary\n",
      "Model Family: Linear\n",
      "\n",
      "Pipeline Steps\n",
      "==============\n",
      "1. Imputer\n",
      "\t * categorical_impute_strategy : most_frequent\n",
      "\t * numeric_impute_strategy : mean\n",
      "\t * categorical_fill_value : None\n",
      "\t * numeric_fill_value : None\n",
      "2. Standard Scaler\n",
      "3. Logistic Regression Classifier\n",
      "\t * penalty : l2\n",
      "\t * C : 1.0\n",
      "\t * n_jobs : -1\n",
      "\t * multi_class : auto\n",
      "\t * solver : lbfgs\n",
      "\n",
      "Training\n",
      "========\n",
      "Training for binary problems.\n",
      "Total training time (including CV): 4.8 seconds\n",
      "\n",
      "Cross Validation\n",
      "----------------\n",
      "             Log Loss Binary  MCC Binary   AUC  Precision    F1  Balanced Accuracy Binary  Accuracy Binary  Sensitivity at Low Alert Rates # Training # Validation\n",
      "0                      0.061       0.958 0.997      0.966 0.974                     0.981            0.980                           0.412        303          152\n",
      "1                      0.128       0.930 0.984      0.981 0.955                     0.960            0.967                           0.333        303          152\n",
      "2                      0.093       0.944 0.993      1.000 0.963                     0.964            0.974                           0.261        304          151\n",
      "mean                   0.094       0.944 0.991      0.982 0.964                     0.968            0.974                           0.335          -            -\n",
      "std                    0.034       0.014 0.006      0.017 0.010                     0.011            0.007                           0.075          -            -\n",
      "coef of var            0.359       0.015 0.007      0.018 0.010                     0.011            0.007                           0.225          -            -\n"
     ]
    }
   ],
   "source": [
    "automl.describe_pipeline(automl.rankings.iloc[0][\"id\"])"
   ]
  },
  {
   "cell_type": "markdown",
   "id": "framed-gallery",
   "metadata": {
    "papermill": {
     "duration": 0.177562,
     "end_time": "2021-05-04T02:07:23.964255",
     "exception": false,
     "start_time": "2021-05-04T02:07:23.786693",
     "status": "completed"
    },
    "tags": []
   },
   "source": [
    "# Logistic Regression is the best model for the binary log-loss objective. Let’s change it to the area under the Precision-Recall curve and see how that impacts the best model."
   ]
  },
  {
   "cell_type": "code",
   "execution_count": 6,
   "id": "convenient-switch",
   "metadata": {
    "execution": {
     "iopub.execute_input": "2021-05-04T02:07:24.320609Z",
     "iopub.status.busy": "2021-05-04T02:07:24.319657Z",
     "iopub.status.idle": "2021-05-04T02:07:37.625465Z",
     "shell.execute_reply": "2021-05-04T02:07:37.624926Z"
    },
    "papermill": {
     "duration": 13.486238,
     "end_time": "2021-05-04T02:07:37.625625",
     "exception": false,
     "start_time": "2021-05-04T02:07:24.139387",
     "status": "completed"
    },
    "tags": []
   },
   "outputs": [
    {
     "name": "stdout",
     "output_type": "stream",
     "text": [
      "Using default limit of max_batches=1.\n",
      "\n",
      "Generating pipelines to search over...\n",
      "\n",
      "*****************************\n",
      "* Beginning pipeline search *\n",
      "*****************************\n",
      "\n",
      "Optimizing for AUC. \n",
      "Greater score is better.\n",
      "\n",
      "Using SequentialEngine to train and score pipelines.\n",
      "Searching up to 1 batches for a total of 9 pipelines. \n",
      "Allowed model families: random_forest, xgboost, decision_tree, linear_model, catboost, extra_trees, lightgbm\n",
      "\n"
     ]
    },
    {
     "data": {
      "application/vnd.jupyter.widget-view+json": {
       "model_id": "d09729e3688141568b3367542c7f0d43",
       "version_major": 2,
       "version_minor": 0
      },
      "text/plain": [
       "FigureWidget({\n",
       "    'data': [{'mode': 'lines+markers',\n",
       "              'name': 'Best Score',\n",
       "              'type'…"
      ]
     },
     "metadata": {},
     "output_type": "display_data"
    },
    {
     "name": "stdout",
     "output_type": "stream",
     "text": [
      "Evaluating Baseline Pipeline: Mode Baseline Binary Classification Pipeline\n",
      "Mode Baseline Binary Classification Pipeline:\n",
      "\tStarting cross validation\n",
      "\tFinished cross validation - mean AUC: 0.500\n",
      "\n",
      "*****************************\n",
      "* Evaluating Batch Number 1 *\n",
      "*****************************\n",
      "\n",
      "Decision Tree Classifier w/ Imputer:\n",
      "\tStarting cross validation\n",
      "\tFinished cross validation - mean AUC: 0.923\n",
      "Extra Trees Classifier w/ Imputer:\n",
      "\tStarting cross validation\n",
      "\tFinished cross validation - mean AUC: 0.993\n",
      "CatBoost Classifier w/ Imputer:\n",
      "\tStarting cross validation\n",
      "\tFinished cross validation - mean AUC: 0.991\n",
      "Random Forest Classifier w/ Imputer:\n",
      "\tStarting cross validation\n",
      "\tFinished cross validation - mean AUC: 0.992\n",
      "LightGBM Classifier w/ Imputer:\n",
      "\tStarting cross validation\n",
      "\tFinished cross validation - mean AUC: 0.991\n",
      "XGBoost Classifier w/ Imputer:\n",
      "\tStarting cross validation\n",
      "\tFinished cross validation - mean AUC: 0.991\n",
      "Elastic Net Classifier w/ Imputer + Standard Scaler:\n",
      "\tStarting cross validation\n",
      "\tFinished cross validation - mean AUC: 0.985\n",
      "Logistic Regression Classifier w/ Imputer + Standard Scaler:\n",
      "\tStarting cross validation\n",
      "\tFinished cross validation - mean AUC: 0.991\n",
      "\n",
      "Search finished after 00:12            \n",
      "Best pipeline: Extra Trees Classifier w/ Imputer\n",
      "Best pipeline AUC: 0.992791\n"
     ]
    }
   ],
   "source": [
    "automl_auc = AutoMLSearch(X_train=X_train, y_train=y_train,\n",
    "                           problem_type='binary',\n",
    "                           objective='auc',\n",
    "                           additional_objectives=['f1', 'precision'],                    \n",
    "                           optimize_thresholds=True)\n",
    "automl_auc.search() "
   ]
  },
  {
   "cell_type": "markdown",
   "id": "informational-majority",
   "metadata": {
    "papermill": {
     "duration": 0.186618,
     "end_time": "2021-05-04T02:07:38.008300",
     "exception": false,
     "start_time": "2021-05-04T02:07:37.821682",
     "status": "completed"
    },
    "tags": []
   },
   "source": [
    "# Print model rankings and get the best pipeline."
   ]
  },
  {
   "cell_type": "code",
   "execution_count": 7,
   "id": "gothic-bolivia",
   "metadata": {
    "execution": {
     "iopub.execute_input": "2021-05-04T02:07:38.404694Z",
     "iopub.status.busy": "2021-05-04T02:07:38.404006Z",
     "iopub.status.idle": "2021-05-04T02:07:38.426056Z",
     "shell.execute_reply": "2021-05-04T02:07:38.425335Z"
    },
    "papermill": {
     "duration": 0.230849,
     "end_time": "2021-05-04T02:07:38.426213",
     "exception": false,
     "start_time": "2021-05-04T02:07:38.195364",
     "status": "completed"
    },
    "tags": []
   },
   "outputs": [
    {
     "data": {
      "text/html": [
       "<div>\n",
       "<style scoped>\n",
       "    .dataframe tbody tr th:only-of-type {\n",
       "        vertical-align: middle;\n",
       "    }\n",
       "\n",
       "    .dataframe tbody tr th {\n",
       "        vertical-align: top;\n",
       "    }\n",
       "\n",
       "    .dataframe thead th {\n",
       "        text-align: right;\n",
       "    }\n",
       "</style>\n",
       "<table border=\"1\" class=\"dataframe\">\n",
       "  <thead>\n",
       "    <tr style=\"text-align: right;\">\n",
       "      <th></th>\n",
       "      <th>id</th>\n",
       "      <th>pipeline_name</th>\n",
       "      <th>mean_cv_score</th>\n",
       "      <th>standard_deviation_cv_score</th>\n",
       "      <th>validation_score</th>\n",
       "      <th>percent_better_than_baseline</th>\n",
       "      <th>high_variance_cv</th>\n",
       "      <th>parameters</th>\n",
       "    </tr>\n",
       "  </thead>\n",
       "  <tbody>\n",
       "    <tr>\n",
       "      <th>0</th>\n",
       "      <td>2</td>\n",
       "      <td>Extra Trees Classifier w/ Imputer</td>\n",
       "      <td>0.992791</td>\n",
       "      <td>0.003920</td>\n",
       "      <td>0.995753</td>\n",
       "      <td>49.279119</td>\n",
       "      <td>False</td>\n",
       "      <td>{'Imputer': {'categorical_impute_strategy': 'm...</td>\n",
       "    </tr>\n",
       "    <tr>\n",
       "      <th>1</th>\n",
       "      <td>4</td>\n",
       "      <td>Random Forest Classifier w/ Imputer</td>\n",
       "      <td>0.992482</td>\n",
       "      <td>0.003840</td>\n",
       "      <td>0.994367</td>\n",
       "      <td>49.248175</td>\n",
       "      <td>False</td>\n",
       "      <td>{'Imputer': {'categorical_impute_strategy': 'm...</td>\n",
       "    </tr>\n",
       "    <tr>\n",
       "      <th>2</th>\n",
       "      <td>8</td>\n",
       "      <td>Logistic Regression Classifier w/ Imputer + St...</td>\n",
       "      <td>0.991342</td>\n",
       "      <td>0.006489</td>\n",
       "      <td>0.996676</td>\n",
       "      <td>49.134239</td>\n",
       "      <td>False</td>\n",
       "      <td>{'Imputer': {'categorical_impute_strategy': 'm...</td>\n",
       "    </tr>\n",
       "    <tr>\n",
       "      <th>3</th>\n",
       "      <td>3</td>\n",
       "      <td>CatBoost Classifier w/ Imputer</td>\n",
       "      <td>0.991305</td>\n",
       "      <td>0.003883</td>\n",
       "      <td>0.993906</td>\n",
       "      <td>49.130502</td>\n",
       "      <td>False</td>\n",
       "      <td>{'Imputer': {'categorical_impute_strategy': 'm...</td>\n",
       "    </tr>\n",
       "    <tr>\n",
       "      <th>4</th>\n",
       "      <td>6</td>\n",
       "      <td>XGBoost Classifier w/ Imputer</td>\n",
       "      <td>0.991265</td>\n",
       "      <td>0.004012</td>\n",
       "      <td>0.995568</td>\n",
       "      <td>49.126544</td>\n",
       "      <td>False</td>\n",
       "      <td>{'Imputer': {'categorical_impute_strategy': 'm...</td>\n",
       "    </tr>\n",
       "    <tr>\n",
       "      <th>5</th>\n",
       "      <td>5</td>\n",
       "      <td>LightGBM Classifier w/ Imputer</td>\n",
       "      <td>0.990700</td>\n",
       "      <td>0.001723</td>\n",
       "      <td>0.991505</td>\n",
       "      <td>49.070044</td>\n",
       "      <td>False</td>\n",
       "      <td>{'Imputer': {'categorical_impute_strategy': 'm...</td>\n",
       "    </tr>\n",
       "    <tr>\n",
       "      <th>6</th>\n",
       "      <td>7</td>\n",
       "      <td>Elastic Net Classifier w/ Imputer + Standard S...</td>\n",
       "      <td>0.984943</td>\n",
       "      <td>0.011105</td>\n",
       "      <td>0.996861</td>\n",
       "      <td>48.494262</td>\n",
       "      <td>False</td>\n",
       "      <td>{'Imputer': {'categorical_impute_strategy': 'm...</td>\n",
       "    </tr>\n",
       "    <tr>\n",
       "      <th>7</th>\n",
       "      <td>1</td>\n",
       "      <td>Decision Tree Classifier w/ Imputer</td>\n",
       "      <td>0.923371</td>\n",
       "      <td>0.018786</td>\n",
       "      <td>0.919298</td>\n",
       "      <td>42.337093</td>\n",
       "      <td>False</td>\n",
       "      <td>{'Imputer': {'categorical_impute_strategy': 'm...</td>\n",
       "    </tr>\n",
       "    <tr>\n",
       "      <th>8</th>\n",
       "      <td>0</td>\n",
       "      <td>Mode Baseline Binary Classification Pipeline</td>\n",
       "      <td>0.500000</td>\n",
       "      <td>0.000000</td>\n",
       "      <td>0.500000</td>\n",
       "      <td>0.000000</td>\n",
       "      <td>False</td>\n",
       "      <td>{'Baseline Classifier': {'strategy': 'mode'}}</td>\n",
       "    </tr>\n",
       "  </tbody>\n",
       "</table>\n",
       "</div>"
      ],
      "text/plain": [
       "   id                                      pipeline_name  mean_cv_score  \\\n",
       "0   2                  Extra Trees Classifier w/ Imputer       0.992791   \n",
       "1   4                Random Forest Classifier w/ Imputer       0.992482   \n",
       "2   8  Logistic Regression Classifier w/ Imputer + St...       0.991342   \n",
       "3   3                     CatBoost Classifier w/ Imputer       0.991305   \n",
       "4   6                      XGBoost Classifier w/ Imputer       0.991265   \n",
       "5   5                     LightGBM Classifier w/ Imputer       0.990700   \n",
       "6   7  Elastic Net Classifier w/ Imputer + Standard S...       0.984943   \n",
       "7   1                Decision Tree Classifier w/ Imputer       0.923371   \n",
       "8   0       Mode Baseline Binary Classification Pipeline       0.500000   \n",
       "\n",
       "   standard_deviation_cv_score  validation_score  \\\n",
       "0                     0.003920          0.995753   \n",
       "1                     0.003840          0.994367   \n",
       "2                     0.006489          0.996676   \n",
       "3                     0.003883          0.993906   \n",
       "4                     0.004012          0.995568   \n",
       "5                     0.001723          0.991505   \n",
       "6                     0.011105          0.996861   \n",
       "7                     0.018786          0.919298   \n",
       "8                     0.000000          0.500000   \n",
       "\n",
       "   percent_better_than_baseline  high_variance_cv  \\\n",
       "0                     49.279119             False   \n",
       "1                     49.248175             False   \n",
       "2                     49.134239             False   \n",
       "3                     49.130502             False   \n",
       "4                     49.126544             False   \n",
       "5                     49.070044             False   \n",
       "6                     48.494262             False   \n",
       "7                     42.337093             False   \n",
       "8                      0.000000             False   \n",
       "\n",
       "                                          parameters  \n",
       "0  {'Imputer': {'categorical_impute_strategy': 'm...  \n",
       "1  {'Imputer': {'categorical_impute_strategy': 'm...  \n",
       "2  {'Imputer': {'categorical_impute_strategy': 'm...  \n",
       "3  {'Imputer': {'categorical_impute_strategy': 'm...  \n",
       "4  {'Imputer': {'categorical_impute_strategy': 'm...  \n",
       "5  {'Imputer': {'categorical_impute_strategy': 'm...  \n",
       "6  {'Imputer': {'categorical_impute_strategy': 'm...  \n",
       "7  {'Imputer': {'categorical_impute_strategy': 'm...  \n",
       "8      {'Baseline Classifier': {'strategy': 'mode'}}  "
      ]
     },
     "execution_count": 7,
     "metadata": {},
     "output_type": "execute_result"
    }
   ],
   "source": [
    "automl_auc.rankings"
   ]
  },
  {
   "cell_type": "code",
   "execution_count": 8,
   "id": "thorough-poetry",
   "metadata": {
    "execution": {
     "iopub.execute_input": "2021-05-04T02:07:38.817492Z",
     "iopub.status.busy": "2021-05-04T02:07:38.811676Z",
     "iopub.status.idle": "2021-05-04T02:07:38.884496Z",
     "shell.execute_reply": "2021-05-04T02:07:38.883625Z"
    },
    "papermill": {
     "duration": 0.269776,
     "end_time": "2021-05-04T02:07:38.884680",
     "exception": false,
     "start_time": "2021-05-04T02:07:38.614904",
     "status": "completed"
    },
    "tags": []
   },
   "outputs": [
    {
     "name": "stdout",
     "output_type": "stream",
     "text": [
      "\n",
      "***************************************************************\n",
      "* Logistic Regression Classifier w/ Imputer + Standard Scaler *\n",
      "***************************************************************\n",
      "\n",
      "Problem Type: binary\n",
      "Model Family: Linear\n",
      "\n",
      "Pipeline Steps\n",
      "==============\n",
      "1. Imputer\n",
      "\t * categorical_impute_strategy : most_frequent\n",
      "\t * numeric_impute_strategy : mean\n",
      "\t * categorical_fill_value : None\n",
      "\t * numeric_fill_value : None\n",
      "2. Standard Scaler\n",
      "3. Logistic Regression Classifier\n",
      "\t * penalty : l2\n",
      "\t * C : 1.0\n",
      "\t * n_jobs : -1\n",
      "\t * multi_class : auto\n",
      "\t * solver : lbfgs\n",
      "\n",
      "Training\n",
      "========\n",
      "Training for binary problems.\n",
      "Total training time (including CV): 1.2 seconds\n",
      "\n",
      "Cross Validation\n",
      "----------------\n",
      "              AUC    F1  Precision # Training # Validation\n",
      "0           0.997 0.974      0.966        303          152\n",
      "1           0.984 0.955      0.981        303          152\n",
      "2           0.993 0.963      1.000        304          151\n",
      "mean        0.991 0.964      0.982          -            -\n",
      "std         0.006 0.010      0.017          -            -\n",
      "coef of var 0.007 0.010      0.018          -            -\n"
     ]
    }
   ],
   "source": [
    "automl_auc.describe_pipeline(automl.rankings.iloc[0][\"id\"])"
   ]
  },
  {
   "cell_type": "markdown",
   "id": "acceptable-travel",
   "metadata": {
    "papermill": {
     "duration": 0.207334,
     "end_time": "2021-05-04T02:07:39.301663",
     "exception": false,
     "start_time": "2021-05-04T02:07:39.094329",
     "status": "completed"
    },
    "tags": []
   },
   "source": [
    "# The optimal model has now changed to ExtraTreesClassifier. This model can be used to make predictions on the validation/test data or saved for use later"
   ]
  },
  {
   "cell_type": "code",
   "execution_count": 9,
   "id": "historic-advertiser",
   "metadata": {
    "execution": {
     "iopub.execute_input": "2021-05-04T02:07:39.713850Z",
     "iopub.status.busy": "2021-05-04T02:07:39.713174Z",
     "iopub.status.idle": "2021-05-04T02:07:39.958122Z",
     "shell.execute_reply": "2021-05-04T02:07:39.957117Z"
    },
    "papermill": {
     "duration": 0.453635,
     "end_time": "2021-05-04T02:07:39.958286",
     "exception": false,
     "start_time": "2021-05-04T02:07:39.504651",
     "status": "completed"
    },
    "tags": []
   },
   "outputs": [
    {
     "data": {
      "text/html": [
       "<div>\n",
       "<style scoped>\n",
       "    .dataframe tbody tr th:only-of-type {\n",
       "        vertical-align: middle;\n",
       "    }\n",
       "\n",
       "    .dataframe tbody tr th {\n",
       "        vertical-align: top;\n",
       "    }\n",
       "\n",
       "    .dataframe thead th {\n",
       "        text-align: right;\n",
       "    }\n",
       "</style>\n",
       "<table border=\"1\" class=\"dataframe\">\n",
       "  <thead>\n",
       "    <tr style=\"text-align: right;\">\n",
       "      <th></th>\n",
       "      <th>benign</th>\n",
       "      <th>malignant</th>\n",
       "    </tr>\n",
       "  </thead>\n",
       "  <tbody>\n",
       "    <tr>\n",
       "      <th>0</th>\n",
       "      <td>0.961507</td>\n",
       "      <td>0.038493</td>\n",
       "    </tr>\n",
       "    <tr>\n",
       "      <th>1</th>\n",
       "      <td>0.782505</td>\n",
       "      <td>0.217495</td>\n",
       "    </tr>\n",
       "    <tr>\n",
       "      <th>2</th>\n",
       "      <td>0.765290</td>\n",
       "      <td>0.234710</td>\n",
       "    </tr>\n",
       "    <tr>\n",
       "      <th>3</th>\n",
       "      <td>0.962348</td>\n",
       "      <td>0.037652</td>\n",
       "    </tr>\n",
       "    <tr>\n",
       "      <th>4</th>\n",
       "      <td>0.929774</td>\n",
       "      <td>0.070226</td>\n",
       "    </tr>\n",
       "    <tr>\n",
       "      <th>...</th>\n",
       "      <td>...</td>\n",
       "      <td>...</td>\n",
       "    </tr>\n",
       "    <tr>\n",
       "      <th>109</th>\n",
       "      <td>0.965529</td>\n",
       "      <td>0.034471</td>\n",
       "    </tr>\n",
       "    <tr>\n",
       "      <th>110</th>\n",
       "      <td>0.812739</td>\n",
       "      <td>0.187261</td>\n",
       "    </tr>\n",
       "    <tr>\n",
       "      <th>111</th>\n",
       "      <td>0.982346</td>\n",
       "      <td>0.017654</td>\n",
       "    </tr>\n",
       "    <tr>\n",
       "      <th>112</th>\n",
       "      <td>0.009876</td>\n",
       "      <td>0.990124</td>\n",
       "    </tr>\n",
       "    <tr>\n",
       "      <th>113</th>\n",
       "      <td>0.987538</td>\n",
       "      <td>0.012462</td>\n",
       "    </tr>\n",
       "  </tbody>\n",
       "</table>\n",
       "<p>114 rows × 2 columns</p>\n",
       "</div>"
      ],
      "text/plain": [
       "       benign  malignant\n",
       "0    0.961507   0.038493\n",
       "1    0.782505   0.217495\n",
       "2    0.765290   0.234710\n",
       "3    0.962348   0.037652\n",
       "4    0.929774   0.070226\n",
       "..        ...        ...\n",
       "109  0.965529   0.034471\n",
       "110  0.812739   0.187261\n",
       "111  0.982346   0.017654\n",
       "112  0.009876   0.990124\n",
       "113  0.987538   0.012462\n",
       "\n",
       "[114 rows x 2 columns]"
      ]
     },
     "execution_count": 9,
     "metadata": {},
     "output_type": "execute_result"
    }
   ],
   "source": [
    "best_model = automl_auc.best_pipeline\n",
    "best_model.save(\"./model.pkl\")\n",
    "old_model=automl.load('./model.pkl')\n",
    "old_model.predict_proba(X_test).to_dataframe()"
   ]
  }
 ],
 "metadata": {
  "kernelspec": {
   "display_name": "Python 3",
   "language": "python",
   "name": "python3"
  },
  "language_info": {
   "codemirror_mode": {
    "name": "ipython",
    "version": 3
   },
   "file_extension": ".py",
   "mimetype": "text/x-python",
   "name": "python",
   "nbconvert_exporter": "python",
   "pygments_lexer": "ipython3",
   "version": "3.7.9"
  },
  "papermill": {
   "default_parameters": {},
   "duration": 108.330169,
   "end_time": "2021-05-04T02:07:42.174254",
   "environment_variables": {},
   "exception": null,
   "input_path": "__notebook__.ipynb",
   "output_path": "__notebook__.ipynb",
   "parameters": {},
   "start_time": "2021-05-04T02:05:53.844085",
   "version": "2.3.2"
  },
  "widgets": {
   "application/vnd.jupyter.widget-state+json": {
    "state": {
     "2f350ad6892b4133956fb80a122070b7": {
      "model_module": "plotlywidget",
      "model_module_version": "^4.14.3",
      "model_name": "FigureModel",
      "state": {
       "_config": {
        "plotlyServerURL": "https://plot.ly"
       },
       "_data": [
        {
         "mode": "lines+markers",
         "name": "Best Score",
         "type": "scatter",
         "uid": "227571ed-be43-45f9-9727-232addad1c9a",
         "x": [],
         "y": []
        },
        {
         "marker": {
          "color": "gray"
         },
         "mode": "markers",
         "name": "Iter score",
         "type": "scatter",
         "uid": "db66c591-6d54-4431-9e8c-fca80fecc198",
         "x": [],
         "y": []
        }
       ],
       "_dom_classes": [],
       "_js2py_layoutDelta": {},
       "_js2py_pointsCallback": {},
       "_js2py_relayout": {},
       "_js2py_restyle": {},
       "_js2py_traceDeltas": {},
       "_js2py_update": {},
       "_last_layout_edit_id": 37,
       "_last_trace_edit_id": 37,
       "_layout": {
        "title": {
         "text": "Pipeline Search: Iteration vs. Log Loss Binary<br><sub>Gray marker indicates the score at current iteration</sub>"
        },
        "xaxis": {
         "rangemode": "tozero",
         "title": {
          "text": "Iteration"
         }
        },
        "yaxis": {
         "title": {
          "text": "Score"
         }
        }
       },
       "_model_module": "plotlywidget",
       "_model_module_version": "^4.14.3",
       "_model_name": "FigureModel",
       "_py2js_addTraces": {},
       "_py2js_animate": {},
       "_py2js_deleteTraces": {},
       "_py2js_moveTraces": {},
       "_py2js_relayout": null,
       "_py2js_removeLayoutProps": {},
       "_py2js_removeTraceProps": {},
       "_py2js_restyle": null,
       "_py2js_update": null,
       "_view_count": 0,
       "_view_module": "plotlywidget",
       "_view_module_version": "^4.14.3",
       "_view_name": "FigureView"
      }
     },
     "d09729e3688141568b3367542c7f0d43": {
      "model_module": "plotlywidget",
      "model_module_version": "^4.14.3",
      "model_name": "FigureModel",
      "state": {
       "_config": {
        "plotlyServerURL": "https://plot.ly"
       },
       "_data": [
        {
         "mode": "lines+markers",
         "name": "Best Score",
         "type": "scatter",
         "uid": "4d9f8ea6-aac2-4a9b-bdfc-e0c773759995",
         "x": [],
         "y": []
        },
        {
         "marker": {
          "color": "gray"
         },
         "mode": "markers",
         "name": "Iter score",
         "type": "scatter",
         "uid": "271cd628-5ff9-4358-9231-a931e76d1bee",
         "x": [],
         "y": []
        }
       ],
       "_dom_classes": [],
       "_js2py_layoutDelta": {},
       "_js2py_pointsCallback": {},
       "_js2py_relayout": {},
       "_js2py_restyle": {},
       "_js2py_traceDeltas": {},
       "_js2py_update": {},
       "_last_layout_edit_id": 37,
       "_last_trace_edit_id": 37,
       "_layout": {
        "title": {
         "text": "Pipeline Search: Iteration vs. AUC<br><sub>Gray marker indicates the score at current iteration</sub>"
        },
        "xaxis": {
         "rangemode": "tozero",
         "title": {
          "text": "Iteration"
         }
        },
        "yaxis": {
         "title": {
          "text": "Score"
         }
        }
       },
       "_model_module": "plotlywidget",
       "_model_module_version": "^4.14.3",
       "_model_name": "FigureModel",
       "_py2js_addTraces": {},
       "_py2js_animate": {},
       "_py2js_deleteTraces": {},
       "_py2js_moveTraces": {},
       "_py2js_relayout": null,
       "_py2js_removeLayoutProps": {},
       "_py2js_removeTraceProps": {},
       "_py2js_restyle": null,
       "_py2js_update": null,
       "_view_count": 0,
       "_view_module": "plotlywidget",
       "_view_module_version": "^4.14.3",
       "_view_name": "FigureView"
      }
     }
    },
    "version_major": 2,
    "version_minor": 0
   }
  }
 },
 "nbformat": 4,
 "nbformat_minor": 5
}
